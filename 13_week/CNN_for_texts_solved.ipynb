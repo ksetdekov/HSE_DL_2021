{
  "nbformat": 4,
  "nbformat_minor": 0,
  "metadata": {
    "colab": {
      "name": "CNN_for_texts_solved.ipynb",
      "provenance": [],
      "collapsed_sections": []
    },
    "kernelspec": {
      "display_name": "Python 3",
      "language": "python",
      "name": "python3"
    },
    "language_info": {
      "codemirror_mode": {
        "name": "ipython",
        "version": 3
      },
      "file_extension": ".py",
      "mimetype": "text/x-python",
      "name": "python",
      "nbconvert_exporter": "python",
      "pygments_lexer": "ipython3",
      "version": "3.5.2"
    },
    "widgets": {
      "application/vnd.jupyter.widget-state+json": {
        "bd5aa160f6aa484ba1bcbd605b28e68c": {
          "model_module": "@jupyter-widgets/controls",
          "model_name": "HBoxModel",
          "model_module_version": "1.5.0",
          "state": {
            "_view_name": "HBoxView",
            "_dom_classes": [],
            "_model_name": "HBoxModel",
            "_view_module": "@jupyter-widgets/controls",
            "_model_module_version": "1.5.0",
            "_view_count": null,
            "_view_module_version": "1.5.0",
            "box_style": "",
            "layout": "IPY_MODEL_c0462acc908b4ca9b5404c3b729e4127",
            "_model_module": "@jupyter-widgets/controls",
            "children": [
              "IPY_MODEL_9a9bf6312cec49d3b52de4e9fa13b055",
              "IPY_MODEL_3aa7061afeba442bbccef7767711bb02",
              "IPY_MODEL_494959fdd4ba4640977a715f18642f9b"
            ]
          }
        },
        "c0462acc908b4ca9b5404c3b729e4127": {
          "model_module": "@jupyter-widgets/base",
          "model_name": "LayoutModel",
          "model_module_version": "1.2.0",
          "state": {
            "_view_name": "LayoutView",
            "grid_template_rows": null,
            "right": null,
            "justify_content": null,
            "_view_module": "@jupyter-widgets/base",
            "overflow": null,
            "_model_module_version": "1.2.0",
            "_view_count": null,
            "flex_flow": null,
            "width": null,
            "min_width": null,
            "border": null,
            "align_items": null,
            "bottom": null,
            "_model_module": "@jupyter-widgets/base",
            "top": null,
            "grid_column": null,
            "overflow_y": null,
            "overflow_x": null,
            "grid_auto_flow": null,
            "grid_area": null,
            "grid_template_columns": null,
            "flex": null,
            "_model_name": "LayoutModel",
            "justify_items": null,
            "grid_row": null,
            "max_height": null,
            "align_content": null,
            "visibility": null,
            "align_self": null,
            "height": null,
            "min_height": null,
            "padding": null,
            "grid_auto_rows": null,
            "grid_gap": null,
            "max_width": null,
            "order": null,
            "_view_module_version": "1.2.0",
            "grid_template_areas": null,
            "object_position": null,
            "object_fit": null,
            "grid_auto_columns": null,
            "margin": null,
            "display": null,
            "left": null
          }
        },
        "9a9bf6312cec49d3b52de4e9fa13b055": {
          "model_module": "@jupyter-widgets/controls",
          "model_name": "HTMLModel",
          "model_module_version": "1.5.0",
          "state": {
            "_view_name": "HTMLView",
            "style": "IPY_MODEL_abffe3c3cbd146f7820e209755c423bd",
            "_dom_classes": [],
            "description": "",
            "_model_name": "HTMLModel",
            "placeholder": "​",
            "_view_module": "@jupyter-widgets/controls",
            "_model_module_version": "1.5.0",
            "value": "",
            "_view_count": null,
            "_view_module_version": "1.5.0",
            "description_tooltip": null,
            "_model_module": "@jupyter-widgets/controls",
            "layout": "IPY_MODEL_0881fafdd6cf407f80b8fd5a7b5ee411"
          }
        },
        "3aa7061afeba442bbccef7767711bb02": {
          "model_module": "@jupyter-widgets/controls",
          "model_name": "FloatProgressModel",
          "model_module_version": "1.5.0",
          "state": {
            "_view_name": "ProgressView",
            "style": "IPY_MODEL_d048009317ec42709bf474b5531beea0",
            "_dom_classes": [],
            "description": "",
            "_model_name": "FloatProgressModel",
            "bar_style": "info",
            "max": 1,
            "_view_module": "@jupyter-widgets/controls",
            "_model_module_version": "1.5.0",
            "value": 1,
            "_view_count": null,
            "_view_module_version": "1.5.0",
            "orientation": "horizontal",
            "min": 0,
            "description_tooltip": null,
            "_model_module": "@jupyter-widgets/controls",
            "layout": "IPY_MODEL_1892353c9ece44c5a4db3a1db6cd85e1"
          }
        },
        "494959fdd4ba4640977a715f18642f9b": {
          "model_module": "@jupyter-widgets/controls",
          "model_name": "HTMLModel",
          "model_module_version": "1.5.0",
          "state": {
            "_view_name": "HTMLView",
            "style": "IPY_MODEL_b772845b1f7c4e0b8a663ca031d4f05a",
            "_dom_classes": [],
            "description": "",
            "_model_name": "HTMLModel",
            "placeholder": "​",
            "_view_module": "@jupyter-widgets/controls",
            "_model_module_version": "1.5.0",
            "value": " 89/? [00:20&lt;00:00,  5.24it/s]",
            "_view_count": null,
            "_view_module_version": "1.5.0",
            "description_tooltip": null,
            "_model_module": "@jupyter-widgets/controls",
            "layout": "IPY_MODEL_6b219670059443b097ae5db721b33269"
          }
        },
        "abffe3c3cbd146f7820e209755c423bd": {
          "model_module": "@jupyter-widgets/controls",
          "model_name": "DescriptionStyleModel",
          "model_module_version": "1.5.0",
          "state": {
            "_view_name": "StyleView",
            "_model_name": "DescriptionStyleModel",
            "description_width": "",
            "_view_module": "@jupyter-widgets/base",
            "_model_module_version": "1.5.0",
            "_view_count": null,
            "_view_module_version": "1.2.0",
            "_model_module": "@jupyter-widgets/controls"
          }
        },
        "0881fafdd6cf407f80b8fd5a7b5ee411": {
          "model_module": "@jupyter-widgets/base",
          "model_name": "LayoutModel",
          "model_module_version": "1.2.0",
          "state": {
            "_view_name": "LayoutView",
            "grid_template_rows": null,
            "right": null,
            "justify_content": null,
            "_view_module": "@jupyter-widgets/base",
            "overflow": null,
            "_model_module_version": "1.2.0",
            "_view_count": null,
            "flex_flow": null,
            "width": null,
            "min_width": null,
            "border": null,
            "align_items": null,
            "bottom": null,
            "_model_module": "@jupyter-widgets/base",
            "top": null,
            "grid_column": null,
            "overflow_y": null,
            "overflow_x": null,
            "grid_auto_flow": null,
            "grid_area": null,
            "grid_template_columns": null,
            "flex": null,
            "_model_name": "LayoutModel",
            "justify_items": null,
            "grid_row": null,
            "max_height": null,
            "align_content": null,
            "visibility": null,
            "align_self": null,
            "height": null,
            "min_height": null,
            "padding": null,
            "grid_auto_rows": null,
            "grid_gap": null,
            "max_width": null,
            "order": null,
            "_view_module_version": "1.2.0",
            "grid_template_areas": null,
            "object_position": null,
            "object_fit": null,
            "grid_auto_columns": null,
            "margin": null,
            "display": null,
            "left": null
          }
        },
        "d048009317ec42709bf474b5531beea0": {
          "model_module": "@jupyter-widgets/controls",
          "model_name": "ProgressStyleModel",
          "model_module_version": "1.5.0",
          "state": {
            "_view_name": "StyleView",
            "_model_name": "ProgressStyleModel",
            "description_width": "",
            "_view_module": "@jupyter-widgets/base",
            "_model_module_version": "1.5.0",
            "_view_count": null,
            "_view_module_version": "1.2.0",
            "bar_color": null,
            "_model_module": "@jupyter-widgets/controls"
          }
        },
        "1892353c9ece44c5a4db3a1db6cd85e1": {
          "model_module": "@jupyter-widgets/base",
          "model_name": "LayoutModel",
          "model_module_version": "1.2.0",
          "state": {
            "_view_name": "LayoutView",
            "grid_template_rows": null,
            "right": null,
            "justify_content": null,
            "_view_module": "@jupyter-widgets/base",
            "overflow": null,
            "_model_module_version": "1.2.0",
            "_view_count": null,
            "flex_flow": null,
            "width": "20px",
            "min_width": null,
            "border": null,
            "align_items": null,
            "bottom": null,
            "_model_module": "@jupyter-widgets/base",
            "top": null,
            "grid_column": null,
            "overflow_y": null,
            "overflow_x": null,
            "grid_auto_flow": null,
            "grid_area": null,
            "grid_template_columns": null,
            "flex": null,
            "_model_name": "LayoutModel",
            "justify_items": null,
            "grid_row": null,
            "max_height": null,
            "align_content": null,
            "visibility": null,
            "align_self": null,
            "height": null,
            "min_height": null,
            "padding": null,
            "grid_auto_rows": null,
            "grid_gap": null,
            "max_width": null,
            "order": null,
            "_view_module_version": "1.2.0",
            "grid_template_areas": null,
            "object_position": null,
            "object_fit": null,
            "grid_auto_columns": null,
            "margin": null,
            "display": null,
            "left": null
          }
        },
        "b772845b1f7c4e0b8a663ca031d4f05a": {
          "model_module": "@jupyter-widgets/controls",
          "model_name": "DescriptionStyleModel",
          "model_module_version": "1.5.0",
          "state": {
            "_view_name": "StyleView",
            "_model_name": "DescriptionStyleModel",
            "description_width": "",
            "_view_module": "@jupyter-widgets/base",
            "_model_module_version": "1.5.0",
            "_view_count": null,
            "_view_module_version": "1.2.0",
            "_model_module": "@jupyter-widgets/controls"
          }
        },
        "6b219670059443b097ae5db721b33269": {
          "model_module": "@jupyter-widgets/base",
          "model_name": "LayoutModel",
          "model_module_version": "1.2.0",
          "state": {
            "_view_name": "LayoutView",
            "grid_template_rows": null,
            "right": null,
            "justify_content": null,
            "_view_module": "@jupyter-widgets/base",
            "overflow": null,
            "_model_module_version": "1.2.0",
            "_view_count": null,
            "flex_flow": null,
            "width": null,
            "min_width": null,
            "border": null,
            "align_items": null,
            "bottom": null,
            "_model_module": "@jupyter-widgets/base",
            "top": null,
            "grid_column": null,
            "overflow_y": null,
            "overflow_x": null,
            "grid_auto_flow": null,
            "grid_area": null,
            "grid_template_columns": null,
            "flex": null,
            "_model_name": "LayoutModel",
            "justify_items": null,
            "grid_row": null,
            "max_height": null,
            "align_content": null,
            "visibility": null,
            "align_self": null,
            "height": null,
            "min_height": null,
            "padding": null,
            "grid_auto_rows": null,
            "grid_gap": null,
            "max_width": null,
            "order": null,
            "_view_module_version": "1.2.0",
            "grid_template_areas": null,
            "object_position": null,
            "object_fit": null,
            "grid_auto_columns": null,
            "margin": null,
            "display": null,
            "left": null
          }
        },
        "8fea42b46e494b3fa0ebc09ea8ec671f": {
          "model_module": "@jupyter-widgets/controls",
          "model_name": "HBoxModel",
          "model_module_version": "1.5.0",
          "state": {
            "_view_name": "HBoxView",
            "_dom_classes": [],
            "_model_name": "HBoxModel",
            "_view_module": "@jupyter-widgets/controls",
            "_model_module_version": "1.5.0",
            "_view_count": null,
            "_view_module_version": "1.5.0",
            "box_style": "",
            "layout": "IPY_MODEL_da3ca4c5af47434a809e65305d79246b",
            "_model_module": "@jupyter-widgets/controls",
            "children": [
              "IPY_MODEL_5c58dd823e524c3595acf077ee8ce0e6",
              "IPY_MODEL_b360a212f82141b681fcb6235f658e1c",
              "IPY_MODEL_612d62cb805849a884552b5dee3e9c5e"
            ]
          }
        },
        "da3ca4c5af47434a809e65305d79246b": {
          "model_module": "@jupyter-widgets/base",
          "model_name": "LayoutModel",
          "model_module_version": "1.2.0",
          "state": {
            "_view_name": "LayoutView",
            "grid_template_rows": null,
            "right": null,
            "justify_content": null,
            "_view_module": "@jupyter-widgets/base",
            "overflow": null,
            "_model_module_version": "1.2.0",
            "_view_count": null,
            "flex_flow": null,
            "width": null,
            "min_width": null,
            "border": null,
            "align_items": null,
            "bottom": null,
            "_model_module": "@jupyter-widgets/base",
            "top": null,
            "grid_column": null,
            "overflow_y": null,
            "overflow_x": null,
            "grid_auto_flow": null,
            "grid_area": null,
            "grid_template_columns": null,
            "flex": null,
            "_model_name": "LayoutModel",
            "justify_items": null,
            "grid_row": null,
            "max_height": null,
            "align_content": null,
            "visibility": null,
            "align_self": null,
            "height": null,
            "min_height": null,
            "padding": null,
            "grid_auto_rows": null,
            "grid_gap": null,
            "max_width": null,
            "order": null,
            "_view_module_version": "1.2.0",
            "grid_template_areas": null,
            "object_position": null,
            "object_fit": null,
            "grid_auto_columns": null,
            "margin": null,
            "display": null,
            "left": null
          }
        },
        "5c58dd823e524c3595acf077ee8ce0e6": {
          "model_module": "@jupyter-widgets/controls",
          "model_name": "HTMLModel",
          "model_module_version": "1.5.0",
          "state": {
            "_view_name": "HTMLView",
            "style": "IPY_MODEL_4e47e96f3a8f45998150aab821324cdb",
            "_dom_classes": [],
            "description": "",
            "_model_name": "HTMLModel",
            "placeholder": "​",
            "_view_module": "@jupyter-widgets/controls",
            "_model_module_version": "1.5.0",
            "value": "",
            "_view_count": null,
            "_view_module_version": "1.5.0",
            "description_tooltip": null,
            "_model_module": "@jupyter-widgets/controls",
            "layout": "IPY_MODEL_0f46d6302ffb4ff4bb01d5e25de3e86b"
          }
        },
        "b360a212f82141b681fcb6235f658e1c": {
          "model_module": "@jupyter-widgets/controls",
          "model_name": "FloatProgressModel",
          "model_module_version": "1.5.0",
          "state": {
            "_view_name": "ProgressView",
            "style": "IPY_MODEL_dd8cdca5be6b4cb7b596963d10df3b34",
            "_dom_classes": [],
            "description": "",
            "_model_name": "FloatProgressModel",
            "bar_style": "success",
            "max": 1,
            "_view_module": "@jupyter-widgets/controls",
            "_model_module_version": "1.5.0",
            "value": 1,
            "_view_count": null,
            "_view_module_version": "1.5.0",
            "orientation": "horizontal",
            "min": 0,
            "description_tooltip": null,
            "_model_module": "@jupyter-widgets/controls",
            "layout": "IPY_MODEL_c1315aa444cc46dba93523ea3bcac637"
          }
        },
        "612d62cb805849a884552b5dee3e9c5e": {
          "model_module": "@jupyter-widgets/controls",
          "model_name": "HTMLModel",
          "model_module_version": "1.5.0",
          "state": {
            "_view_name": "HTMLView",
            "style": "IPY_MODEL_bae424b1cb4244dfbfbfc69f2b5784b6",
            "_dom_classes": [],
            "description": "",
            "_model_name": "HTMLModel",
            "placeholder": "​",
            "_view_module": "@jupyter-widgets/controls",
            "_model_module_version": "1.5.0",
            "value": " 765/? [01:15&lt;00:00, 10.55it/s]",
            "_view_count": null,
            "_view_module_version": "1.5.0",
            "description_tooltip": null,
            "_model_module": "@jupyter-widgets/controls",
            "layout": "IPY_MODEL_a7e9a8d9986a4de5a3d6954702d80779"
          }
        },
        "4e47e96f3a8f45998150aab821324cdb": {
          "model_module": "@jupyter-widgets/controls",
          "model_name": "DescriptionStyleModel",
          "model_module_version": "1.5.0",
          "state": {
            "_view_name": "StyleView",
            "_model_name": "DescriptionStyleModel",
            "description_width": "",
            "_view_module": "@jupyter-widgets/base",
            "_model_module_version": "1.5.0",
            "_view_count": null,
            "_view_module_version": "1.2.0",
            "_model_module": "@jupyter-widgets/controls"
          }
        },
        "0f46d6302ffb4ff4bb01d5e25de3e86b": {
          "model_module": "@jupyter-widgets/base",
          "model_name": "LayoutModel",
          "model_module_version": "1.2.0",
          "state": {
            "_view_name": "LayoutView",
            "grid_template_rows": null,
            "right": null,
            "justify_content": null,
            "_view_module": "@jupyter-widgets/base",
            "overflow": null,
            "_model_module_version": "1.2.0",
            "_view_count": null,
            "flex_flow": null,
            "width": null,
            "min_width": null,
            "border": null,
            "align_items": null,
            "bottom": null,
            "_model_module": "@jupyter-widgets/base",
            "top": null,
            "grid_column": null,
            "overflow_y": null,
            "overflow_x": null,
            "grid_auto_flow": null,
            "grid_area": null,
            "grid_template_columns": null,
            "flex": null,
            "_model_name": "LayoutModel",
            "justify_items": null,
            "grid_row": null,
            "max_height": null,
            "align_content": null,
            "visibility": null,
            "align_self": null,
            "height": null,
            "min_height": null,
            "padding": null,
            "grid_auto_rows": null,
            "grid_gap": null,
            "max_width": null,
            "order": null,
            "_view_module_version": "1.2.0",
            "grid_template_areas": null,
            "object_position": null,
            "object_fit": null,
            "grid_auto_columns": null,
            "margin": null,
            "display": null,
            "left": null
          }
        },
        "dd8cdca5be6b4cb7b596963d10df3b34": {
          "model_module": "@jupyter-widgets/controls",
          "model_name": "ProgressStyleModel",
          "model_module_version": "1.5.0",
          "state": {
            "_view_name": "StyleView",
            "_model_name": "ProgressStyleModel",
            "description_width": "",
            "_view_module": "@jupyter-widgets/base",
            "_model_module_version": "1.5.0",
            "_view_count": null,
            "_view_module_version": "1.2.0",
            "bar_color": null,
            "_model_module": "@jupyter-widgets/controls"
          }
        },
        "c1315aa444cc46dba93523ea3bcac637": {
          "model_module": "@jupyter-widgets/base",
          "model_name": "LayoutModel",
          "model_module_version": "1.2.0",
          "state": {
            "_view_name": "LayoutView",
            "grid_template_rows": null,
            "right": null,
            "justify_content": null,
            "_view_module": "@jupyter-widgets/base",
            "overflow": null,
            "_model_module_version": "1.2.0",
            "_view_count": null,
            "flex_flow": null,
            "width": "20px",
            "min_width": null,
            "border": null,
            "align_items": null,
            "bottom": null,
            "_model_module": "@jupyter-widgets/base",
            "top": null,
            "grid_column": null,
            "overflow_y": null,
            "overflow_x": null,
            "grid_auto_flow": null,
            "grid_area": null,
            "grid_template_columns": null,
            "flex": null,
            "_model_name": "LayoutModel",
            "justify_items": null,
            "grid_row": null,
            "max_height": null,
            "align_content": null,
            "visibility": null,
            "align_self": null,
            "height": null,
            "min_height": null,
            "padding": null,
            "grid_auto_rows": null,
            "grid_gap": null,
            "max_width": null,
            "order": null,
            "_view_module_version": "1.2.0",
            "grid_template_areas": null,
            "object_position": null,
            "object_fit": null,
            "grid_auto_columns": null,
            "margin": null,
            "display": null,
            "left": null
          }
        },
        "bae424b1cb4244dfbfbfc69f2b5784b6": {
          "model_module": "@jupyter-widgets/controls",
          "model_name": "DescriptionStyleModel",
          "model_module_version": "1.5.0",
          "state": {
            "_view_name": "StyleView",
            "_model_name": "DescriptionStyleModel",
            "description_width": "",
            "_view_module": "@jupyter-widgets/base",
            "_model_module_version": "1.5.0",
            "_view_count": null,
            "_view_module_version": "1.2.0",
            "_model_module": "@jupyter-widgets/controls"
          }
        },
        "a7e9a8d9986a4de5a3d6954702d80779": {
          "model_module": "@jupyter-widgets/base",
          "model_name": "LayoutModel",
          "model_module_version": "1.2.0",
          "state": {
            "_view_name": "LayoutView",
            "grid_template_rows": null,
            "right": null,
            "justify_content": null,
            "_view_module": "@jupyter-widgets/base",
            "overflow": null,
            "_model_module_version": "1.2.0",
            "_view_count": null,
            "flex_flow": null,
            "width": null,
            "min_width": null,
            "border": null,
            "align_items": null,
            "bottom": null,
            "_model_module": "@jupyter-widgets/base",
            "top": null,
            "grid_column": null,
            "overflow_y": null,
            "overflow_x": null,
            "grid_auto_flow": null,
            "grid_area": null,
            "grid_template_columns": null,
            "flex": null,
            "_model_name": "LayoutModel",
            "justify_items": null,
            "grid_row": null,
            "max_height": null,
            "align_content": null,
            "visibility": null,
            "align_self": null,
            "height": null,
            "min_height": null,
            "padding": null,
            "grid_auto_rows": null,
            "grid_gap": null,
            "max_width": null,
            "order": null,
            "_view_module_version": "1.2.0",
            "grid_template_areas": null,
            "object_position": null,
            "object_fit": null,
            "grid_auto_columns": null,
            "margin": null,
            "display": null,
            "left": null
          }
        },
        "95030b1f33a54eaf8631dab1647c5e84": {
          "model_module": "@jupyter-widgets/controls",
          "model_name": "HBoxModel",
          "model_module_version": "1.5.0",
          "state": {
            "_view_name": "HBoxView",
            "_dom_classes": [],
            "_model_name": "HBoxModel",
            "_view_module": "@jupyter-widgets/controls",
            "_model_module_version": "1.5.0",
            "_view_count": null,
            "_view_module_version": "1.5.0",
            "box_style": "",
            "layout": "IPY_MODEL_37ca50f881884497ab28bf26ff8cc6c5",
            "_model_module": "@jupyter-widgets/controls",
            "children": [
              "IPY_MODEL_16fd21f9e99b4a68bf575f89459372b2",
              "IPY_MODEL_9e56f056c10e410191c0883c261cf527",
              "IPY_MODEL_781773e98fcd4bfd9393d0bf7827c590"
            ]
          }
        },
        "37ca50f881884497ab28bf26ff8cc6c5": {
          "model_module": "@jupyter-widgets/base",
          "model_name": "LayoutModel",
          "model_module_version": "1.2.0",
          "state": {
            "_view_name": "LayoutView",
            "grid_template_rows": null,
            "right": null,
            "justify_content": null,
            "_view_module": "@jupyter-widgets/base",
            "overflow": null,
            "_model_module_version": "1.2.0",
            "_view_count": null,
            "flex_flow": null,
            "width": null,
            "min_width": null,
            "border": null,
            "align_items": null,
            "bottom": null,
            "_model_module": "@jupyter-widgets/base",
            "top": null,
            "grid_column": null,
            "overflow_y": null,
            "overflow_x": null,
            "grid_auto_flow": null,
            "grid_area": null,
            "grid_template_columns": null,
            "flex": null,
            "_model_name": "LayoutModel",
            "justify_items": null,
            "grid_row": null,
            "max_height": null,
            "align_content": null,
            "visibility": null,
            "align_self": null,
            "height": null,
            "min_height": null,
            "padding": null,
            "grid_auto_rows": null,
            "grid_gap": null,
            "max_width": null,
            "order": null,
            "_view_module_version": "1.2.0",
            "grid_template_areas": null,
            "object_position": null,
            "object_fit": null,
            "grid_auto_columns": null,
            "margin": null,
            "display": null,
            "left": null
          }
        },
        "16fd21f9e99b4a68bf575f89459372b2": {
          "model_module": "@jupyter-widgets/controls",
          "model_name": "HTMLModel",
          "model_module_version": "1.5.0",
          "state": {
            "_view_name": "HTMLView",
            "style": "IPY_MODEL_f60463738d5f4112aab649f0c9b41166",
            "_dom_classes": [],
            "description": "",
            "_model_name": "HTMLModel",
            "placeholder": "​",
            "_view_module": "@jupyter-widgets/controls",
            "_model_module_version": "1.5.0",
            "value": "",
            "_view_count": null,
            "_view_module_version": "1.5.0",
            "description_tooltip": null,
            "_model_module": "@jupyter-widgets/controls",
            "layout": "IPY_MODEL_c02af68c148d4d2ebca6640bbc401799"
          }
        },
        "9e56f056c10e410191c0883c261cf527": {
          "model_module": "@jupyter-widgets/controls",
          "model_name": "FloatProgressModel",
          "model_module_version": "1.5.0",
          "state": {
            "_view_name": "ProgressView",
            "style": "IPY_MODEL_46e3c2bf893b45558ccf77030cbe165f",
            "_dom_classes": [],
            "description": "",
            "_model_name": "FloatProgressModel",
            "bar_style": "success",
            "max": 1,
            "_view_module": "@jupyter-widgets/controls",
            "_model_module_version": "1.5.0",
            "value": 1,
            "_view_count": null,
            "_view_module_version": "1.5.0",
            "orientation": "horizontal",
            "min": 0,
            "description_tooltip": null,
            "_model_module": "@jupyter-widgets/controls",
            "layout": "IPY_MODEL_7b84653e6f7c4f8595d977d13293ac27"
          }
        },
        "781773e98fcd4bfd9393d0bf7827c590": {
          "model_module": "@jupyter-widgets/controls",
          "model_name": "HTMLModel",
          "model_module_version": "1.5.0",
          "state": {
            "_view_name": "HTMLView",
            "style": "IPY_MODEL_1a7831527e8a465db75f67f1038904b1",
            "_dom_classes": [],
            "description": "",
            "_model_name": "HTMLModel",
            "placeholder": "​",
            "_view_module": "@jupyter-widgets/controls",
            "_model_module_version": "1.5.0",
            "value": " 192/? [00:18&lt;00:00, 10.43it/s]",
            "_view_count": null,
            "_view_module_version": "1.5.0",
            "description_tooltip": null,
            "_model_module": "@jupyter-widgets/controls",
            "layout": "IPY_MODEL_ae3fba5844c142e8b6dad71784f85c12"
          }
        },
        "f60463738d5f4112aab649f0c9b41166": {
          "model_module": "@jupyter-widgets/controls",
          "model_name": "DescriptionStyleModel",
          "model_module_version": "1.5.0",
          "state": {
            "_view_name": "StyleView",
            "_model_name": "DescriptionStyleModel",
            "description_width": "",
            "_view_module": "@jupyter-widgets/base",
            "_model_module_version": "1.5.0",
            "_view_count": null,
            "_view_module_version": "1.2.0",
            "_model_module": "@jupyter-widgets/controls"
          }
        },
        "c02af68c148d4d2ebca6640bbc401799": {
          "model_module": "@jupyter-widgets/base",
          "model_name": "LayoutModel",
          "model_module_version": "1.2.0",
          "state": {
            "_view_name": "LayoutView",
            "grid_template_rows": null,
            "right": null,
            "justify_content": null,
            "_view_module": "@jupyter-widgets/base",
            "overflow": null,
            "_model_module_version": "1.2.0",
            "_view_count": null,
            "flex_flow": null,
            "width": null,
            "min_width": null,
            "border": null,
            "align_items": null,
            "bottom": null,
            "_model_module": "@jupyter-widgets/base",
            "top": null,
            "grid_column": null,
            "overflow_y": null,
            "overflow_x": null,
            "grid_auto_flow": null,
            "grid_area": null,
            "grid_template_columns": null,
            "flex": null,
            "_model_name": "LayoutModel",
            "justify_items": null,
            "grid_row": null,
            "max_height": null,
            "align_content": null,
            "visibility": null,
            "align_self": null,
            "height": null,
            "min_height": null,
            "padding": null,
            "grid_auto_rows": null,
            "grid_gap": null,
            "max_width": null,
            "order": null,
            "_view_module_version": "1.2.0",
            "grid_template_areas": null,
            "object_position": null,
            "object_fit": null,
            "grid_auto_columns": null,
            "margin": null,
            "display": null,
            "left": null
          }
        },
        "46e3c2bf893b45558ccf77030cbe165f": {
          "model_module": "@jupyter-widgets/controls",
          "model_name": "ProgressStyleModel",
          "model_module_version": "1.5.0",
          "state": {
            "_view_name": "StyleView",
            "_model_name": "ProgressStyleModel",
            "description_width": "",
            "_view_module": "@jupyter-widgets/base",
            "_model_module_version": "1.5.0",
            "_view_count": null,
            "_view_module_version": "1.2.0",
            "bar_color": null,
            "_model_module": "@jupyter-widgets/controls"
          }
        },
        "7b84653e6f7c4f8595d977d13293ac27": {
          "model_module": "@jupyter-widgets/base",
          "model_name": "LayoutModel",
          "model_module_version": "1.2.0",
          "state": {
            "_view_name": "LayoutView",
            "grid_template_rows": null,
            "right": null,
            "justify_content": null,
            "_view_module": "@jupyter-widgets/base",
            "overflow": null,
            "_model_module_version": "1.2.0",
            "_view_count": null,
            "flex_flow": null,
            "width": "20px",
            "min_width": null,
            "border": null,
            "align_items": null,
            "bottom": null,
            "_model_module": "@jupyter-widgets/base",
            "top": null,
            "grid_column": null,
            "overflow_y": null,
            "overflow_x": null,
            "grid_auto_flow": null,
            "grid_area": null,
            "grid_template_columns": null,
            "flex": null,
            "_model_name": "LayoutModel",
            "justify_items": null,
            "grid_row": null,
            "max_height": null,
            "align_content": null,
            "visibility": null,
            "align_self": null,
            "height": null,
            "min_height": null,
            "padding": null,
            "grid_auto_rows": null,
            "grid_gap": null,
            "max_width": null,
            "order": null,
            "_view_module_version": "1.2.0",
            "grid_template_areas": null,
            "object_position": null,
            "object_fit": null,
            "grid_auto_columns": null,
            "margin": null,
            "display": null,
            "left": null
          }
        },
        "1a7831527e8a465db75f67f1038904b1": {
          "model_module": "@jupyter-widgets/controls",
          "model_name": "DescriptionStyleModel",
          "model_module_version": "1.5.0",
          "state": {
            "_view_name": "StyleView",
            "_model_name": "DescriptionStyleModel",
            "description_width": "",
            "_view_module": "@jupyter-widgets/base",
            "_model_module_version": "1.5.0",
            "_view_count": null,
            "_view_module_version": "1.2.0",
            "_model_module": "@jupyter-widgets/controls"
          }
        },
        "ae3fba5844c142e8b6dad71784f85c12": {
          "model_module": "@jupyter-widgets/base",
          "model_name": "LayoutModel",
          "model_module_version": "1.2.0",
          "state": {
            "_view_name": "LayoutView",
            "grid_template_rows": null,
            "right": null,
            "justify_content": null,
            "_view_module": "@jupyter-widgets/base",
            "overflow": null,
            "_model_module_version": "1.2.0",
            "_view_count": null,
            "flex_flow": null,
            "width": null,
            "min_width": null,
            "border": null,
            "align_items": null,
            "bottom": null,
            "_model_module": "@jupyter-widgets/base",
            "top": null,
            "grid_column": null,
            "overflow_y": null,
            "overflow_x": null,
            "grid_auto_flow": null,
            "grid_area": null,
            "grid_template_columns": null,
            "flex": null,
            "_model_name": "LayoutModel",
            "justify_items": null,
            "grid_row": null,
            "max_height": null,
            "align_content": null,
            "visibility": null,
            "align_self": null,
            "height": null,
            "min_height": null,
            "padding": null,
            "grid_auto_rows": null,
            "grid_gap": null,
            "max_width": null,
            "order": null,
            "_view_module_version": "1.2.0",
            "grid_template_areas": null,
            "object_position": null,
            "object_fit": null,
            "grid_auto_columns": null,
            "margin": null,
            "display": null,
            "left": null
          }
        },
        "64052c96f61a46b08ffb1c21ee934d73": {
          "model_module": "@jupyter-widgets/controls",
          "model_name": "HBoxModel",
          "model_module_version": "1.5.0",
          "state": {
            "_view_name": "HBoxView",
            "_dom_classes": [],
            "_model_name": "HBoxModel",
            "_view_module": "@jupyter-widgets/controls",
            "_model_module_version": "1.5.0",
            "_view_count": null,
            "_view_module_version": "1.5.0",
            "box_style": "",
            "layout": "IPY_MODEL_0a28255f1cbd4378b465997042b42c66",
            "_model_module": "@jupyter-widgets/controls",
            "children": [
              "IPY_MODEL_805e8c74b4424650abe7650415a121a4",
              "IPY_MODEL_c2c6c12da06f4c32ac1d1662b7befece",
              "IPY_MODEL_60b9cc8cb4c54fecb8ad73b03e05071a"
            ]
          }
        },
        "0a28255f1cbd4378b465997042b42c66": {
          "model_module": "@jupyter-widgets/base",
          "model_name": "LayoutModel",
          "model_module_version": "1.2.0",
          "state": {
            "_view_name": "LayoutView",
            "grid_template_rows": null,
            "right": null,
            "justify_content": null,
            "_view_module": "@jupyter-widgets/base",
            "overflow": null,
            "_model_module_version": "1.2.0",
            "_view_count": null,
            "flex_flow": null,
            "width": null,
            "min_width": null,
            "border": null,
            "align_items": null,
            "bottom": null,
            "_model_module": "@jupyter-widgets/base",
            "top": null,
            "grid_column": null,
            "overflow_y": null,
            "overflow_x": null,
            "grid_auto_flow": null,
            "grid_area": null,
            "grid_template_columns": null,
            "flex": null,
            "_model_name": "LayoutModel",
            "justify_items": null,
            "grid_row": null,
            "max_height": null,
            "align_content": null,
            "visibility": null,
            "align_self": null,
            "height": null,
            "min_height": null,
            "padding": null,
            "grid_auto_rows": null,
            "grid_gap": null,
            "max_width": null,
            "order": null,
            "_view_module_version": "1.2.0",
            "grid_template_areas": null,
            "object_position": null,
            "object_fit": null,
            "grid_auto_columns": null,
            "margin": null,
            "display": null,
            "left": null
          }
        },
        "805e8c74b4424650abe7650415a121a4": {
          "model_module": "@jupyter-widgets/controls",
          "model_name": "HTMLModel",
          "model_module_version": "1.5.0",
          "state": {
            "_view_name": "HTMLView",
            "style": "IPY_MODEL_ed8c0929fce9403d9594995c1e4665b1",
            "_dom_classes": [],
            "description": "",
            "_model_name": "HTMLModel",
            "placeholder": "​",
            "_view_module": "@jupyter-widgets/controls",
            "_model_module_version": "1.5.0",
            "value": "100%",
            "_view_count": null,
            "_view_module_version": "1.5.0",
            "description_tooltip": null,
            "_model_module": "@jupyter-widgets/controls",
            "layout": "IPY_MODEL_50c17339afdf4c6da1eb9fe01a714fa0"
          }
        },
        "c2c6c12da06f4c32ac1d1662b7befece": {
          "model_module": "@jupyter-widgets/controls",
          "model_name": "FloatProgressModel",
          "model_module_version": "1.5.0",
          "state": {
            "_view_name": "ProgressView",
            "style": "IPY_MODEL_b02f330450ab465d9ab95ce094500d51",
            "_dom_classes": [],
            "description": "",
            "_model_name": "FloatProgressModel",
            "bar_style": "success",
            "max": 15,
            "_view_module": "@jupyter-widgets/controls",
            "_model_module_version": "1.5.0",
            "value": 15,
            "_view_count": null,
            "_view_module_version": "1.5.0",
            "orientation": "horizontal",
            "min": 0,
            "description_tooltip": null,
            "_model_module": "@jupyter-widgets/controls",
            "layout": "IPY_MODEL_4abe2ae135c449d38c3441d769bcaa6b"
          }
        },
        "60b9cc8cb4c54fecb8ad73b03e05071a": {
          "model_module": "@jupyter-widgets/controls",
          "model_name": "HTMLModel",
          "model_module_version": "1.5.0",
          "state": {
            "_view_name": "HTMLView",
            "style": "IPY_MODEL_187df3bddd424e7786648f0f6ae3903b",
            "_dom_classes": [],
            "description": "",
            "_model_name": "HTMLModel",
            "placeholder": "​",
            "_view_module": "@jupyter-widgets/controls",
            "_model_module_version": "1.5.0",
            "value": " 15/15 [40:48&lt;00:00, 162.88s/it]",
            "_view_count": null,
            "_view_module_version": "1.5.0",
            "description_tooltip": null,
            "_model_module": "@jupyter-widgets/controls",
            "layout": "IPY_MODEL_c35f1db474da4323ad2916431b24c1cd"
          }
        },
        "ed8c0929fce9403d9594995c1e4665b1": {
          "model_module": "@jupyter-widgets/controls",
          "model_name": "DescriptionStyleModel",
          "model_module_version": "1.5.0",
          "state": {
            "_view_name": "StyleView",
            "_model_name": "DescriptionStyleModel",
            "description_width": "",
            "_view_module": "@jupyter-widgets/base",
            "_model_module_version": "1.5.0",
            "_view_count": null,
            "_view_module_version": "1.2.0",
            "_model_module": "@jupyter-widgets/controls"
          }
        },
        "50c17339afdf4c6da1eb9fe01a714fa0": {
          "model_module": "@jupyter-widgets/base",
          "model_name": "LayoutModel",
          "model_module_version": "1.2.0",
          "state": {
            "_view_name": "LayoutView",
            "grid_template_rows": null,
            "right": null,
            "justify_content": null,
            "_view_module": "@jupyter-widgets/base",
            "overflow": null,
            "_model_module_version": "1.2.0",
            "_view_count": null,
            "flex_flow": null,
            "width": null,
            "min_width": null,
            "border": null,
            "align_items": null,
            "bottom": null,
            "_model_module": "@jupyter-widgets/base",
            "top": null,
            "grid_column": null,
            "overflow_y": null,
            "overflow_x": null,
            "grid_auto_flow": null,
            "grid_area": null,
            "grid_template_columns": null,
            "flex": null,
            "_model_name": "LayoutModel",
            "justify_items": null,
            "grid_row": null,
            "max_height": null,
            "align_content": null,
            "visibility": null,
            "align_self": null,
            "height": null,
            "min_height": null,
            "padding": null,
            "grid_auto_rows": null,
            "grid_gap": null,
            "max_width": null,
            "order": null,
            "_view_module_version": "1.2.0",
            "grid_template_areas": null,
            "object_position": null,
            "object_fit": null,
            "grid_auto_columns": null,
            "margin": null,
            "display": null,
            "left": null
          }
        },
        "b02f330450ab465d9ab95ce094500d51": {
          "model_module": "@jupyter-widgets/controls",
          "model_name": "ProgressStyleModel",
          "model_module_version": "1.5.0",
          "state": {
            "_view_name": "StyleView",
            "_model_name": "ProgressStyleModel",
            "description_width": "",
            "_view_module": "@jupyter-widgets/base",
            "_model_module_version": "1.5.0",
            "_view_count": null,
            "_view_module_version": "1.2.0",
            "bar_color": null,
            "_model_module": "@jupyter-widgets/controls"
          }
        },
        "4abe2ae135c449d38c3441d769bcaa6b": {
          "model_module": "@jupyter-widgets/base",
          "model_name": "LayoutModel",
          "model_module_version": "1.2.0",
          "state": {
            "_view_name": "LayoutView",
            "grid_template_rows": null,
            "right": null,
            "justify_content": null,
            "_view_module": "@jupyter-widgets/base",
            "overflow": null,
            "_model_module_version": "1.2.0",
            "_view_count": null,
            "flex_flow": null,
            "width": null,
            "min_width": null,
            "border": null,
            "align_items": null,
            "bottom": null,
            "_model_module": "@jupyter-widgets/base",
            "top": null,
            "grid_column": null,
            "overflow_y": null,
            "overflow_x": null,
            "grid_auto_flow": null,
            "grid_area": null,
            "grid_template_columns": null,
            "flex": null,
            "_model_name": "LayoutModel",
            "justify_items": null,
            "grid_row": null,
            "max_height": null,
            "align_content": null,
            "visibility": null,
            "align_self": null,
            "height": null,
            "min_height": null,
            "padding": null,
            "grid_auto_rows": null,
            "grid_gap": null,
            "max_width": null,
            "order": null,
            "_view_module_version": "1.2.0",
            "grid_template_areas": null,
            "object_position": null,
            "object_fit": null,
            "grid_auto_columns": null,
            "margin": null,
            "display": null,
            "left": null
          }
        },
        "187df3bddd424e7786648f0f6ae3903b": {
          "model_module": "@jupyter-widgets/controls",
          "model_name": "DescriptionStyleModel",
          "model_module_version": "1.5.0",
          "state": {
            "_view_name": "StyleView",
            "_model_name": "DescriptionStyleModel",
            "description_width": "",
            "_view_module": "@jupyter-widgets/base",
            "_model_module_version": "1.5.0",
            "_view_count": null,
            "_view_module_version": "1.2.0",
            "_model_module": "@jupyter-widgets/controls"
          }
        },
        "c35f1db474da4323ad2916431b24c1cd": {
          "model_module": "@jupyter-widgets/base",
          "model_name": "LayoutModel",
          "model_module_version": "1.2.0",
          "state": {
            "_view_name": "LayoutView",
            "grid_template_rows": null,
            "right": null,
            "justify_content": null,
            "_view_module": "@jupyter-widgets/base",
            "overflow": null,
            "_model_module_version": "1.2.0",
            "_view_count": null,
            "flex_flow": null,
            "width": null,
            "min_width": null,
            "border": null,
            "align_items": null,
            "bottom": null,
            "_model_module": "@jupyter-widgets/base",
            "top": null,
            "grid_column": null,
            "overflow_y": null,
            "overflow_x": null,
            "grid_auto_flow": null,
            "grid_area": null,
            "grid_template_columns": null,
            "flex": null,
            "_model_name": "LayoutModel",
            "justify_items": null,
            "grid_row": null,
            "max_height": null,
            "align_content": null,
            "visibility": null,
            "align_self": null,
            "height": null,
            "min_height": null,
            "padding": null,
            "grid_auto_rows": null,
            "grid_gap": null,
            "max_width": null,
            "order": null,
            "_view_module_version": "1.2.0",
            "grid_template_areas": null,
            "object_position": null,
            "object_fit": null,
            "grid_auto_columns": null,
            "margin": null,
            "display": null,
            "left": null
          }
        },
        "162a1089d9ea45e1ac734270d505834d": {
          "model_module": "@jupyter-widgets/controls",
          "model_name": "HBoxModel",
          "model_module_version": "1.5.0",
          "state": {
            "_view_name": "HBoxView",
            "_dom_classes": [],
            "_model_name": "HBoxModel",
            "_view_module": "@jupyter-widgets/controls",
            "_model_module_version": "1.5.0",
            "_view_count": null,
            "_view_module_version": "1.5.0",
            "box_style": "",
            "layout": "IPY_MODEL_cec372f6ee26415685f606c3866151dd",
            "_model_module": "@jupyter-widgets/controls",
            "children": [
              "IPY_MODEL_b29b2bb427194fec9b37e14367d892e6",
              "IPY_MODEL_3e3e35a22afc470bb91b9de3355ade22",
              "IPY_MODEL_7649a02bc57b4e29ac447dd667519ecf"
            ]
          }
        },
        "cec372f6ee26415685f606c3866151dd": {
          "model_module": "@jupyter-widgets/base",
          "model_name": "LayoutModel",
          "model_module_version": "1.2.0",
          "state": {
            "_view_name": "LayoutView",
            "grid_template_rows": null,
            "right": null,
            "justify_content": null,
            "_view_module": "@jupyter-widgets/base",
            "overflow": null,
            "_model_module_version": "1.2.0",
            "_view_count": null,
            "flex_flow": null,
            "width": null,
            "min_width": null,
            "border": null,
            "align_items": null,
            "bottom": null,
            "_model_module": "@jupyter-widgets/base",
            "top": null,
            "grid_column": null,
            "overflow_y": null,
            "overflow_x": null,
            "grid_auto_flow": null,
            "grid_area": null,
            "grid_template_columns": null,
            "flex": null,
            "_model_name": "LayoutModel",
            "justify_items": null,
            "grid_row": null,
            "max_height": null,
            "align_content": null,
            "visibility": null,
            "align_self": null,
            "height": null,
            "min_height": null,
            "padding": null,
            "grid_auto_rows": null,
            "grid_gap": null,
            "max_width": null,
            "order": null,
            "_view_module_version": "1.2.0",
            "grid_template_areas": null,
            "object_position": null,
            "object_fit": null,
            "grid_auto_columns": null,
            "margin": null,
            "display": null,
            "left": null
          }
        },
        "b29b2bb427194fec9b37e14367d892e6": {
          "model_module": "@jupyter-widgets/controls",
          "model_name": "HTMLModel",
          "model_module_version": "1.5.0",
          "state": {
            "_view_name": "HTMLView",
            "style": "IPY_MODEL_e14357266ba84f4585417f45d10d6401",
            "_dom_classes": [],
            "description": "",
            "_model_name": "HTMLModel",
            "placeholder": "​",
            "_view_module": "@jupyter-widgets/controls",
            "_model_module_version": "1.5.0",
            "value": "100%",
            "_view_count": null,
            "_view_module_version": "1.5.0",
            "description_tooltip": null,
            "_model_module": "@jupyter-widgets/controls",
            "layout": "IPY_MODEL_64f988e420ec4735a4a4fd4663e949ab"
          }
        },
        "3e3e35a22afc470bb91b9de3355ade22": {
          "model_module": "@jupyter-widgets/controls",
          "model_name": "FloatProgressModel",
          "model_module_version": "1.5.0",
          "state": {
            "_view_name": "ProgressView",
            "style": "IPY_MODEL_b84f65ff30f24eb68eb316149db7a437",
            "_dom_classes": [],
            "description": "",
            "_model_name": "FloatProgressModel",
            "bar_style": "success",
            "max": 10,
            "_view_module": "@jupyter-widgets/controls",
            "_model_module_version": "1.5.0",
            "value": 10,
            "_view_count": null,
            "_view_module_version": "1.5.0",
            "orientation": "horizontal",
            "min": 0,
            "description_tooltip": null,
            "_model_module": "@jupyter-widgets/controls",
            "layout": "IPY_MODEL_71a8b37c224e40ea9e144e602de07c64"
          }
        },
        "7649a02bc57b4e29ac447dd667519ecf": {
          "model_module": "@jupyter-widgets/controls",
          "model_name": "HTMLModel",
          "model_module_version": "1.5.0",
          "state": {
            "_view_name": "HTMLView",
            "style": "IPY_MODEL_f274cff364df436ab425f98c177a89a9",
            "_dom_classes": [],
            "description": "",
            "_model_name": "HTMLModel",
            "placeholder": "​",
            "_view_module": "@jupyter-widgets/controls",
            "_model_module_version": "1.5.0",
            "value": " 10/10 [28:51&lt;00:00, 173.52s/it]",
            "_view_count": null,
            "_view_module_version": "1.5.0",
            "description_tooltip": null,
            "_model_module": "@jupyter-widgets/controls",
            "layout": "IPY_MODEL_ec62d74acf8a46adb7bcfd8d0adfddc8"
          }
        },
        "e14357266ba84f4585417f45d10d6401": {
          "model_module": "@jupyter-widgets/controls",
          "model_name": "DescriptionStyleModel",
          "model_module_version": "1.5.0",
          "state": {
            "_view_name": "StyleView",
            "_model_name": "DescriptionStyleModel",
            "description_width": "",
            "_view_module": "@jupyter-widgets/base",
            "_model_module_version": "1.5.0",
            "_view_count": null,
            "_view_module_version": "1.2.0",
            "_model_module": "@jupyter-widgets/controls"
          }
        },
        "64f988e420ec4735a4a4fd4663e949ab": {
          "model_module": "@jupyter-widgets/base",
          "model_name": "LayoutModel",
          "model_module_version": "1.2.0",
          "state": {
            "_view_name": "LayoutView",
            "grid_template_rows": null,
            "right": null,
            "justify_content": null,
            "_view_module": "@jupyter-widgets/base",
            "overflow": null,
            "_model_module_version": "1.2.0",
            "_view_count": null,
            "flex_flow": null,
            "width": null,
            "min_width": null,
            "border": null,
            "align_items": null,
            "bottom": null,
            "_model_module": "@jupyter-widgets/base",
            "top": null,
            "grid_column": null,
            "overflow_y": null,
            "overflow_x": null,
            "grid_auto_flow": null,
            "grid_area": null,
            "grid_template_columns": null,
            "flex": null,
            "_model_name": "LayoutModel",
            "justify_items": null,
            "grid_row": null,
            "max_height": null,
            "align_content": null,
            "visibility": null,
            "align_self": null,
            "height": null,
            "min_height": null,
            "padding": null,
            "grid_auto_rows": null,
            "grid_gap": null,
            "max_width": null,
            "order": null,
            "_view_module_version": "1.2.0",
            "grid_template_areas": null,
            "object_position": null,
            "object_fit": null,
            "grid_auto_columns": null,
            "margin": null,
            "display": null,
            "left": null
          }
        },
        "b84f65ff30f24eb68eb316149db7a437": {
          "model_module": "@jupyter-widgets/controls",
          "model_name": "ProgressStyleModel",
          "model_module_version": "1.5.0",
          "state": {
            "_view_name": "StyleView",
            "_model_name": "ProgressStyleModel",
            "description_width": "",
            "_view_module": "@jupyter-widgets/base",
            "_model_module_version": "1.5.0",
            "_view_count": null,
            "_view_module_version": "1.2.0",
            "bar_color": null,
            "_model_module": "@jupyter-widgets/controls"
          }
        },
        "71a8b37c224e40ea9e144e602de07c64": {
          "model_module": "@jupyter-widgets/base",
          "model_name": "LayoutModel",
          "model_module_version": "1.2.0",
          "state": {
            "_view_name": "LayoutView",
            "grid_template_rows": null,
            "right": null,
            "justify_content": null,
            "_view_module": "@jupyter-widgets/base",
            "overflow": null,
            "_model_module_version": "1.2.0",
            "_view_count": null,
            "flex_flow": null,
            "width": null,
            "min_width": null,
            "border": null,
            "align_items": null,
            "bottom": null,
            "_model_module": "@jupyter-widgets/base",
            "top": null,
            "grid_column": null,
            "overflow_y": null,
            "overflow_x": null,
            "grid_auto_flow": null,
            "grid_area": null,
            "grid_template_columns": null,
            "flex": null,
            "_model_name": "LayoutModel",
            "justify_items": null,
            "grid_row": null,
            "max_height": null,
            "align_content": null,
            "visibility": null,
            "align_self": null,
            "height": null,
            "min_height": null,
            "padding": null,
            "grid_auto_rows": null,
            "grid_gap": null,
            "max_width": null,
            "order": null,
            "_view_module_version": "1.2.0",
            "grid_template_areas": null,
            "object_position": null,
            "object_fit": null,
            "grid_auto_columns": null,
            "margin": null,
            "display": null,
            "left": null
          }
        },
        "f274cff364df436ab425f98c177a89a9": {
          "model_module": "@jupyter-widgets/controls",
          "model_name": "DescriptionStyleModel",
          "model_module_version": "1.5.0",
          "state": {
            "_view_name": "StyleView",
            "_model_name": "DescriptionStyleModel",
            "description_width": "",
            "_view_module": "@jupyter-widgets/base",
            "_model_module_version": "1.5.0",
            "_view_count": null,
            "_view_module_version": "1.2.0",
            "_model_module": "@jupyter-widgets/controls"
          }
        },
        "ec62d74acf8a46adb7bcfd8d0adfddc8": {
          "model_module": "@jupyter-widgets/base",
          "model_name": "LayoutModel",
          "model_module_version": "1.2.0",
          "state": {
            "_view_name": "LayoutView",
            "grid_template_rows": null,
            "right": null,
            "justify_content": null,
            "_view_module": "@jupyter-widgets/base",
            "overflow": null,
            "_model_module_version": "1.2.0",
            "_view_count": null,
            "flex_flow": null,
            "width": null,
            "min_width": null,
            "border": null,
            "align_items": null,
            "bottom": null,
            "_model_module": "@jupyter-widgets/base",
            "top": null,
            "grid_column": null,
            "overflow_y": null,
            "overflow_x": null,
            "grid_auto_flow": null,
            "grid_area": null,
            "grid_template_columns": null,
            "flex": null,
            "_model_name": "LayoutModel",
            "justify_items": null,
            "grid_row": null,
            "max_height": null,
            "align_content": null,
            "visibility": null,
            "align_self": null,
            "height": null,
            "min_height": null,
            "padding": null,
            "grid_auto_rows": null,
            "grid_gap": null,
            "max_width": null,
            "order": null,
            "_view_module_version": "1.2.0",
            "grid_template_areas": null,
            "object_position": null,
            "object_fit": null,
            "grid_auto_columns": null,
            "margin": null,
            "display": null,
            "left": null
          }
        },
        "154d8de8ca2f4bc2b4290e955a8d0a46": {
          "model_module": "@jupyter-widgets/controls",
          "model_name": "HBoxModel",
          "model_module_version": "1.5.0",
          "state": {
            "_view_name": "HBoxView",
            "_dom_classes": [],
            "_model_name": "HBoxModel",
            "_view_module": "@jupyter-widgets/controls",
            "_model_module_version": "1.5.0",
            "_view_count": null,
            "_view_module_version": "1.5.0",
            "box_style": "",
            "layout": "IPY_MODEL_21eb07f4a24a4b1c8b5ee6f80cd7cede",
            "_model_module": "@jupyter-widgets/controls",
            "children": [
              "IPY_MODEL_cfbcce86571a4053a3a166a57528b286",
              "IPY_MODEL_30d03745168740568d87dc6bee3bf38b",
              "IPY_MODEL_fefdc5ad295d4600b74588c9453211c5"
            ]
          }
        },
        "21eb07f4a24a4b1c8b5ee6f80cd7cede": {
          "model_module": "@jupyter-widgets/base",
          "model_name": "LayoutModel",
          "model_module_version": "1.2.0",
          "state": {
            "_view_name": "LayoutView",
            "grid_template_rows": null,
            "right": null,
            "justify_content": null,
            "_view_module": "@jupyter-widgets/base",
            "overflow": null,
            "_model_module_version": "1.2.0",
            "_view_count": null,
            "flex_flow": null,
            "width": null,
            "min_width": null,
            "border": null,
            "align_items": null,
            "bottom": null,
            "_model_module": "@jupyter-widgets/base",
            "top": null,
            "grid_column": null,
            "overflow_y": null,
            "overflow_x": null,
            "grid_auto_flow": null,
            "grid_area": null,
            "grid_template_columns": null,
            "flex": null,
            "_model_name": "LayoutModel",
            "justify_items": null,
            "grid_row": null,
            "max_height": null,
            "align_content": null,
            "visibility": null,
            "align_self": null,
            "height": null,
            "min_height": null,
            "padding": null,
            "grid_auto_rows": null,
            "grid_gap": null,
            "max_width": null,
            "order": null,
            "_view_module_version": "1.2.0",
            "grid_template_areas": null,
            "object_position": null,
            "object_fit": null,
            "grid_auto_columns": null,
            "margin": null,
            "display": null,
            "left": null
          }
        },
        "cfbcce86571a4053a3a166a57528b286": {
          "model_module": "@jupyter-widgets/controls",
          "model_name": "HTMLModel",
          "model_module_version": "1.5.0",
          "state": {
            "_view_name": "HTMLView",
            "style": "IPY_MODEL_e52fbc94ddfd484e827324684408aaae",
            "_dom_classes": [],
            "description": "",
            "_model_name": "HTMLModel",
            "placeholder": "​",
            "_view_module": "@jupyter-widgets/controls",
            "_model_module_version": "1.5.0",
            "value": "100%",
            "_view_count": null,
            "_view_module_version": "1.5.0",
            "description_tooltip": null,
            "_model_module": "@jupyter-widgets/controls",
            "layout": "IPY_MODEL_e034e3024f7e41e296f2a4939781fb08"
          }
        },
        "30d03745168740568d87dc6bee3bf38b": {
          "model_module": "@jupyter-widgets/controls",
          "model_name": "FloatProgressModel",
          "model_module_version": "1.5.0",
          "state": {
            "_view_name": "ProgressView",
            "style": "IPY_MODEL_3e94c92f11304c218320674bd785ce85",
            "_dom_classes": [],
            "description": "",
            "_model_name": "FloatProgressModel",
            "bar_style": "success",
            "max": 15,
            "_view_module": "@jupyter-widgets/controls",
            "_model_module_version": "1.5.0",
            "value": 15,
            "_view_count": null,
            "_view_module_version": "1.5.0",
            "orientation": "horizontal",
            "min": 0,
            "description_tooltip": null,
            "_model_module": "@jupyter-widgets/controls",
            "layout": "IPY_MODEL_fac0827c2d134409b9c88ef9ae695eba"
          }
        },
        "fefdc5ad295d4600b74588c9453211c5": {
          "model_module": "@jupyter-widgets/controls",
          "model_name": "HTMLModel",
          "model_module_version": "1.5.0",
          "state": {
            "_view_name": "HTMLView",
            "style": "IPY_MODEL_3089428b990f4df0b04fe20cf26be215",
            "_dom_classes": [],
            "description": "",
            "_model_name": "HTMLModel",
            "placeholder": "​",
            "_view_module": "@jupyter-widgets/controls",
            "_model_module_version": "1.5.0",
            "value": " 15/15 [42:22&lt;00:00, 169.04s/it]",
            "_view_count": null,
            "_view_module_version": "1.5.0",
            "description_tooltip": null,
            "_model_module": "@jupyter-widgets/controls",
            "layout": "IPY_MODEL_9879445be868442bbaece2b5f7c9433f"
          }
        },
        "e52fbc94ddfd484e827324684408aaae": {
          "model_module": "@jupyter-widgets/controls",
          "model_name": "DescriptionStyleModel",
          "model_module_version": "1.5.0",
          "state": {
            "_view_name": "StyleView",
            "_model_name": "DescriptionStyleModel",
            "description_width": "",
            "_view_module": "@jupyter-widgets/base",
            "_model_module_version": "1.5.0",
            "_view_count": null,
            "_view_module_version": "1.2.0",
            "_model_module": "@jupyter-widgets/controls"
          }
        },
        "e034e3024f7e41e296f2a4939781fb08": {
          "model_module": "@jupyter-widgets/base",
          "model_name": "LayoutModel",
          "model_module_version": "1.2.0",
          "state": {
            "_view_name": "LayoutView",
            "grid_template_rows": null,
            "right": null,
            "justify_content": null,
            "_view_module": "@jupyter-widgets/base",
            "overflow": null,
            "_model_module_version": "1.2.0",
            "_view_count": null,
            "flex_flow": null,
            "width": null,
            "min_width": null,
            "border": null,
            "align_items": null,
            "bottom": null,
            "_model_module": "@jupyter-widgets/base",
            "top": null,
            "grid_column": null,
            "overflow_y": null,
            "overflow_x": null,
            "grid_auto_flow": null,
            "grid_area": null,
            "grid_template_columns": null,
            "flex": null,
            "_model_name": "LayoutModel",
            "justify_items": null,
            "grid_row": null,
            "max_height": null,
            "align_content": null,
            "visibility": null,
            "align_self": null,
            "height": null,
            "min_height": null,
            "padding": null,
            "grid_auto_rows": null,
            "grid_gap": null,
            "max_width": null,
            "order": null,
            "_view_module_version": "1.2.0",
            "grid_template_areas": null,
            "object_position": null,
            "object_fit": null,
            "grid_auto_columns": null,
            "margin": null,
            "display": null,
            "left": null
          }
        },
        "3e94c92f11304c218320674bd785ce85": {
          "model_module": "@jupyter-widgets/controls",
          "model_name": "ProgressStyleModel",
          "model_module_version": "1.5.0",
          "state": {
            "_view_name": "StyleView",
            "_model_name": "ProgressStyleModel",
            "description_width": "",
            "_view_module": "@jupyter-widgets/base",
            "_model_module_version": "1.5.0",
            "_view_count": null,
            "_view_module_version": "1.2.0",
            "bar_color": null,
            "_model_module": "@jupyter-widgets/controls"
          }
        },
        "fac0827c2d134409b9c88ef9ae695eba": {
          "model_module": "@jupyter-widgets/base",
          "model_name": "LayoutModel",
          "model_module_version": "1.2.0",
          "state": {
            "_view_name": "LayoutView",
            "grid_template_rows": null,
            "right": null,
            "justify_content": null,
            "_view_module": "@jupyter-widgets/base",
            "overflow": null,
            "_model_module_version": "1.2.0",
            "_view_count": null,
            "flex_flow": null,
            "width": null,
            "min_width": null,
            "border": null,
            "align_items": null,
            "bottom": null,
            "_model_module": "@jupyter-widgets/base",
            "top": null,
            "grid_column": null,
            "overflow_y": null,
            "overflow_x": null,
            "grid_auto_flow": null,
            "grid_area": null,
            "grid_template_columns": null,
            "flex": null,
            "_model_name": "LayoutModel",
            "justify_items": null,
            "grid_row": null,
            "max_height": null,
            "align_content": null,
            "visibility": null,
            "align_self": null,
            "height": null,
            "min_height": null,
            "padding": null,
            "grid_auto_rows": null,
            "grid_gap": null,
            "max_width": null,
            "order": null,
            "_view_module_version": "1.2.0",
            "grid_template_areas": null,
            "object_position": null,
            "object_fit": null,
            "grid_auto_columns": null,
            "margin": null,
            "display": null,
            "left": null
          }
        },
        "3089428b990f4df0b04fe20cf26be215": {
          "model_module": "@jupyter-widgets/controls",
          "model_name": "DescriptionStyleModel",
          "model_module_version": "1.5.0",
          "state": {
            "_view_name": "StyleView",
            "_model_name": "DescriptionStyleModel",
            "description_width": "",
            "_view_module": "@jupyter-widgets/base",
            "_model_module_version": "1.5.0",
            "_view_count": null,
            "_view_module_version": "1.2.0",
            "_model_module": "@jupyter-widgets/controls"
          }
        },
        "9879445be868442bbaece2b5f7c9433f": {
          "model_module": "@jupyter-widgets/base",
          "model_name": "LayoutModel",
          "model_module_version": "1.2.0",
          "state": {
            "_view_name": "LayoutView",
            "grid_template_rows": null,
            "right": null,
            "justify_content": null,
            "_view_module": "@jupyter-widgets/base",
            "overflow": null,
            "_model_module_version": "1.2.0",
            "_view_count": null,
            "flex_flow": null,
            "width": null,
            "min_width": null,
            "border": null,
            "align_items": null,
            "bottom": null,
            "_model_module": "@jupyter-widgets/base",
            "top": null,
            "grid_column": null,
            "overflow_y": null,
            "overflow_x": null,
            "grid_auto_flow": null,
            "grid_area": null,
            "grid_template_columns": null,
            "flex": null,
            "_model_name": "LayoutModel",
            "justify_items": null,
            "grid_row": null,
            "max_height": null,
            "align_content": null,
            "visibility": null,
            "align_self": null,
            "height": null,
            "min_height": null,
            "padding": null,
            "grid_auto_rows": null,
            "grid_gap": null,
            "max_width": null,
            "order": null,
            "_view_module_version": "1.2.0",
            "grid_template_areas": null,
            "object_position": null,
            "object_fit": null,
            "grid_auto_columns": null,
            "margin": null,
            "display": null,
            "left": null
          }
        }
      }
    },
    "accelerator": "GPU"
  },
  "cells": [
    {
      "cell_type": "markdown",
      "metadata": {
        "id": "9vPn10uRMxcU"
      },
      "source": [
        "Ноутбук позаимствован с отличного [курса по DL](https://ml-mipt.github.io), а именно второй семинар в advanced трэке"
      ]
    },
    {
      "cell_type": "markdown",
      "metadata": {
        "id": "13pL--6rycN3"
      },
      "source": [
        "## Practice 02: Dealing with texts using CNN\n",
        "\n",
        "Today we're gonna apply the newly learned tools for the task of predicting job salary.\n",
        "\n",
        "<img src=\"https://storage.googleapis.com/kaggle-competitions/kaggle/3342/logos/front_page.png\" width=400px>\n",
        "\n",
        "Based on YSDA [materials](https://github.com/yandexdataschool/nlp_course/blob/master/week02_classification/seminar.ipynb). _Special thanks to [Oleg Vasilev](https://github.com/Omrigan/) for the core assignment idea._"
      ]
    },
    {
      "cell_type": "code",
      "metadata": {
        "colab": {
          "base_uri": "https://localhost:8080/"
        },
        "id": "iRIJ0z8OjsiR",
        "outputId": "8370df85-8e60-428b-e7eb-d03ae57fabe2"
      },
      "source": [
        "!nvidia-smi"
      ],
      "execution_count": 1,
      "outputs": [
        {
          "output_type": "stream",
          "name": "stdout",
          "text": [
            "Wed Nov 24 18:39:27 2021       \n",
            "+-----------------------------------------------------------------------------+\n",
            "| NVIDIA-SMI 495.44       Driver Version: 460.32.03    CUDA Version: 11.2     |\n",
            "|-------------------------------+----------------------+----------------------+\n",
            "| GPU  Name        Persistence-M| Bus-Id        Disp.A | Volatile Uncorr. ECC |\n",
            "| Fan  Temp  Perf  Pwr:Usage/Cap|         Memory-Usage | GPU-Util  Compute M. |\n",
            "|                               |                      |               MIG M. |\n",
            "|===============================+======================+======================|\n",
            "|   0  Tesla K80           Off  | 00000000:00:04.0 Off |                    0 |\n",
            "| N/A   33C    P8    28W / 149W |      0MiB / 11441MiB |      0%      Default |\n",
            "|                               |                      |                  N/A |\n",
            "+-------------------------------+----------------------+----------------------+\n",
            "                                                                               \n",
            "+-----------------------------------------------------------------------------+\n",
            "| Processes:                                                                  |\n",
            "|  GPU   GI   CI        PID   Type   Process name                  GPU Memory |\n",
            "|        ID   ID                                                   Usage      |\n",
            "|=============================================================================|\n",
            "|  No running processes found                                                 |\n",
            "+-----------------------------------------------------------------------------+\n"
          ]
        }
      ]
    },
    {
      "cell_type": "code",
      "metadata": {
        "id": "P8zS7m-gycN5"
      },
      "source": [
        "import numpy as np\n",
        "import pandas as pd\n",
        "import matplotlib.pyplot as plt\n",
        "%matplotlib inline\n",
        "\n",
        "from tqdm.auto import tqdm"
      ],
      "execution_count": 2,
      "outputs": []
    },
    {
      "cell_type": "markdown",
      "metadata": {
        "id": "34x92vWQycN_"
      },
      "source": [
        "### About the challenge\n",
        "For starters, let's download and unpack the data from [here](https://www.dropbox.com/s/5msc5ix7ndyba10/Train_rev1.csv.tar.gz?dl=0). \n",
        "\n",
        "You can also get it from [yadisk url](https://yadi.sk/d/vVEOWPFY3NruT7) the competition [page](https://www.kaggle.com/c/job-salary-prediction/data) (pick `Train_rev1.*`)."
      ]
    },
    {
      "cell_type": "code",
      "metadata": {
        "colab": {
          "base_uri": "https://localhost:8080/"
        },
        "id": "vwN72gd4ycOA",
        "outputId": "34218419-80c5-4ea9-8b44-523b8e5c905b"
      },
      "source": [
        "# Do this only once\n",
        "!curl -L \"https://www.dropbox.com/s/5msc5ix7ndyba10/Train_rev1.csv.tar.gz?dl=1\" -o Train_rev1.csv.tar.gz\n",
        "!tar -xvzf ./Train_rev1.csv.tar.gz"
      ],
      "execution_count": 3,
      "outputs": [
        {
          "output_type": "stream",
          "name": "stdout",
          "text": [
            "  % Total    % Received % Xferd  Average Speed   Time    Time     Time  Current\n",
            "                                 Dload  Upload   Total   Spent    Left  Speed\n",
            "100   145    0   145    0     0    351      0 --:--:-- --:--:-- --:--:--   351\n",
            "100   320  100   320    0     0    407      0 --:--:-- --:--:-- --:--:--   407\n",
            "100  119M  100  119M    0     0  14.8M      0  0:00:08  0:00:08 --:--:-- 20.9M\n",
            "Train_rev1.csv\n"
          ]
        }
      ]
    },
    {
      "cell_type": "code",
      "metadata": {
        "colab": {
          "base_uri": "https://localhost:8080/"
        },
        "id": "qtnVxLnlNQJF",
        "outputId": "89ccfb16-b2ab-43ce-b68c-5d19bb84aeec"
      },
      "source": [
        "data = pd.read_csv(\"./Train_rev1.csv\", index_col=None)\n",
        "data.shape"
      ],
      "execution_count": 4,
      "outputs": [
        {
          "output_type": "execute_result",
          "data": {
            "text/plain": [
              "(244768, 12)"
            ]
          },
          "metadata": {},
          "execution_count": 4
        }
      ]
    },
    {
      "cell_type": "code",
      "metadata": {
        "colab": {
          "base_uri": "https://localhost:8080/",
          "height": 218
        },
        "id": "yNOmTMxCQElL",
        "outputId": "95a86bfb-1c20-42ec-a385-dcfbf3c86d79"
      },
      "source": [
        "data.head(2)"
      ],
      "execution_count": 6,
      "outputs": [
        {
          "output_type": "execute_result",
          "data": {
            "text/html": [
              "<div>\n",
              "<style scoped>\n",
              "    .dataframe tbody tr th:only-of-type {\n",
              "        vertical-align: middle;\n",
              "    }\n",
              "\n",
              "    .dataframe tbody tr th {\n",
              "        vertical-align: top;\n",
              "    }\n",
              "\n",
              "    .dataframe thead th {\n",
              "        text-align: right;\n",
              "    }\n",
              "</style>\n",
              "<table border=\"1\" class=\"dataframe\">\n",
              "  <thead>\n",
              "    <tr style=\"text-align: right;\">\n",
              "      <th></th>\n",
              "      <th>Id</th>\n",
              "      <th>Title</th>\n",
              "      <th>FullDescription</th>\n",
              "      <th>LocationRaw</th>\n",
              "      <th>LocationNormalized</th>\n",
              "      <th>ContractType</th>\n",
              "      <th>ContractTime</th>\n",
              "      <th>Company</th>\n",
              "      <th>Category</th>\n",
              "      <th>SalaryRaw</th>\n",
              "      <th>SalaryNormalized</th>\n",
              "      <th>SourceName</th>\n",
              "    </tr>\n",
              "  </thead>\n",
              "  <tbody>\n",
              "    <tr>\n",
              "      <th>0</th>\n",
              "      <td>12612628</td>\n",
              "      <td>Engineering Systems Analyst</td>\n",
              "      <td>Engineering Systems Analyst Dorking Surrey Sal...</td>\n",
              "      <td>Dorking, Surrey, Surrey</td>\n",
              "      <td>Dorking</td>\n",
              "      <td>NaN</td>\n",
              "      <td>permanent</td>\n",
              "      <td>Gregory Martin International</td>\n",
              "      <td>Engineering Jobs</td>\n",
              "      <td>20000 - 30000/annum 20-30K</td>\n",
              "      <td>25000</td>\n",
              "      <td>cv-library.co.uk</td>\n",
              "    </tr>\n",
              "    <tr>\n",
              "      <th>1</th>\n",
              "      <td>12612830</td>\n",
              "      <td>Stress Engineer Glasgow</td>\n",
              "      <td>Stress Engineer Glasgow Salary **** to **** We...</td>\n",
              "      <td>Glasgow, Scotland, Scotland</td>\n",
              "      <td>Glasgow</td>\n",
              "      <td>NaN</td>\n",
              "      <td>permanent</td>\n",
              "      <td>Gregory Martin International</td>\n",
              "      <td>Engineering Jobs</td>\n",
              "      <td>25000 - 35000/annum 25-35K</td>\n",
              "      <td>30000</td>\n",
              "      <td>cv-library.co.uk</td>\n",
              "    </tr>\n",
              "  </tbody>\n",
              "</table>\n",
              "</div>"
            ],
            "text/plain": [
              "         Id                        Title  ... SalaryNormalized        SourceName\n",
              "0  12612628  Engineering Systems Analyst  ...            25000  cv-library.co.uk\n",
              "1  12612830      Stress Engineer Glasgow  ...            30000  cv-library.co.uk\n",
              "\n",
              "[2 rows x 12 columns]"
            ]
          },
          "metadata": {},
          "execution_count": 6
        }
      ]
    },
    {
      "cell_type": "markdown",
      "metadata": {
        "id": "z7kznuJfycOH"
      },
      "source": [
        "One problem with salary prediction is that it's oddly distributed: there are many people who are paid standard salaries and a few that get tons o money. The distribution is fat-tailed on the right side, which is inconvenient for MSE minimization.\n",
        "\n",
        "There are several techniques to combat this: using a different loss function, predicting log-target instead of raw target or even replacing targets with their percentiles among all salaries in the training set. We gonna use logarithm for now.\n",
        "\n",
        "_You can read more [in the official description](https://www.kaggle.com/c/job-salary-prediction#description)._"
      ]
    },
    {
      "cell_type": "code",
      "metadata": {
        "colab": {
          "base_uri": "https://localhost:8080/",
          "height": 265
        },
        "id": "UuuKIKfrycOH",
        "outputId": "ea913c35-68c0-4078-d3ad-19a53bbaf45a"
      },
      "source": [
        "data['Log1pSalary'] = np.log1p(data['SalaryNormalized']).astype('float32')\n",
        "\n",
        "plt.figure(figsize=[8, 4])\n",
        "plt.subplot(1, 2, 1)\n",
        "plt.hist(data[\"SalaryNormalized\"], bins=20);\n",
        "\n",
        "plt.subplot(1, 2, 2)\n",
        "plt.hist(data['Log1pSalary'], bins=20);"
      ],
      "execution_count": 7,
      "outputs": [
        {
          "output_type": "display_data",
          "data": {
            "image/png": "[encoded data removed]",
            "text/plain": [
              "<Figure size 576x288 with 2 Axes>"
            ]
          },
          "metadata": {
            "needs_background": "light"
          }
        }
      ]
    },
    {
      "cell_type": "markdown",
      "metadata": {
        "id": "Fcu-qmHRycOK"
      },
      "source": [
        "Our task is to predict one number, __Log1pSalary__.\n",
        "\n",
        "To do so, our model can access a number of features:\n",
        "* Free text: __`Title`__ and  __`FullDescription`__\n",
        "* Categorical: __`Category`__, __`Company`__, __`LocationNormalized`__, __`ContractType`__, and __`ContractTime`__."
      ]
    },
    {
      "cell_type": "code",
      "metadata": {
        "colab": {
          "base_uri": "https://localhost:8080/",
          "height": 370
        },
        "id": "p9vyA_erycOK",
        "outputId": "a6fe1eee-8296-4837-d08a-744bec10ef7e"
      },
      "source": [
        "text_columns = [\"Title\", \"FullDescription\"]\n",
        "categorical_columns = [\"Category\", \"Company\", \"LocationNormalized\", \"ContractType\", \"ContractTime\"]\n",
        "target_column = \"Log1pSalary\"\n",
        "\n",
        "data[categorical_columns] = data[categorical_columns].fillna('NaN') # cast missing values to string \"NaN\"\n",
        "\n",
        "data.sample(3)"
      ],
      "execution_count": 8,
      "outputs": [
        {
          "output_type": "execute_result",
          "data": {
            "text/html": [
              "<div>\n",
              "<style scoped>\n",
              "    .dataframe tbody tr th:only-of-type {\n",
              "        vertical-align: middle;\n",
              "    }\n",
              "\n",
              "    .dataframe tbody tr th {\n",
              "        vertical-align: top;\n",
              "    }\n",
              "\n",
              "    .dataframe thead th {\n",
              "        text-align: right;\n",
              "    }\n",
              "</style>\n",
              "<table border=\"1\" class=\"dataframe\">\n",
              "  <thead>\n",
              "    <tr style=\"text-align: right;\">\n",
              "      <th></th>\n",
              "      <th>Id</th>\n",
              "      <th>Title</th>\n",
              "      <th>FullDescription</th>\n",
              "      <th>LocationRaw</th>\n",
              "      <th>LocationNormalized</th>\n",
              "      <th>ContractType</th>\n",
              "      <th>ContractTime</th>\n",
              "      <th>Company</th>\n",
              "      <th>Category</th>\n",
              "      <th>SalaryRaw</th>\n",
              "      <th>SalaryNormalized</th>\n",
              "      <th>SourceName</th>\n",
              "      <th>Log1pSalary</th>\n",
              "    </tr>\n",
              "  </thead>\n",
              "  <tbody>\n",
              "    <tr>\n",
              "      <th>188754</th>\n",
              "      <td>71695479</td>\n",
              "      <td>Global Senior Advertising Analyst  Entertainme...</td>\n",
              "      <td>Global Senior Advertising Analyst  Entertainme...</td>\n",
              "      <td>London</td>\n",
              "      <td>London</td>\n",
              "      <td>full_time</td>\n",
              "      <td>permanent</td>\n",
              "      <td>Major Players</td>\n",
              "      <td>PR, Advertising &amp; Marketing Jobs</td>\n",
              "      <td>to 45K + Bonus + Bens</td>\n",
              "      <td>22500</td>\n",
              "      <td>Brand Republic Jobs</td>\n",
              "      <td>10.021315</td>\n",
              "    </tr>\n",
              "    <tr>\n",
              "      <th>53218</th>\n",
              "      <td>68672908</td>\n",
              "      <td>Digital Account Executive Leading Digital Agen...</td>\n",
              "      <td>They enjoy all the benefits of a close knit cu...</td>\n",
              "      <td>City London South East</td>\n",
              "      <td>London</td>\n",
              "      <td>NaN</td>\n",
              "      <td>permanent</td>\n",
              "      <td>Major Players</td>\n",
              "      <td>IT Jobs</td>\n",
              "      <td>20000 - 25000 per annum + Excellent Benefits P...</td>\n",
              "      <td>22500</td>\n",
              "      <td>totaljobs.com</td>\n",
              "      <td>10.021315</td>\n",
              "    </tr>\n",
              "    <tr>\n",
              "      <th>187875</th>\n",
              "      <td>71685197</td>\n",
              "      <td>Senior Web Developer (UX)  London  HTML /CSS *...</td>\n",
              "      <td>Web Developer  Javascript / HTML / CSS / Agile...</td>\n",
              "      <td>London</td>\n",
              "      <td>London</td>\n",
              "      <td>NaN</td>\n",
              "      <td>permanent</td>\n",
              "      <td>Ibell Cowlin Resourcing Ltd</td>\n",
              "      <td>IT Jobs</td>\n",
              "      <td>To 60-65K plus bens</td>\n",
              "      <td>62500</td>\n",
              "      <td>jobsite.co.uk</td>\n",
              "      <td>11.042938</td>\n",
              "    </tr>\n",
              "  </tbody>\n",
              "</table>\n",
              "</div>"
            ],
            "text/plain": [
              "              Id  ... Log1pSalary\n",
              "188754  71695479  ...   10.021315\n",
              "53218   68672908  ...   10.021315\n",
              "187875  71685197  ...   11.042938\n",
              "\n",
              "[3 rows x 13 columns]"
            ]
          },
          "metadata": {},
          "execution_count": 8
        }
      ]
    },
    {
      "cell_type": "markdown",
      "metadata": {
        "id": "IUdclucmycON"
      },
      "source": [
        "### Preprocessing text data\n",
        "\n",
        "Just like last week, applying NLP to a problem begins from tokenization: splitting raw text into sequences of tokens (words, punctuation, etc).\n",
        "\n",
        "__Your task__ is to lowercase and tokenize all texts under `Title` and `FullDescription` columns. Store the tokenized data as a __space-separated__ string of tokens for performance reasons.\n",
        "\n",
        "It's okay to use nltk tokenizers. Assertions were designed for WordPunctTokenizer, slight deviations are okay."
      ]
    },
    {
      "cell_type": "code",
      "metadata": {
        "colab": {
          "base_uri": "https://localhost:8080/"
        },
        "id": "YzeOxD_aycOO",
        "outputId": "5bb66e97-2a52-4770-a454-d583a8dae4d7"
      },
      "source": [
        "print(\"Raw text:\")\n",
        "print(data[\"FullDescription\"][2::100000])"
      ],
      "execution_count": 9,
      "outputs": [
        {
          "output_type": "stream",
          "name": "stdout",
          "text": [
            "Raw text:\n",
            "2         Mathematical Modeller / Simulation Analyst / O...\n",
            "100002    A successful and high achieving specialist sch...\n",
            "200002    Web Designer  HTML, CSS, JavaScript, Photoshop...\n",
            "Name: FullDescription, dtype: object\n"
          ]
        }
      ]
    },
    {
      "cell_type": "code",
      "metadata": {
        "id": "RUWkpd7PycOQ"
      },
      "source": [
        "import nltk\n",
        "tokenizer = nltk.tokenize.WordPunctTokenizer()\n",
        "\n",
        "# see task above\n",
        "def normalize(text):\n",
        "    # <YOUR CODE HERE>\n",
        "    text = str(text).lower()\n",
        "    tokens = tokenizer.tokenize(text)\n",
        "    return ' '.join(tokens)\n",
        "\n",
        "data[text_columns] = data[text_columns].applymap(normalize)"
      ],
      "execution_count": 10,
      "outputs": []
    },
    {
      "cell_type": "markdown",
      "metadata": {
        "id": "o3pQdHihycOT"
      },
      "source": [
        "Now we can assume that our text is a space-separated list of tokens:"
      ]
    },
    {
      "cell_type": "code",
      "metadata": {
        "colab": {
          "base_uri": "https://localhost:8080/"
        },
        "id": "Gs-6lnS_ycOU",
        "outputId": "493a639c-1d2e-437b-c0a1-967c4278dd68"
      },
      "source": [
        "print(\"Tokenized:\")\n",
        "print(data[\"FullDescription\"][2::100000])\n",
        "assert data[\"FullDescription\"][2][:50] == 'mathematical modeller / simulation analyst / opera'\n",
        "assert data[\"Title\"][54321] == 'international digital account manager ( german )'"
      ],
      "execution_count": 11,
      "outputs": [
        {
          "output_type": "stream",
          "name": "stdout",
          "text": [
            "Tokenized:\n",
            "2         mathematical modeller / simulation analyst / o...\n",
            "100002    a successful and high achieving specialist sch...\n",
            "200002    web designer html , css , javascript , photosh...\n",
            "Name: FullDescription, dtype: object\n"
          ]
        }
      ]
    },
    {
      "cell_type": "markdown",
      "metadata": {
        "id": "ouE3L2hyycOX"
      },
      "source": [
        "Not all words are equally useful. Some of them are typos or rare words that are only present a few times. \n",
        "\n",
        "Let's count how many times is each word present in the data so that we can build a \"white list\" of known words."
      ]
    },
    {
      "cell_type": "code",
      "metadata": {
        "id": "iC7hBwwjycOX"
      },
      "source": [
        "# Count how many times does each token occur in both \"Title\" and \"FullDescription\" in total\n",
        "# build a dictionary { token -> it's count }\n",
        "from collections import Counter\n",
        "\n",
        "\n",
        "# <YOUR CODE HERE>\n",
        "token_counts = Counter()\n",
        "for sent in data[text_columns].values.flatten():\n",
        "    token_counts.update(sent.split(' '))  # make joined words splitted back\n",
        "# hint: you may or may not want to use collections.Counter"
      ],
      "execution_count": 12,
      "outputs": []
    },
    {
      "cell_type": "code",
      "metadata": {
        "colab": {
          "base_uri": "https://localhost:8080/"
        },
        "id": "GiOWbc15ycOb",
        "outputId": "bd0168d2-9f77-4e0c-a593-75b9bd4260e0"
      },
      "source": [
        "print(\"Total unique tokens :\", len(token_counts))\n",
        "print('\\n'.join(map(str, token_counts.most_common(n=5))))\n",
        "print('...')\n",
        "print('\\n'.join(map(str, token_counts.most_common()[-3:])))\n",
        "\n",
        "assert token_counts.most_common(1)[0][1] in  range(2600000, 2700000)\n",
        "assert len(token_counts) in range(200000, 210000)\n",
        "print('Correct!')"
      ],
      "execution_count": 13,
      "outputs": [
        {
          "output_type": "stream",
          "name": "stdout",
          "text": [
            "Total unique tokens : 202704\n",
            "('and', 2657388)\n",
            "('.', 2523216)\n",
            "(',', 2318606)\n",
            "('the', 2080994)\n",
            "('to', 2019884)\n",
            "...\n",
            "('stephanietraveltraderecruitmnt', 1)\n",
            "('ruabon', 1)\n",
            "('lowehays', 1)\n",
            "Correct!\n"
          ]
        }
      ]
    },
    {
      "cell_type": "code",
      "metadata": {
        "colab": {
          "base_uri": "https://localhost:8080/",
          "height": 279
        },
        "id": "nd5v3BNfycOf",
        "outputId": "c9016889-b166-469c-bb57-45d1c31b1999"
      },
      "source": [
        "# Let's see how many words are there for each count\n",
        "plt.hist(list(token_counts.values()), range=[0, 10**4], bins=50, log=True)\n",
        "plt.xlabel(\"Word counts\");"
      ],
      "execution_count": 14,
      "outputs": [
        {
          "output_type": "display_data",
          "data": {
            "image/png": "[encoded data removed]",
            "text/plain": [
              "<Figure size 432x288 with 1 Axes>"
            ]
          },
          "metadata": {
            "needs_background": "light"
          }
        }
      ]
    },
    {
      "cell_type": "markdown",
      "metadata": {
        "id": "znuXxeghycOh"
      },
      "source": [
        "Now filter tokens a list of all tokens that occur at least 10 times."
      ]
    },
    {
      "cell_type": "code",
      "metadata": {
        "id": "X0O90UKQpG-h"
      },
      "source": [
        "# token_counts"
      ],
      "execution_count": 23,
      "outputs": []
    },
    {
      "cell_type": "code",
      "metadata": {
        "id": "SeNFBWx5ycOh"
      },
      "source": [
        "min_count = 10\n",
        "\n",
        "# tokens from token_counts keys that had at least min_count occurrences throughout the dataset\n",
        "tokens = [token for token, cnt in token_counts.items() if cnt >= min_count]# <YOUR CODE HERE>"
      ],
      "execution_count": 15,
      "outputs": []
    },
    {
      "cell_type": "code",
      "metadata": {
        "colab": {
          "base_uri": "https://localhost:8080/"
        },
        "id": "RATIRyPKycOk",
        "outputId": "a1b65538-9711-4dd0-b384-da4960cef899"
      },
      "source": [
        "# Add a special tokens for unknown and empty words\n",
        "UNK, PAD = \"UNK\", \"PAD\"\n",
        "tokens = [UNK, PAD] + sorted(tokens)\n",
        "print(\"Vocabulary size:\", len(tokens))\n",
        "\n",
        "assert type(tokens) == list\n",
        "assert len(tokens) in range(32000, 35000)\n",
        "assert 'me' in tokens\n",
        "assert UNK in tokens\n",
        "print(\"Correct!\")"
      ],
      "execution_count": 16,
      "outputs": [
        {
          "output_type": "stream",
          "name": "stdout",
          "text": [
            "Vocabulary size: 34158\n",
            "Correct!\n"
          ]
        }
      ]
    },
    {
      "cell_type": "markdown",
      "metadata": {
        "id": "cqEsgbjZycOo"
      },
      "source": [
        "Build an inverse token index: a dictionary from token(string) to it's index in `tokens` (int)"
      ]
    },
    {
      "cell_type": "code",
      "metadata": {
        "id": "L60lo1l_ycOq"
      },
      "source": [
        "# You have already done that ;)\n",
        "\n",
        "token_to_id = {token: idx for idx, token in enumerate(tokens)} # <YOUR CODE HERE>"
      ],
      "execution_count": 17,
      "outputs": []
    },
    {
      "cell_type": "code",
      "metadata": {
        "colab": {
          "base_uri": "https://localhost:8080/"
        },
        "id": "DeAoVo4mycOr",
        "outputId": "b9f3d853-ea2a-417e-b31b-6fefbd50bd2c"
      },
      "source": [
        "assert isinstance(token_to_id, dict)\n",
        "assert len(token_to_id) == len(tokens)\n",
        "for tok in tokens:\n",
        "    assert tokens[token_to_id[tok]] == tok\n",
        "\n",
        "print(\"Correct!\")"
      ],
      "execution_count": 18,
      "outputs": [
        {
          "output_type": "stream",
          "name": "stdout",
          "text": [
            "Correct!\n"
          ]
        }
      ]
    },
    {
      "cell_type": "markdown",
      "metadata": {
        "id": "cmJAkq3gycOv"
      },
      "source": [
        "And finally, let's use the vocabulary you've built to map text lines into neural network-digestible matrices."
      ]
    },
    {
      "cell_type": "code",
      "metadata": {
        "colab": {
          "base_uri": "https://localhost:8080/"
        },
        "id": "o888ZpiAp90i",
        "outputId": "fbf46163-8168-452c-822b-da4a2fcf8d48"
      },
      "source": [
        "10 or float('inf')\n",
        "None or float('inf')"
      ],
      "execution_count": 28,
      "outputs": [
        {
          "output_type": "execute_result",
          "data": {
            "text/plain": [
              "inf"
            ]
          },
          "metadata": {},
          "execution_count": 28
        }
      ]
    },
    {
      "cell_type": "code",
      "metadata": {
        "id": "JEsLeBjVycOw"
      },
      "source": [
        "UNK_IX, PAD_IX = map(token_to_id.get, [UNK, PAD])\n",
        "\n",
        "def as_matrix(sequences, max_len=None):\n",
        "    \"\"\" Convert a list of tokens into a matrix with padding \"\"\"\n",
        "    if isinstance(sequences[0], str):\n",
        "        sequences = list(map(str.split, sequences))\n",
        "        \n",
        "    max_len = min(max(map(len, sequences)), max_len or float('inf'))\n",
        "    \n",
        "    matrix = np.full((len(sequences), max_len), np.int32(PAD_IX))  # placeholder matrix filled with <PAD> tokens\n",
        "    for i, seq in enumerate(sequences):\n",
        "        row_ix = [token_to_id.get(word, UNK_IX) for word in seq[:max_len]]\n",
        "        matrix[i, :len(row_ix)] = row_ix\n",
        "    \n",
        "    return matrix"
      ],
      "execution_count": 19,
      "outputs": []
    },
    {
      "cell_type": "code",
      "metadata": {
        "colab": {
          "base_uri": "https://localhost:8080/"
        },
        "id": "JiBlPkdKycOy",
        "outputId": "10168957-27bf-4492-ce1c-8872f2597644"
      },
      "source": [
        "print(\"Lines:\")\n",
        "print('\\n'.join(data[\"Title\"][::100000].values), end='\\n\\n')\n",
        "print(\"Matrix:\")\n",
        "print(as_matrix(data[\"Title\"][::100000]))"
      ],
      "execution_count": 20,
      "outputs": [
        {
          "output_type": "stream",
          "name": "stdout",
          "text": [
            "Lines:\n",
            "engineering systems analyst\n",
            "hr assistant\n",
            "senior ec & i engineer\n",
            "\n",
            "Matrix:\n",
            "[[10807 30161  2166     1     1]\n",
            " [15020  2844     1     1     1]\n",
            " [27645 10201    16 15215 10804]]\n"
          ]
        }
      ]
    },
    {
      "cell_type": "markdown",
      "metadata": {
        "id": "yk4jmtAYycO8"
      },
      "source": [
        "### The deep learning part\n",
        "\n",
        "Once we've learned to tokenize the data, let's design a machine learning experiment.\n",
        "\n",
        "As before, we won't focus too much on validation, opting for a simple train-test split.\n",
        "\n",
        "__To be completely rigorous,__ we've comitted a small crime here: we used the whole data for tokenization and vocabulary building. A more strict way would be to do that part on training set only. You may want to do that and measure the magnitude of changes."
      ]
    },
    {
      "cell_type": "code",
      "metadata": {
        "colab": {
          "base_uri": "https://localhost:8080/"
        },
        "id": "TngLcWA0ycO_",
        "outputId": "601bc16c-880f-49e9-9884-82938b097a26"
      },
      "source": [
        "from sklearn.model_selection import train_test_split\n",
        "\n",
        "data_train, data_val = train_test_split(data, test_size=0.2, random_state=42)\n",
        "data_train.index = range(len(data_train))\n",
        "data_val.index = range(len(data_val))\n",
        "\n",
        "print(\"Train size = \", len(data_train))\n",
        "print(\"Validation size = \", len(data_val))"
      ],
      "execution_count": 21,
      "outputs": [
        {
          "output_type": "stream",
          "name": "stdout",
          "text": [
            "Train size =  195814\n",
            "Validation size =  48954\n"
          ]
        }
      ]
    },
    {
      "cell_type": "markdown",
      "metadata": {
        "id": "nGOdZ3-dycO4"
      },
      "source": [
        "Now let's  encode the categirical data we have.\n",
        "\n",
        "As usual, we shall use one-hot encoding for simplicity. Kudos if you implement more advanced encodings: tf-idf, pseudo-time-series, etc."
      ]
    },
    {
      "cell_type": "code",
      "metadata": {
        "colab": {
          "base_uri": "https://localhost:8080/"
        },
        "id": "S6nd_WnLsH73",
        "outputId": "08fd8e83-ea10-4dc1-a98e-b46c95262350"
      },
      "source": [
        "data[categorical_columns].nunique()"
      ],
      "execution_count": 22,
      "outputs": [
        {
          "output_type": "execute_result",
          "data": {
            "text/plain": [
              "Category                 29\n",
              "Company               20813\n",
              "LocationNormalized     2732\n",
              "ContractType              3\n",
              "ContractTime              3\n",
              "dtype: int64"
            ]
          },
          "metadata": {},
          "execution_count": 22
        }
      ]
    },
    {
      "cell_type": "code",
      "metadata": {
        "colab": {
          "base_uri": "https://localhost:8080/"
        },
        "id": "MkMCNAOezMLd",
        "outputId": "2f3cb3b8-7e66-4c95-960f-2fc921d06b05"
      },
      "source": [
        "# How does DictVectorizer work.....\n",
        "\n",
        "from sklearn.feature_extraction import DictVectorizer\n",
        "\n",
        "cat_vec = DictVectorizer(dtype=np.float32, sparse=False)\n",
        "\n",
        "import pandas as pd\n",
        "\n",
        "df = pd.DataFrame({'col1': ['a', 'c', 'b', 'a'],\n",
        "                   'col2': ['aa', 'cd', 'bs', 'aa'],\n",
        "                   'col3': [1,2,3,4]\n",
        "                   })\n",
        "\n",
        "cat_vec.fit_transform(df.apply(dict, axis=1))"
      ],
      "execution_count": 33,
      "outputs": [
        {
          "output_type": "execute_result",
          "data": {
            "text/plain": [
              "array([[1., 0., 0., 1., 0., 0., 1.],\n",
              "       [0., 0., 1., 0., 0., 1., 2.],\n",
              "       [0., 1., 0., 0., 1., 0., 3.],\n",
              "       [1., 0., 0., 1., 0., 0., 4.]], dtype=float32)"
            ]
          },
          "metadata": {},
          "execution_count": 33
        }
      ]
    },
    {
      "cell_type": "code",
      "metadata": {
        "colab": {
          "base_uri": "https://localhost:8080/"
        },
        "id": "DpOlBp7ZycO6",
        "outputId": "1d3e687f-f17e-4bf5-8ef5-41b8041c1a4e"
      },
      "source": [
        "from sklearn.feature_extraction import DictVectorizer\n",
        "from sklearn.feature_extraction.text import TfidfVectorizer\n",
        "import nltk\n",
        "from nltk.corpus import stopwords\n",
        "nltk.download('stopwords')\n",
        "\n",
        "\n",
        "# we only consider top-1k most frequent companies to minimize memory usage\n",
        "top_companies, top_counts = zip(*Counter(data_train['Company']).most_common(1000))  # unzipping dict into 2 lists\n",
        "recognized_companies = set(top_companies)\n",
        "data_train[\"Company\"] = data_train[\"Company\"].apply(lambda comp: comp if comp in recognized_companies else \"Other\")\n",
        "data_val[\"Company\"] = data_val[\"Company\"].apply(lambda comp: comp if comp in recognized_companies else \"Other\")\n",
        "\n",
        "categorical_vectorizer = DictVectorizer(dtype=np.float32, sparse=False)\n",
        "categorical_vectorizer.fit(data_train[categorical_columns].apply(dict, axis=1))\n",
        "\n",
        "corpus = [' '.join(line) for line in data_train[categorical_columns].applymap(lambda x: x.replace(' ', '')).values]\n",
        "print('\\n', corpus[:2], '\\n')\n",
        "\n",
        "stopwords_eng = stopwords.words('english') + ['nan']\n",
        "tfidf_vectorizer = TfidfVectorizer(stop_words=stopwords_eng)\n",
        "tfidf_vectorizer.fit(corpus)"
      ],
      "execution_count": 23,
      "outputs": [
        {
          "output_type": "stream",
          "name": "stdout",
          "text": [
            "[nltk_data] Downloading package stopwords to /root/nltk_data...\n",
            "[nltk_data]   Unzipping corpora/stopwords.zip.\n",
            "\n",
            " ['Healthcare&NursingJobs Other Taunton NaN permanent', 'Scientific&QAJobs SCIRecruitmentforScientists NorthWestLondon NaN permanent'] \n",
            "\n"
          ]
        },
        {
          "output_type": "execute_result",
          "data": {
            "text/plain": [
              "TfidfVectorizer(stop_words=['i', 'me', 'my', 'myself', 'we', 'our', 'ours',\n",
              "                            'ourselves', 'you', \"you're\", \"you've\", \"you'll\",\n",
              "                            \"you'd\", 'your', 'yours', 'yourself', 'yourselves',\n",
              "                            'he', 'him', 'his', 'himself', 'she', \"she's\",\n",
              "                            'her', 'hers', 'herself', 'it', \"it's\", 'its',\n",
              "                            'itself', ...])"
            ]
          },
          "metadata": {},
          "execution_count": 23
        }
      ]
    },
    {
      "cell_type": "code",
      "metadata": {
        "colab": {
          "base_uri": "https://localhost:8080/"
        },
        "id": "gFaOz7pZoSxB",
        "outputId": "cd041308-dfd9-467f-b5fe-409637ec6f11"
      },
      "source": [
        "data[categorical_columns].nunique()"
      ],
      "execution_count": 25,
      "outputs": [
        {
          "output_type": "execute_result",
          "data": {
            "text/plain": [
              "Category                 29\n",
              "Company               20813\n",
              "LocationNormalized     2732\n",
              "ContractType              3\n",
              "ContractTime              3\n",
              "dtype: int64"
            ]
          },
          "metadata": {},
          "execution_count": 25
        }
      ]
    },
    {
      "cell_type": "code",
      "metadata": {
        "id": "2PXuKgOSycPB"
      },
      "source": [
        "def make_batch(data, max_len=None, word_dropout=0):\n",
        "    \"\"\"\n",
        "    Creates a neural-network-friendly dict from the batch data.\n",
        "    :param word_dropout: replaces token index with UNK_IX with this probability\n",
        "    :returns: a dict with {'title' : int64[batch, title_max_len]\n",
        "    \"\"\"\n",
        "    batch = {}\n",
        "    batch[\"Title\"] = as_matrix(data[\"Title\"].values, max_len)\n",
        "    batch[\"FullDescription\"] = as_matrix(data[\"FullDescription\"].values, max_len)\n",
        "    batch['Categorical_dict'] = categorical_vectorizer.transform(data[categorical_columns].apply(dict, axis=1))\n",
        "\n",
        "    corpus = [' '.join(line) for line in data[categorical_columns].applymap(lambda x: x.replace(' ', '')).values]\n",
        "    batch['Categorical_tfidf'] = tfidf_vectorizer.transform(corpus).toarray()\n",
        "    \n",
        "    if word_dropout != 0:\n",
        "        batch[\"FullDescription\"] = apply_word_dropout(batch[\"FullDescription\"], 1. - word_dropout)\n",
        "    \n",
        "    if target_column in data.columns:\n",
        "        batch[target_column] = data[target_column].values\n",
        "    \n",
        "    return batch\n",
        "\n",
        "def apply_word_dropout(matrix, keep_prop, replace_with=UNK_IX, pad_ix=PAD_IX,):\n",
        "    \"\"\"\n",
        "    With proba = keep_prop leaves element of matrix untouched. With proba = 1-keep_prop\n",
        "    changes it into replace_with value.\n",
        "    In default setting randomly changes matrix elements into UNKs\n",
        "    \"\"\"\n",
        "    dropout_mask = np.random.choice(2, np.shape(matrix), p=[keep_prop, 1 - keep_prop])\n",
        "    dropout_mask &= matrix != pad_ix\n",
        "    return np.choose(dropout_mask, [matrix, np.full_like(matrix, replace_with)])"
      ],
      "execution_count": 26,
      "outputs": []
    },
    {
      "cell_type": "code",
      "metadata": {
        "colab": {
          "base_uri": "https://localhost:8080/"
        },
        "id": "fNJipfXmd6RZ",
        "outputId": "981190ca-ce0a-4a95-d0b8-0f5da081ba6b"
      },
      "source": [
        "# How choice works\n",
        "keep_prop = 0.01\n",
        "matrix = np.random.randn(2, 2)\n",
        "print(matrix)\n",
        "print(np.random.choice(2, np.shape(matrix), p=[keep_prop, 1 - keep_prop]), '\\n')\n",
        "\n",
        "# How choose works\n",
        "choices = [[0, 1, 2, 3], \n",
        "           [10, 11, 12, 13],\n",
        "           [20, 21, 22, 23], \n",
        "           [30, 31, 32, 33]]\n",
        "np.choose([2, 3, 1, 0], choices)\n",
        "# the first element of the result will be the first element of the\n",
        "# third (2+1) \"array\" in choices, namely, 20; the second element\n",
        "# will be the second element of the fourth (3+1) choice array, i.e.,\n",
        "# 31, etc."
      ],
      "execution_count": 37,
      "outputs": [
        {
          "output_type": "stream",
          "name": "stdout",
          "text": [
            "[[0.45458566 0.23407812]\n",
            " [0.4429169  0.94319807]]\n",
            "[[1 1]\n",
            " [1 1]] \n",
            "\n"
          ]
        },
        {
          "output_type": "execute_result",
          "data": {
            "text/plain": [
              "array([20, 31, 12,  3])"
            ]
          },
          "metadata": {},
          "execution_count": 37
        }
      ]
    },
    {
      "cell_type": "code",
      "metadata": {
        "colab": {
          "base_uri": "https://localhost:8080/"
        },
        "id": "I6LpEQf0ycPD",
        "outputId": "f0b79dcd-cd56-4b6c-8f00-4cdc530572a3"
      },
      "source": [
        "tmp = make_batch(data_train[:3], max_len=10)\n",
        "tmp"
      ],
      "execution_count": 38,
      "outputs": [
        {
          "output_type": "execute_result",
          "data": {
            "text/plain": [
              "{'Categorical_dict': array([[0., 0., 0., ..., 0., 0., 0.],\n",
              "        [0., 0., 0., ..., 0., 0., 0.],\n",
              "        [0., 0., 0., ..., 0., 0., 0.]], dtype=float32),\n",
              " 'Categorical_tfidf': array([[0., 0., 0., ..., 0., 0., 0.],\n",
              "        [0., 0., 0., ..., 0., 0., 0.],\n",
              "        [0., 0., 0., ..., 0., 0., 0.]]),\n",
              " 'FullDescription': array([[27645, 29893, 33674, 32939,   982, 27645, 29893, 33674, 16451,\n",
              "         32939],\n",
              "        [29239,   197, 19175, 20042, 15554, 23162,  4051, 25511,   907,\n",
              "            82],\n",
              "        [30746, 21956, 20601,  6409, 16451,  8165, 27493,   982, 30412,\n",
              "         17746]], dtype=int32),\n",
              " 'Log1pSalary': array([ 9.71154 , 10.463132, 10.71444 ], dtype=float32),\n",
              " 'Title': array([[27645, 29893, 33674,     1,     1,     1,     1],\n",
              "        [29239,   197, 19175, 20042, 15554, 23162,  4051],\n",
              "        [10609, 30412, 17746,    33,  8705, 29157,    65]], dtype=int32)}"
            ]
          },
          "metadata": {},
          "execution_count": 38
        }
      ]
    },
    {
      "cell_type": "markdown",
      "metadata": {
        "id": "0eI5h9UMycPF"
      },
      "source": [
        "#### Architecture\n",
        "\n",
        "Our main model consists of three branches:\n",
        "* Title encoder\n",
        "* Description encoder\n",
        "* Categorical features encoder\n",
        "\n",
        "We will then feed all 3 branches into one common network that predicts salary.\n",
        "\n",
        "<img src=\"https://github.com/yandexdataschool/nlp_course/raw/master/resources/w2_conv_arch.png\" width=600px>\n",
        "\n",
        "This clearly doesn't fit into PyTorch __Sequential__ interface. To build such a network, one will have to use [__PyTorch nn.Module API__](https://pytorch.org/docs/stable/nn.html#torch.nn.Module)."
      ]
    },
    {
      "cell_type": "markdown",
      "metadata": {
        "id": "nfV9JjdoNQJN"
      },
      "source": [
        "But to start with let's build the simple model using only the part of the data. Let's create the baseline solution using only the description part (so it should definetely fit into the Sequential model)."
      ]
    },
    {
      "cell_type": "code",
      "metadata": {
        "id": "M8Fz30R2NQJN"
      },
      "source": [
        "import torch\n",
        "from torch import nn\n",
        "import torch.nn.functional as F"
      ],
      "execution_count": 27,
      "outputs": []
    },
    {
      "cell_type": "code",
      "metadata": {
        "id": "N6dQxh_aNQJN"
      },
      "source": [
        " # You will need these to make it simple\n",
        "\n",
        "class Flatten(nn.Module):\n",
        "    def forward(self, input):\n",
        "        return input.view(input.size(0), -1)\n",
        "\n",
        "class Reorder(nn.Module):\n",
        "    def forward(self, input):\n",
        "        return input.permute((0, 2, 1))"
      ],
      "execution_count": 28,
      "outputs": []
    },
    {
      "cell_type": "markdown",
      "metadata": {
        "id": "Fey2NhjzNQJO"
      },
      "source": [
        "To generate minibatches we will use simple pyton generator."
      ]
    },
    {
      "cell_type": "code",
      "metadata": {
        "id": "RmZjUZRbNQJO"
      },
      "source": [
        "def iterate_minibatches(data, batch_size=256, shuffle=True, cycle=False, **kwargs):\n",
        "    \"\"\" iterates minibatches of data in random order \"\"\"\n",
        "    while True:\n",
        "        indices = np.arange(len(data))\n",
        "        if shuffle:\n",
        "            indices = np.random.permutation(indices)\n",
        "\n",
        "        for start in range(0, len(indices), batch_size):\n",
        "            batch = make_batch(data.iloc[indices[start : start + batch_size]], **kwargs)\n",
        "            target = batch.pop(target_column)\n",
        "            yield batch, target\n",
        "        \n",
        "        if not cycle: break"
      ],
      "execution_count": 30,
      "outputs": []
    },
    {
      "cell_type": "code",
      "metadata": {
        "id": "ytJTJ6kUNQJO"
      },
      "source": [
        "iterator = iterate_minibatches(data_train, 3)\n",
        "batch, target = next(iterator)"
      ],
      "execution_count": 31,
      "outputs": []
    },
    {
      "cell_type": "code",
      "metadata": {
        "id": "K_eQTndaeCkW",
        "colab": {
          "base_uri": "https://localhost:8080/"
        },
        "outputId": "baba9337-f6f0-454e-db75-83e5f79d41ee"
      },
      "source": [
        "batch, target"
      ],
      "execution_count": 32,
      "outputs": [
        {
          "output_type": "execute_result",
          "data": {
            "text/plain": [
              "({'Categorical_dict': array([[0., 0., 0., ..., 0., 0., 0.],\n",
              "         [0., 0., 0., ..., 0., 0., 0.],\n",
              "         [0., 0., 0., ..., 0., 0., 0.]], dtype=float32),\n",
              "  'Categorical_tfidf': array([[0., 0., 0., ..., 0., 0., 0.],\n",
              "         [0., 0., 0., ..., 0., 0., 0.],\n",
              "         [0., 0., 0., ..., 0., 0., 0.]]),\n",
              "  'FullDescription': array([[12853, 19426, 25392, ...,     1,     1,     1],\n",
              "         [12732, 27432, 14367, ...,  2422, 21358,   169],\n",
              "         [  982, 11866, 21956, ...,     1,     1,     1]], dtype=int32),\n",
              "  'Title': array([[ 9625,   907, 13621, 18324, 15554,  5769, 18371, 28016, 30646,\n",
              "          18324],\n",
              "         [25638, 21436,    33,  6068, 18327,  5385, 14822,    65,     1,\n",
              "              1],\n",
              "         [12294, 18111, 29893, 33087,  2415,     1,     1,     1,     1,\n",
              "              1]], dtype=int32)},\n",
              " array([11.808583, 10.021315,  9.852247], dtype=float32))"
            ]
          },
          "metadata": {},
          "execution_count": 32
        }
      ]
    },
    {
      "cell_type": "markdown",
      "metadata": {
        "id": "S8YgolzokxwB"
      },
      "source": [
        "**nn.Conv1d()**\n",
        "\n",
        "\\begin{array}{l}\\text { - Input: }\\left(N, C_{i n}, L_{i n}\\right) \\\\ \\text { - Output: }\\left(N, C_{\\text {out }}, L_{\\text {out }}\\right) \\text { where } \\\\ L_{\\text {out }}=\\left\\lfloor\\frac{L_{\\text {in }}+2 \\times \\text { padding }-\\text { dilation } \\times(\\text { kernel_size }-1)-1}{\\text { stride }}+1\\right.\\end{array}\n",
        "\n",
        "in default case:\n",
        "* padding=0\n",
        "* dilation=1\n",
        "* stride=1\n",
        "\n",
        "$L_{out} = L_{in} -kernel\\_size + 1$"
      ]
    },
    {
      "cell_type": "markdown",
      "metadata": {
        "id": "wya99s2fKbLU"
      },
      "source": [
        "Предлагается построить такую архитектуру:\n",
        "Conv-relu-conv-relu-bn-OvertimePooling-flatten-linear"
      ]
    },
    {
      "cell_type": "code",
      "metadata": {
        "id": "FntBgOOQNQJO"
      },
      "source": [
        "# Here is some startup code:\n",
        "n_tokens = len(tokens)\n",
        "n_cat_features = len(categorical_vectorizer.vocabulary_)\n",
        "hid_size = 64\n",
        "n_maxs = 2\n",
        "simple_model = nn.Sequential()\n",
        "\n",
        "simple_model.add_module('emb', nn.Embedding(num_embeddings=n_tokens, \n",
        "                                            embedding_dim=hid_size)) # NxLXC; L-seq_len, C-embedding_dim\n",
        "simple_model.add_module('reorder', Reorder())                        # NxCxL\n",
        "\n",
        "# <YOUR CODE HERE>\n",
        "simple_model.add_module('Conv1', nn.Conv1d(in_channels=hid_size, \n",
        "                                           out_channels=2*hid_size,\n",
        "                                           kernel_size=3))           # Nx(2C)x(L-2)\n",
        "simple_model.add_module('relu1', nn.ReLU())  # Nx(2C)x(L-2)\n",
        "simple_model.add_module('Conv2', nn.Conv1d(in_channels=2*hid_size, \n",
        "                                           out_channels=2*hid_size,\n",
        "                                           kernel_size=3))           # Nx(2C)x(L-4)\n",
        "simple_model.add_module('relu2', nn.ReLU())                          # Nx(2C)x(L-4)\n",
        "simple_model.add_module('bn1', nn.BatchNorm1d(2*hid_size))           # Nx(2C)x(L-4)\n",
        "simple_model.add_module('adaptivepool', nn.AdaptiveMaxPool1d(n_maxs))# Nx(2C)xN_maxs; фактически, это overtime pooling\n",
        "\n",
        "simple_model.add_module('flatten', nn.Flatten())                     # Nx(2*C*N_maxs)\n",
        "simple_model.add_module('linear', nn.Linear(2*hid_size*n_maxs, 1))   # Nx1"
      ],
      "execution_count": 33,
      "outputs": []
    },
    {
      "cell_type": "code",
      "metadata": {
        "colab": {
          "base_uri": "https://localhost:8080/"
        },
        "id": "K-xNFIcqEZjF",
        "outputId": "2c256d86-7a28-41b1-bdec-a69c5990f0ef"
      },
      "source": [
        "batch['FullDescription'].shape"
      ],
      "execution_count": 34,
      "outputs": [
        {
          "output_type": "execute_result",
          "data": {
            "text/plain": [
              "(3, 379)"
            ]
          },
          "metadata": {},
          "execution_count": 34
        }
      ]
    },
    {
      "cell_type": "code",
      "metadata": {
        "colab": {
          "base_uri": "https://localhost:8080/"
        },
        "id": "xZoTV3OqndC0",
        "outputId": "300476c0-e975-404f-87b9-3dd6c371a553"
      },
      "source": [
        "tmp = simple_model(torch.tensor(batch['FullDescription']))\n",
        "batch['FullDescription'].shape, tmp.shape"
      ],
      "execution_count": 35,
      "outputs": [
        {
          "output_type": "execute_result",
          "data": {
            "text/plain": [
              "((3, 379), torch.Size([3, 1]))"
            ]
          },
          "metadata": {},
          "execution_count": 35
        }
      ]
    },
    {
      "cell_type": "markdown",
      "metadata": {
        "id": "oZQ977RsNQJO"
      },
      "source": [
        "__Remember!__ We are working with regression problem and predicting only one number."
      ]
    },
    {
      "cell_type": "code",
      "metadata": {
        "colab": {
          "base_uri": "https://localhost:8080/"
        },
        "id": "TTmtDuoyNQJP",
        "outputId": "7ba897ee-dea0-48d0-e741-ab05aee1e08a"
      },
      "source": [
        "# Try this to check your model. `torch.long` tensors are required for nn.Embedding layers.\n",
        "simple_model(torch.tensor(batch['FullDescription'], dtype=torch.long))"
      ],
      "execution_count": 47,
      "outputs": [
        {
          "output_type": "execute_result",
          "data": {
            "text/plain": [
              "tensor([[-2.1320],\n",
              "        [-0.7879],\n",
              "        [ 2.4220]], grad_fn=<AddmmBackward0>)"
            ]
          },
          "metadata": {},
          "execution_count": 47
        }
      ]
    },
    {
      "cell_type": "markdown",
      "metadata": {
        "id": "6UbVEtKoNQJP"
      },
      "source": [
        "And now simple training pipeline:"
      ]
    },
    {
      "cell_type": "code",
      "metadata": {
        "colab": {
          "base_uri": "https://localhost:8080/",
          "height": 265,
          "referenced_widgets": [
            "bd5aa160f6aa484ba1bcbd605b28e68c",
            "c0462acc908b4ca9b5404c3b729e4127",
            "9a9bf6312cec49d3b52de4e9fa13b055",
            "3aa7061afeba442bbccef7767711bb02",
            "494959fdd4ba4640977a715f18642f9b",
            "abffe3c3cbd146f7820e209755c423bd",
            "0881fafdd6cf407f80b8fd5a7b5ee411",
            "d048009317ec42709bf474b5531beea0",
            "1892353c9ece44c5a4db3a1db6cd85e1",
            "b772845b1f7c4e0b8a663ca031d4f05a",
            "6b219670059443b097ae5db721b33269"
          ]
        },
        "id": "-_jNhFcfNQJP",
        "outputId": "3727aa38-24f0-4a86-9fb6-2584764fbb3f"
      },
      "source": [
        "from IPython.display import clear_output\n",
        "from random import sample\n",
        "from tqdm.auto import tqdm\n",
        "\n",
        "\n",
        "epochs = 1\n",
        "device = torch.device('cuda:0' if torch.cuda.is_available() else 'cpu')\n",
        "print(device)\n",
        "\n",
        "model = simple_model.to(device)\n",
        "opt = torch.optim.Adam(model.parameters())\n",
        "loss_func = nn.MSELoss()  # <YOUR CODE HERE>\n",
        "\n",
        "history = []\n",
        "for epoch_num in range(epochs):\n",
        "    for idx, (batch, target) in tqdm(enumerate(iterate_minibatches(data_train))):\n",
        "        # Preprocessing the batch data and target\n",
        "        batch = torch.tensor(batch['FullDescription'], dtype=torch.long).to(device)\n",
        "        target = torch.tensor(target).to(device)\n",
        "\n",
        "        predictions = model(batch)\n",
        "        predictions = predictions.view(predictions.size(0))\n",
        "\n",
        "        loss =  loss_func(predictions, target)  # <YOUR CODE HERE>\n",
        "\n",
        "        # train with backprop\n",
        "        # <YOUR CODE HERE>\n",
        "        opt.zero_grad()\n",
        "        loss.backward()\n",
        "        opt.step()\n",
        "\n",
        "        history.append(loss.item())\n",
        "        if (idx+1)%10==0:\n",
        "            clear_output(True)\n",
        "            plt.plot(history,label='loss')\n",
        "            plt.yscale('log')\n",
        "            plt.legend()\n",
        "            plt.show()"
      ],
      "execution_count": null,
      "outputs": [
        {
          "output_type": "display_data",
          "data": {
            "image/png": "[encoded data removed]",
            "text/plain": [
              "<Figure size 432x288 with 1 Axes>"
            ]
          },
          "metadata": {
            "needs_background": "light"
          }
        }
      ]
    },
    {
      "cell_type": "markdown",
      "metadata": {
        "id": "ZaFMLJ-wNQJP"
      },
      "source": [
        "To evaluate the model it can be switched to `eval` state."
      ]
    },
    {
      "cell_type": "code",
      "metadata": {
        "colab": {
          "base_uri": "https://localhost:8080/"
        },
        "id": "FNscc8q9NQJP",
        "outputId": "554aa9d4-eb4f-4acc-9da1-21ab3b4a2a05"
      },
      "source": [
        "simple_model.eval()"
      ],
      "execution_count": null,
      "outputs": [
        {
          "output_type": "execute_result",
          "data": {
            "text/plain": [
              "Sequential(\n",
              "  (emb): Embedding(34158, 64)\n",
              "  (reorder): Reorder()\n",
              "  (Conv1): Conv1d(64, 128, kernel_size=(3,), stride=(1,))\n",
              "  (relu1): ReLU()\n",
              "  (Conv2): Conv1d(128, 128, kernel_size=(3,), stride=(1,))\n",
              "  (relu2): ReLU()\n",
              "  (bn1): BatchNorm1d(128, eps=1e-05, momentum=0.1, affine=True, track_running_stats=True)\n",
              "  (adaptivepool): AdaptiveMaxPool1d(output_size=2)\n",
              "  (flatten): Flatten(start_dim=1, end_dim=-1)\n",
              "  (linear): Linear(in_features=256, out_features=1, bias=True)\n",
              ")"
            ]
          },
          "metadata": {},
          "execution_count": 203
        }
      ]
    },
    {
      "cell_type": "markdown",
      "metadata": {
        "id": "PGzWtEAVNQJP"
      },
      "source": [
        "Let's check the model quality."
      ]
    },
    {
      "cell_type": "code",
      "metadata": {
        "id": "lZckilpZur1G"
      },
      "source": [
        "batch_size=256"
      ],
      "execution_count": null,
      "outputs": []
    },
    {
      "cell_type": "code",
      "metadata": {
        "colab": {
          "base_uri": "https://localhost:8080/",
          "height": 185,
          "referenced_widgets": [
            "8fea42b46e494b3fa0ebc09ea8ec671f",
            "da3ca4c5af47434a809e65305d79246b",
            "5c58dd823e524c3595acf077ee8ce0e6",
            "b360a212f82141b681fcb6235f658e1c",
            "612d62cb805849a884552b5dee3e9c5e",
            "4e47e96f3a8f45998150aab821324cdb",
            "0f46d6302ffb4ff4bb01d5e25de3e86b",
            "dd8cdca5be6b4cb7b596963d10df3b34",
            "c1315aa444cc46dba93523ea3bcac637",
            "bae424b1cb4244dfbfbfc69f2b5784b6",
            "a7e9a8d9986a4de5a3d6954702d80779",
            "95030b1f33a54eaf8631dab1647c5e84",
            "37ca50f881884497ab28bf26ff8cc6c5",
            "16fd21f9e99b4a68bf575f89459372b2",
            "9e56f056c10e410191c0883c261cf527",
            "781773e98fcd4bfd9393d0bf7827c590",
            "f60463738d5f4112aab649f0c9b41166",
            "c02af68c148d4d2ebca6640bbc401799",
            "46e3c2bf893b45558ccf77030cbe165f",
            "7b84653e6f7c4f8595d977d13293ac27",
            "1a7831527e8a465db75f67f1038904b1",
            "ae3fba5844c142e8b6dad71784f85c12"
          ]
        },
        "id": "gp8mLNd-NQJP",
        "outputId": "ba59bd3a-75a6-4146-af69-dca6c20f45e1"
      },
      "source": [
        " def print_metrics(model, data, batch_size=batch_size, name=\"\", **kw):\n",
        "    squared_error = abs_error = num_samples = 0.0\n",
        "    for batch_x, batch_y in tqdm(iterate_minibatches(data, batch_size=batch_size, shuffle=False, **kw)):\n",
        "        batch = torch.tensor(batch_x['FullDescription'], dtype=torch.long).to(device)\n",
        "        batch_pred = model(batch)[:, 0].detach().cpu().numpy()\n",
        "        squared_error += np.sum(np.square(np.exp(batch_pred) - np.exp(batch_y)))\n",
        "        abs_error += np.sum(np.abs(np.exp(batch_pred) - np.exp(batch_y)))\n",
        "        num_samples += len(batch_y)\n",
        "    print(\"%s results:\" % (name or \"\"))\n",
        "    print(\"Mean square error: %.5f\" % (squared_error / num_samples))\n",
        "    print(\"Mean absolute error: %.5f\" % (abs_error / num_samples))\n",
        "    return squared_error/ num_samples, abs_error / num_samples\n",
        "\n",
        "train_errors = print_metrics(simple_model, data_train, name='Train')\n",
        "val_errors = print_metrics(simple_model, data_val, name='Val');"
      ],
      "execution_count": null,
      "outputs": [
        {
          "output_type": "display_data",
          "data": {
            "application/vnd.jupyter.widget-view+json": {
              "model_id": "8fea42b46e494b3fa0ebc09ea8ec671f",
              "version_minor": 0,
              "version_major": 2
            },
            "text/plain": [
              "0it [00:00, ?it/s]"
            ]
          },
          "metadata": {}
        },
        {
          "output_type": "stream",
          "name": "stdout",
          "text": [
            "Train results:\n",
            "Mean square error: 289673015.16811\n",
            "Mean absolute error: 11665.33409\n"
          ]
        },
        {
          "output_type": "display_data",
          "data": {
            "application/vnd.jupyter.widget-view+json": {
              "model_id": "95030b1f33a54eaf8631dab1647c5e84",
              "version_minor": 0,
              "version_major": 2
            },
            "text/plain": [
              "0it [00:00, ?it/s]"
            ]
          },
          "metadata": {}
        },
        {
          "output_type": "stream",
          "name": "stdout",
          "text": [
            "Val results:\n",
            "Mean square error: 295069658.80851\n",
            "Mean absolute error: 11796.29967\n"
          ]
        }
      ]
    },
    {
      "cell_type": "markdown",
      "metadata": {
        "id": "8U8mXfDbNQJQ"
      },
      "source": [
        "### Bonus area: three-headed network.\n",
        "\n",
        "Now you can try to implement the network we've discussed above. Use [__PyTorch nn.Module API__](https://pytorch.org/docs/stable/nn.html#torch.nn.Module)."
      ]
    },
    {
      "cell_type": "code",
      "metadata": {
        "id": "Gea3OB0y5ZmU"
      },
      "source": [
        "iterator = iterate_minibatches(data_train, 3)\n",
        "batch, target = next(iterator)"
      ],
      "execution_count": null,
      "outputs": []
    },
    {
      "cell_type": "code",
      "metadata": {
        "colab": {
          "base_uri": "https://localhost:8080/"
        },
        "id": "4uBHzRQ8D2Og",
        "outputId": "4641ed2f-bd7e-45c2-aa15-91d8fd129dbb"
      },
      "source": [
        "batch['Categorical'].shape[1] == len(categorical_vectorizer.vocabulary_)\n"
      ],
      "execution_count": null,
      "outputs": [
        {
          "output_type": "execute_result",
          "data": {
            "text/plain": [
              "True"
            ]
          },
          "metadata": {},
          "execution_count": 207
        }
      ]
    },
    {
      "cell_type": "code",
      "metadata": {
        "colab": {
          "base_uri": "https://localhost:8080/",
          "height": 282
        },
        "id": "w5nVrS3n6Ls6",
        "outputId": "872badad-153c-4e9f-d7c0-6e413de54f46"
      },
      "source": [
        "data_train['Title'].apply(lambda x: len(x.split(' '))).hist(bins=100)"
      ],
      "execution_count": null,
      "outputs": [
        {
          "output_type": "execute_result",
          "data": {
            "text/plain": [
              "<matplotlib.axes._subplots.AxesSubplot at 0x7feec2ee8d10>"
            ]
          },
          "metadata": {},
          "execution_count": 208
        },
        {
          "output_type": "display_data",
          "data": {
            "image/png": "[encoded data removed]",
            "text/plain": [
              "<Figure size 432x288 with 1 Axes>"
            ]
          },
          "metadata": {
            "needs_background": "light"
          }
        }
      ]
    },
    {
      "cell_type": "code",
      "metadata": {
        "colab": {
          "base_uri": "https://localhost:8080/"
        },
        "id": "_8ClA5olEvfC",
        "outputId": "f05e542b-df8f-44e0-a95f-e304c03a472e"
      },
      "source": [
        "# target output size of 5\n",
        "m = nn.AdaptiveAvgPool1d(2)\n",
        "input = torch.tensor([[[1,2,3, 4],\n",
        "                       [1,2,3, 4]],\n",
        "                      [[1,2,3, 4],\n",
        "                       [1,2,3, 4]]]).type(torch.float)\n",
        "output = m(input)\n",
        "\n",
        "output"
      ],
      "execution_count": 10,
      "outputs": [
        {
          "output_type": "execute_result",
          "data": {
            "text/plain": [
              "tensor([[[1.5000, 3.5000],\n",
              "         [1.5000, 3.5000]],\n",
              "\n",
              "        [[1.5000, 3.5000],\n",
              "         [1.5000, 3.5000]]])"
            ]
          },
          "metadata": {},
          "execution_count": 10
        }
      ]
    },
    {
      "cell_type": "code",
      "metadata": {
        "id": "1lb89nlWNQJQ"
      },
      "source": [
        "class DescriptionHead(nn.Module):\n",
        "    def __init__(self, \n",
        "                 hid_size=64,  # embedding_dim\n",
        "                 n_maxs=2,    # fixed seq len for every sample after applying MaxOverTime Pooling\n",
        "                 n_tokens=len(tokens)):\n",
        "        super().__init__()\n",
        "        \n",
        "        self.model = nn.Sequential(nn.Embedding(num_embeddings=n_tokens, \n",
        "                                                embedding_dim=hid_size) , # NxLXC; L-seq_len, C-embedding_dim\n",
        "                                   Reorder(),                            # NxCxL\n",
        "                                   nn.Conv1d(in_channels=hid_size, \n",
        "                                             out_channels=2*hid_size,\n",
        "                                             kernel_size=3),           # Nx(2C)x(L-2)\n",
        "                                   nn.ReLU(),                          # Nx(2C)x(L-2)\n",
        "                                   nn.Conv1d(in_channels=2*hid_size, \n",
        "                                             out_channels=2*hid_size,\n",
        "                                             kernel_size=3),           # Nx(2C)x(L-4)\n",
        "                                   nn.ReLU(),                          # Nx(2C)x(L-4)\n",
        "                                   nn.BatchNorm1d(2*hid_size),         # Nx(2C)x(L-4)\n",
        "                                   nn.AdaptiveMaxPool1d(n_maxs), # Nx(2C)xN_maxs; фактически, это overtime pooling\n",
        "                                   nn.Flatten(),                       # Nx(2*C*N_maxs)\n",
        "                                   )\n",
        "    def forward(self, input):\n",
        "        return self.model(input)\n",
        "\n",
        "\n",
        "class TitleHead(nn.Module):\n",
        "    def __init__(self, \n",
        "                 hid_size=64,  # embedding_dim\n",
        "                 n_maxs=2,     # fixed seq len for every sample after applying MaxOverTime Pooling\n",
        "                 n_tokens=len(tokens)):\n",
        "        super().__init__()\n",
        "        \n",
        "        self.model = nn.Sequential(nn.Embedding(num_embeddings=n_tokens, \n",
        "                                                embedding_dim=hid_size) , # NxLXC; L-seq_len, C-embedding_dim\n",
        "                                   Reorder(),                             # NxCxL\n",
        "                                   nn.Conv1d(in_channels=hid_size, \n",
        "                                             out_channels=2*hid_size,\n",
        "                                             kernel_size=2),           # Nx(2C)x(L-1)\n",
        "                                   nn.ReLU(),  # Nx(2C)x(L-2)\n",
        "                                   nn.Conv1d(in_channels=2*hid_size, \n",
        "                                             out_channels=2*hid_size,\n",
        "                                             kernel_size=2),           # Nx(2C)x(L-2)\n",
        "                                   nn.ReLU(),                          # Nx(2C)x(L-2)\n",
        "                                   nn.BatchNorm1d(2*hid_size),         # Nx(2C)x(L-2)\n",
        "                                   nn.AdaptiveMaxPool1d(n_maxs), # Nx(2C)xN_maxs; фактически, это overtime pooling\n",
        "                                   nn.Flatten())                       # Nx(2*C*N_maxs)\n",
        "    def forward(self, input):\n",
        "        return self.model(input)\n",
        "\n",
        "\n",
        "class CategoricalHead(nn.Module):\n",
        "    def __init__(self, \n",
        "                 n_cat_features=len(categorical_vectorizer.vocabulary_), # shape[1] of batch['Categorical]\n",
        "                 n_out=256,\n",
        "                 ):\n",
        "        super().__init__()\n",
        "        \n",
        "        self.model = nn.Sequential(nn.Linear(n_cat_features, 512),\n",
        "                                   nn.BatchNorm1d(512),\n",
        "                                   nn.ReLU(),\n",
        "                                   nn.Linear(512, n_out))\n",
        "\n",
        "    def forward(self, input):\n",
        "        return self.model(input)\n",
        "\n",
        "\n",
        "class ThreeInputsNet(nn.Module):\n",
        "    def __init__(self, \n",
        "                 n_tokens=len(tokens),\n",
        "                 n_cat_features=len(categorical_vectorizer.vocabulary_), \n",
        "                 hid_size=64,  # number of features representing each word \n",
        "                 n_maxs=2,  # fixed seq len for every sample after applying MaxOverTime Pooling\n",
        "                 cat_n_out=256,  # size of categorical embedding\n",
        "                 use_title=False,\n",
        "                 use_categorical=False):\n",
        "        super().__init__()\n",
        "\n",
        "        self.use_title = use_title\n",
        "        self.use_categorical = use_categorical\n",
        "\n",
        "        self.description_head = DescriptionHead(n_tokens=n_tokens, n_maxs=n_maxs, hid_size=hid_size)\n",
        "        self.title_head = TitleHead(n_tokens=n_tokens, n_maxs=n_maxs, hid_size=hid_size)\n",
        "        self.category_head = CategoricalHead(n_cat_features, cat_n_out)\n",
        "\n",
        "        # description_head + title_head + categorical_head\n",
        "        feat_num = hid_size*2*n_maxs\n",
        "        if self.use_title:\n",
        "            feat_num += hid_size*2*n_maxs\n",
        "        if self.use_categorical:\n",
        "            feat_num += cat_n_out\n",
        "\n",
        "        self.fc = nn.Sequential(nn.Linear(feat_num, 256),\n",
        "                                    nn.BatchNorm1d(256),\n",
        "                                    nn.ReLU(),\n",
        "                                    nn.Linear(256, 64),\n",
        "                                    nn.BatchNorm1d(64),\n",
        "                                    nn.ReLU(),\n",
        "                                    nn.Linear(64, 1))\n",
        "        self.fc = nn.Sequential(nn.Linear(feat_num, 1))\n",
        "        \n",
        "    def forward(self, whole_input):\n",
        "        input_description = whole_input['FullDescription']\n",
        "        input_title = whole_input['Title']\n",
        "        input_cat = whole_input['Categorical_dict']\n",
        "        # input_cat = whole_input['Categorical_tfidf']\n",
        "        \n",
        "        if self.use_title:\n",
        "            title = self.title_head(torch.tensor(input_title, dtype=torch.long))\n",
        "        description = self.description_head(input_description)     \n",
        "        if self.use_categorical:\n",
        "            category = self.category_head(torch.tensor(input_cat, dtype=torch.float))     \n",
        "\n",
        "        concatenated = description.clone()\n",
        "        if self.use_title:\n",
        "            concatenated = torch.cat([concatenated, title], dim=1)\n",
        "        if self.use_categorical:\n",
        "            concatenated = torch.cat([concatenated, category], dim=1)\n",
        "        \n",
        "        out = self.fc(concatenated)\n",
        "        \n",
        "        return out"
      ],
      "execution_count": null,
      "outputs": []
    },
    {
      "cell_type": "code",
      "metadata": {
        "id": "3V1asjLBLnCm"
      },
      "source": [
        "class RunModel:\n",
        "    def __init__(self, data_train, data_val, model, epochs=1, \n",
        "                 lr=0.001, gamma=0.5, weight_decay=1e-4,\n",
        "                 plot_mode='print', device='cpu'):\n",
        "        print(f'Using {device}')\n",
        "        self.device = device\n",
        "        self.plot_mode = plot_mode\n",
        "        self.epochs = epochs\n",
        "\n",
        "        self.model = model.to(device)\n",
        "        self.opt = torch.optim.Adam(self.model.parameters(), lr=lr, weight_decay=weight_decay)\n",
        "        self.scheduler = torch.optim.lr_scheduler.StepLR(self.opt, step_size=2, gamma=gamma)\n",
        "        self.loss_func = nn.MSELoss()\n",
        "        \n",
        "        self.data_train = data_train\n",
        "        self.data_val = data_val\n",
        "\n",
        "    def train_loop(self):\n",
        "        self.model.train()\n",
        "        hist_tr_iter = []\n",
        "        for idx, (batch, target) in enumerate(iterate_minibatches(self.data_train)):\n",
        "            batch = {key: torch.tensor(val).to(self.device) for key, val in batch.items()}\n",
        "            target = torch.tensor(target).to(self.device)\n",
        "\n",
        "            predictions = self.model(batch).squeeze()\n",
        "            loss = self.loss_func(predictions, target) \n",
        "            \n",
        "            with torch.no_grad():\n",
        "                metric = self.mse_exp(target.cpu(), predictions.cpu())\n",
        "                hist_tr_iter.append(metric)\n",
        "\n",
        "            self.opt.zero_grad()\n",
        "            loss.backward()\n",
        "            self.opt.step()\n",
        "\n",
        "        hist_tr_epoch = np.mean(hist_tr_iter)\n",
        "        if self.plot_mode=='print':\n",
        "            print(f'Train RMSE: {hist_tr_epoch:.0f}')\n",
        "\n",
        "        return hist_tr_epoch\n",
        "\n",
        "    def eval_loop(self):\n",
        "        self.model.eval()\n",
        "        hist_val_iter = []\n",
        "        for idx, (batch, target) in enumerate(iterate_minibatches(self.data_val)):\n",
        "            batch = {key: torch.tensor(val).to(self.device) for key, val in batch.items()}\n",
        "            target = torch.tensor(target).to(self.device)\n",
        "\n",
        "            predictions = self.model(batch).squeeze()\n",
        "            loss = self.loss_func(predictions, target)\n",
        "\n",
        "            with torch.no_grad():\n",
        "                metric = self.mse_exp(target.cpu(), predictions.cpu())\n",
        "                hist_val_iter.append(metric)\n",
        "\n",
        "            if (idx+1)%10==0:\n",
        "                if self.plot_mode=='graph':\n",
        "                    clear_output(True)\n",
        "                    plt.plot(history,label='loss')\n",
        "                    plt.yscale('log')\n",
        "                    plt.legend()\n",
        "                    plt.show()\n",
        "\n",
        "        hist_val_epoch = np.mean(hist_val_iter)\n",
        "        if self.plot_mode=='print':\n",
        "            print(f'Val RMSE: {hist_val_epoch:.0f}\\n')\n",
        "\n",
        "        return hist_val_epoch\n",
        "\n",
        "    def fit_model(self):\n",
        "        hist_tr, hist_val = [], []\n",
        "\n",
        "        for epoch_num in tqdm(range(self.epochs)):\n",
        "            hist_tr_iter = self.train_loop()\n",
        "            hist_tr.append(hist_tr_iter)\n",
        "\n",
        "            hist_val_iter = self.eval_loop()\n",
        "            hist_val.append(hist_val_iter)\n",
        "\n",
        "            self.scheduler.step()\n",
        "\n",
        "        return hist_tr, hist_val\n",
        "\n",
        "    def mse_exp(self, true, predict):\n",
        "        return torch.sqrt(torch.mean(torch.square(torch.exp(predict) - torch.exp(true))))"
      ],
      "execution_count": null,
      "outputs": []
    },
    {
      "cell_type": "markdown",
      "metadata": {
        "id": "7z4XINdyc_9p"
      },
      "source": [
        "### Training only Description head"
      ]
    },
    {
      "cell_type": "code",
      "metadata": {
        "id": "5Wx9c6s0jV-G"
      },
      "source": [
        "DEVICE = torch.device('cuda:0' if torch.cuda.is_available() else 'cpu')"
      ],
      "execution_count": null,
      "outputs": []
    },
    {
      "cell_type": "code",
      "metadata": {
        "colab": {
          "base_uri": "https://localhost:8080/",
          "height": 831,
          "referenced_widgets": [
            "64052c96f61a46b08ffb1c21ee934d73",
            "0a28255f1cbd4378b465997042b42c66",
            "805e8c74b4424650abe7650415a121a4",
            "c2c6c12da06f4c32ac1d1662b7befece",
            "60b9cc8cb4c54fecb8ad73b03e05071a",
            "ed8c0929fce9403d9594995c1e4665b1",
            "50c17339afdf4c6da1eb9fe01a714fa0",
            "b02f330450ab465d9ab95ce094500d51",
            "4abe2ae135c449d38c3441d769bcaa6b",
            "187df3bddd424e7786648f0f6ae3903b",
            "c35f1db474da4323ad2916431b24c1cd"
          ]
        },
        "id": "081hYp0y5Fgb",
        "outputId": "358c6bb4-f800-46b3-e410-dea5b2f1fd47"
      },
      "source": [
        "EPOCHS = 15\n",
        "LR = 0.001  # 3e-4\n",
        "\n",
        "model_uni = ThreeInputsNet(n_tokens=len(tokens),\n",
        "                           n_cat_features=len(categorical_vectorizer.vocabulary_),\n",
        "                           hid_size=64,\n",
        "                           n_maxs=2,\n",
        "                           cat_n_out=256,\n",
        "                           use_title=False, \n",
        "                           use_categorical=False)\n",
        "                            \n",
        "run_model = RunModel(data_train, data_val, model_uni, epochs=EPOCHS, lr=LR, \n",
        "                     plot_mode='print', device=DEVICE)\n",
        "hist_tr_epoch, hist_val_epoch = run_model.fit_model()"
      ],
      "execution_count": null,
      "outputs": [
        {
          "output_type": "stream",
          "name": "stdout",
          "text": [
            "Using cuda:0\n"
          ]
        },
        {
          "output_type": "display_data",
          "data": {
            "application/vnd.jupyter.widget-view+json": {
              "model_id": "64052c96f61a46b08ffb1c21ee934d73",
              "version_minor": 0,
              "version_major": 2
            },
            "text/plain": [
              "  0%|          | 0/15 [00:00<?, ?it/s]"
            ]
          },
          "metadata": {}
        },
        {
          "output_type": "stream",
          "name": "stdout",
          "text": [
            "Train RMSE: 163452\n",
            "Val RMSE: 20686\n",
            "\n",
            "Train RMSE: 17025\n",
            "Val RMSE: 16705\n",
            "\n",
            "Train RMSE: 16117\n",
            "Val RMSE: 18117\n",
            "\n",
            "Train RMSE: 15714\n",
            "Val RMSE: 14972\n",
            "\n",
            "Train RMSE: 15194\n",
            "Val RMSE: 17571\n",
            "\n",
            "Train RMSE: 14847\n",
            "Val RMSE: 15775\n",
            "\n",
            "Train RMSE: 14337\n",
            "Val RMSE: 22269\n",
            "\n",
            "Train RMSE: 14325\n",
            "Val RMSE: 13585\n",
            "\n",
            "Train RMSE: 13757\n",
            "Val RMSE: 13249\n",
            "\n",
            "Train RMSE: 13815\n",
            "Val RMSE: 13110\n",
            "\n",
            "Train RMSE: 13524\n",
            "Val RMSE: 14092\n",
            "\n",
            "Train RMSE: 13401\n",
            "Val RMSE: 13403\n",
            "\n",
            "Train RMSE: 13483\n",
            "Val RMSE: 12963\n",
            "\n",
            "Train RMSE: 13419\n",
            "Val RMSE: 13035\n",
            "\n",
            "Train RMSE: 13305\n",
            "Val RMSE: 13248\n",
            "\n"
          ]
        }
      ]
    },
    {
      "cell_type": "markdown",
      "metadata": {
        "id": "8mhBfr4tdE82"
      },
      "source": [
        "### Training all 3 heads"
      ]
    },
    {
      "cell_type": "code",
      "metadata": {
        "colab": {
          "base_uri": "https://localhost:8080/",
          "height": 112
        },
        "id": "TdrdJKlhojNA",
        "outputId": "5522e0f1-d619-4e6c-d0c9-1c905bcf7d52"
      },
      "source": [
        "data_train[categorical_columns].head(2)"
      ],
      "execution_count": null,
      "outputs": [
        {
          "output_type": "execute_result",
          "data": {
            "text/html": [
              "<div>\n",
              "<style scoped>\n",
              "    .dataframe tbody tr th:only-of-type {\n",
              "        vertical-align: middle;\n",
              "    }\n",
              "\n",
              "    .dataframe tbody tr th {\n",
              "        vertical-align: top;\n",
              "    }\n",
              "\n",
              "    .dataframe thead th {\n",
              "        text-align: right;\n",
              "    }\n",
              "</style>\n",
              "<table border=\"1\" class=\"dataframe\">\n",
              "  <thead>\n",
              "    <tr style=\"text-align: right;\">\n",
              "      <th></th>\n",
              "      <th>Category</th>\n",
              "      <th>Company</th>\n",
              "      <th>LocationNormalized</th>\n",
              "      <th>ContractType</th>\n",
              "      <th>ContractTime</th>\n",
              "    </tr>\n",
              "  </thead>\n",
              "  <tbody>\n",
              "    <tr>\n",
              "      <th>0</th>\n",
              "      <td>Healthcare &amp; Nursing Jobs</td>\n",
              "      <td>Other</td>\n",
              "      <td>Taunton</td>\n",
              "      <td>NaN</td>\n",
              "      <td>permanent</td>\n",
              "    </tr>\n",
              "    <tr>\n",
              "      <th>1</th>\n",
              "      <td>Scientific &amp; QA Jobs</td>\n",
              "      <td>Other</td>\n",
              "      <td>North West London</td>\n",
              "      <td>NaN</td>\n",
              "      <td>permanent</td>\n",
              "    </tr>\n",
              "  </tbody>\n",
              "</table>\n",
              "</div>"
            ],
            "text/plain": [
              "                    Category Company  ... ContractType ContractTime\n",
              "0  Healthcare & Nursing Jobs   Other  ...          NaN    permanent\n",
              "1       Scientific & QA Jobs   Other  ...          NaN    permanent\n",
              "\n",
              "[2 rows x 5 columns]"
            ]
          },
          "metadata": {},
          "execution_count": 139
        }
      ]
    },
    {
      "cell_type": "code",
      "metadata": {
        "id": "FwMovV13QgQg"
      },
      "source": [
        "# categorical_vectorizer.transform(data_train[categorical_columns].apply(dict, axis=1)).shape\n",
        "len(categorical_vectorizer.feature_names_)"
      ],
      "execution_count": null,
      "outputs": []
    },
    {
      "cell_type": "code",
      "metadata": {
        "colab": {
          "base_uri": "https://localhost:8080/"
        },
        "id": "8AAsESgylf7e",
        "outputId": "9db4128a-6cc1-4268-89c0-d34db5d6319f"
      },
      "source": [
        "iterator = iterate_minibatches(data_train, 3)\n",
        "batch, target = next(iterator)\n",
        "\n",
        "\n",
        "print(batch['Categorical_dict'].shape[1] == len(categorical_vectorizer.vocabulary_))\n",
        "print(batch['Categorical_tfidf'].shape[1] == len(tfidf_vectorizer.vocabulary_))"
      ],
      "execution_count": null,
      "outputs": [
        {
          "output_type": "stream",
          "name": "stdout",
          "text": [
            "True\n",
            "True\n"
          ]
        }
      ]
    },
    {
      "cell_type": "code",
      "metadata": {
        "id": "aFILPT1ZdFIu",
        "colab": {
          "base_uri": "https://localhost:8080/",
          "height": 576,
          "referenced_widgets": [
            "162a1089d9ea45e1ac734270d505834d",
            "cec372f6ee26415685f606c3866151dd",
            "b29b2bb427194fec9b37e14367d892e6",
            "3e3e35a22afc470bb91b9de3355ade22",
            "7649a02bc57b4e29ac447dd667519ecf",
            "e14357266ba84f4585417f45d10d6401",
            "64f988e420ec4735a4a4fd4663e949ab",
            "b84f65ff30f24eb68eb316149db7a437",
            "71a8b37c224e40ea9e144e602de07c64",
            "f274cff364df436ab425f98c177a89a9",
            "ec62d74acf8a46adb7bcfd8d0adfddc8"
          ]
        },
        "outputId": "47913ea1-6a48-4653-cd8d-11c204e31ee6"
      },
      "source": [
        "import warnings\n",
        "warnings.filterwarnings('ignore')\n",
        "\n",
        "EPOCHS = 10\n",
        "LR = 0.001  # 3e-4\n",
        "\n",
        "model_3heads = ThreeInputsNet(n_tokens=len(tokens),\n",
        "                                n_cat_features=len(tfidf_vectorizer.vocabulary_),\n",
        "                                hid_size=64,\n",
        "                                n_maxs=2,\n",
        "                                cat_n_out=256,\n",
        "                                use_title=True, \n",
        "                                use_categorical=True)\n",
        "                            \n",
        "run_model = RunModel(data_train, data_val, model_3heads, epochs=EPOCHS, lr=LR, \n",
        "                     plot_mode='print', device=DEVICE)\n",
        "hist_tr_epoch, hist_val_epoch = run_model.fit_model()"
      ],
      "execution_count": null,
      "outputs": [
        {
          "output_type": "stream",
          "name": "stdout",
          "text": [
            "Using cuda:0\n"
          ]
        },
        {
          "output_type": "display_data",
          "data": {
            "application/vnd.jupyter.widget-view+json": {
              "model_id": "162a1089d9ea45e1ac734270d505834d",
              "version_minor": 0,
              "version_major": 2
            },
            "text/plain": [
              "  0%|          | 0/10 [00:00<?, ?it/s]"
            ]
          },
          "metadata": {}
        },
        {
          "output_type": "stream",
          "name": "stdout",
          "text": [
            "Train RMSE: 57900\n",
            "Val RMSE: 16524\n",
            "\n",
            "Train RMSE: 14958\n",
            "Val RMSE: 12993\n",
            "\n",
            "Train RMSE: 12402\n",
            "Val RMSE: 14303\n",
            "\n",
            "Train RMSE: 12238\n",
            "Val RMSE: 13195\n",
            "\n",
            "Train RMSE: 11286\n",
            "Val RMSE: 11356\n",
            "\n",
            "Train RMSE: 11219\n",
            "Val RMSE: 13147\n",
            "\n",
            "Train RMSE: 10580\n",
            "Val RMSE: 11411\n",
            "\n",
            "Train RMSE: 10447\n",
            "Val RMSE: 11010\n",
            "\n",
            "Train RMSE: 9958\n",
            "Val RMSE: 10837\n",
            "\n",
            "Train RMSE: 9870\n",
            "Val RMSE: 10764\n",
            "\n"
          ]
        }
      ]
    },
    {
      "cell_type": "markdown",
      "metadata": {
        "id": "-rMLn8MzBbhe"
      },
      "source": [
        "#### Use only 2 heads out of 3: Title & Description"
      ]
    },
    {
      "cell_type": "code",
      "metadata": {
        "colab": {
          "base_uri": "https://localhost:8080/",
          "height": 831,
          "referenced_widgets": [
            "154d8de8ca2f4bc2b4290e955a8d0a46",
            "21eb07f4a24a4b1c8b5ee6f80cd7cede",
            "cfbcce86571a4053a3a166a57528b286",
            "30d03745168740568d87dc6bee3bf38b",
            "fefdc5ad295d4600b74588c9453211c5",
            "e52fbc94ddfd484e827324684408aaae",
            "e034e3024f7e41e296f2a4939781fb08",
            "3e94c92f11304c218320674bd785ce85",
            "fac0827c2d134409b9c88ef9ae695eba",
            "3089428b990f4df0b04fe20cf26be215",
            "9879445be868442bbaece2b5f7c9433f"
          ]
        },
        "id": "txv_Cjm9BY0e",
        "outputId": "c9b407f8-9f47-4e60-a60b-3856170d4726"
      },
      "source": [
        "import warnings\n",
        "warnings.filterwarnings('ignore')\n",
        "\n",
        "EPOCHS = 15\n",
        "LR = 0.001  # 3e-4\n",
        "\n",
        "model_3heads = ThreeInputsNet(n_tokens=len(tokens),\n",
        "                                n_cat_features=len(tfidf_vectorizer.vocabulary_),\n",
        "                                hid_size=64,\n",
        "                                n_maxs=2,\n",
        "                                cat_n_out=256,\n",
        "                                use_title=True, \n",
        "                                use_categorical=False)\n",
        "                            \n",
        "run_model = RunModel(data_train, data_val, model_3heads, epochs=EPOCHS, lr=LR, \n",
        "                     plot_mode='print', device=DEVICE)\n",
        "hist_tr_epoch, hist_val_epoch = run_model.fit_model()"
      ],
      "execution_count": null,
      "outputs": [
        {
          "metadata": {
            "tags": null
          },
          "name": "stdout",
          "output_type": "stream",
          "text": [
            "Using cuda:0\n"
          ]
        },
        {
          "data": {
            "application/vnd.jupyter.widget-view+json": {
              "model_id": "154d8de8ca2f4bc2b4290e955a8d0a46",
              "version_major": 2,
              "version_minor": 0
            },
            "text/plain": [
              "  0%|          | 0/15 [00:00<?, ?it/s]"
            ]
          },
          "metadata": {},
          "output_type": "display_data"
        },
        {
          "output_type": "stream",
          "name": "stdout",
          "text": [
            "Train RMSE: 6928512\n",
            "Val RMSE: 20387\n",
            "\n",
            "Train RMSE: 16257\n",
            "Val RMSE: 14240\n",
            "\n",
            "Train RMSE: 14105\n",
            "Val RMSE: 13419\n",
            "\n",
            "Train RMSE: 13525\n",
            "Val RMSE: 32118\n",
            "\n",
            "Train RMSE: 12900\n",
            "Val RMSE: 12314\n",
            "\n",
            "Train RMSE: 12594\n",
            "Val RMSE: 12116\n",
            "\n",
            "Train RMSE: 12134\n",
            "Val RMSE: 12916\n",
            "\n",
            "Train RMSE: 11964\n",
            "Val RMSE: 11858\n",
            "\n",
            "Train RMSE: 11624\n",
            "Val RMSE: 11807\n",
            "\n",
            "Train RMSE: 11568\n",
            "Val RMSE: 11451\n",
            "\n",
            "Train RMSE: 11310\n",
            "Val RMSE: 11558\n",
            "\n",
            "Train RMSE: 11251\n",
            "Val RMSE: 11991\n",
            "\n",
            "Train RMSE: 11092\n",
            "Val RMSE: 11377\n",
            "\n",
            "Train RMSE: 11068\n",
            "Val RMSE: 11483\n",
            "\n",
            "Train RMSE: 10969\n",
            "Val RMSE: 11541\n",
            "\n"
          ]
        }
      ]
    },
    {
      "cell_type": "markdown",
      "metadata": {
        "id": "Zs2llsR5NQJQ"
      },
      "source": [
        "### Bonus area: comparing RNN to CNN\n",
        "Try implementing simple RNN (or LSTM) and applying it to this task. Compare the quality/performance of these networks. \n",
        "*Hint: try to build networks with ~same number of paremeters.*"
      ]
    },
    {
      "cell_type": "code",
      "metadata": {
        "id": "MvPulK74NQJQ"
      },
      "source": [
        "# <YOUR CODE HERE>"
      ],
      "execution_count": null,
      "outputs": []
    },
    {
      "cell_type": "markdown",
      "metadata": {
        "id": "Ao_wM-FnNQJQ"
      },
      "source": [
        "__Terrible start-up idea #1962:__ make a tool that automaticaly rephrases your job description (or CV) to meet salary expectations :)"
      ]
    }
  ]
}