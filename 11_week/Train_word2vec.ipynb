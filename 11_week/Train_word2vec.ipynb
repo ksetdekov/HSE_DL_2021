{
  "nbformat": 4,
  "nbformat_minor": 0,
  "metadata": {
    "kernelspec": {
      "display_name": "Python 3",
      "language": "python",
      "name": "python3"
    },
    "language_info": {
      "codemirror_mode": {
        "name": "ipython",
        "version": 3
      },
      "file_extension": ".py",
      "mimetype": "text/x-python",
      "name": "python",
      "nbconvert_exporter": "python",
      "pygments_lexer": "ipython3",
      "version": "3.7.3"
    },
    "colab": {
      "name": "Train_word2vec.ipynb",
      "provenance": [],
      "collapsed_sections": []
    }
  },
  "cells": [
    {
      "cell_type": "code",
      "metadata": {
        "id": "CggdAnzJ2726"
      },
      "source": [
        "# https://stackoverflow.com/questions/47805170/whats-the-hardware-spec-for-google-colaboratory"
      ],
      "execution_count": 12,
      "outputs": []
    },
    {
      "cell_type": "code",
      "metadata": {
        "colab": {
          "base_uri": "https://localhost:8080/"
        },
        "id": "-qr3Pkpk288l",
        "outputId": "c79e7889-bc9f-4a3f-8761-42c5b6d6b412"
      },
      "source": [
        "!df -h"
      ],
      "execution_count": 1,
      "outputs": [
        {
          "output_type": "stream",
          "name": "stdout",
          "text": [
            "Filesystem      Size  Used Avail Use% Mounted on\n",
            "overlay         108G   47G   62G  44% /\n",
            "tmpfs            64M     0   64M   0% /dev\n",
            "tmpfs           6.4G     0  6.4G   0% /sys/fs/cgroup\n",
            "shm             5.9G     0  5.9G   0% /dev/shm\n",
            "/dev/root       2.0G  1.2G  821M  59% /sbin/docker-init\n",
            "tmpfs           6.4G   28K  6.4G   1% /var/colab\n",
            "/dev/sda1        81G   51G   31G  63% /etc/hosts\n",
            "tmpfs           6.4G     0  6.4G   0% /proc/acpi\n",
            "tmpfs           6.4G     0  6.4G   0% /proc/scsi\n",
            "tmpfs           6.4G     0  6.4G   0% /sys/firmware\n"
          ]
        }
      ]
    },
    {
      "cell_type": "code",
      "metadata": {
        "colab": {
          "base_uri": "https://localhost:8080/"
        },
        "id": "H0ehj-jq29EB",
        "outputId": "891283a8-3ae0-4be8-b986-feebc057408c"
      },
      "source": [
        "!cat /proc/cpuinfo"
      ],
      "execution_count": 2,
      "outputs": [
        {
          "output_type": "stream",
          "name": "stdout",
          "text": [
            "processor\t: 0\n",
            "vendor_id\t: GenuineIntel\n",
            "cpu family\t: 6\n",
            "model\t\t: 79\n",
            "model name\t: Intel(R) Xeon(R) CPU @ 2.20GHz\n",
            "stepping\t: 0\n",
            "microcode\t: 0x1\n",
            "cpu MHz\t\t: 2199.998\n",
            "cache size\t: 56320 KB\n",
            "physical id\t: 0\n",
            "siblings\t: 2\n",
            "core id\t\t: 0\n",
            "cpu cores\t: 1\n",
            "apicid\t\t: 0\n",
            "initial apicid\t: 0\n",
            "fpu\t\t: yes\n",
            "fpu_exception\t: yes\n",
            "cpuid level\t: 13\n",
            "wp\t\t: yes\n",
            "flags\t\t: fpu vme de pse tsc msr pae mce cx8 apic sep mtrr pge mca cmov pat pse36 clflush mmx fxsr sse sse2 ss ht syscall nx pdpe1gb rdtscp lm constant_tsc rep_good nopl xtopology nonstop_tsc cpuid tsc_known_freq pni pclmulqdq ssse3 fma cx16 pcid sse4_1 sse4_2 x2apic movbe popcnt aes xsave avx f16c rdrand hypervisor lahf_lm abm 3dnowprefetch invpcid_single ssbd ibrs ibpb stibp fsgsbase tsc_adjust bmi1 hle avx2 smep bmi2 erms invpcid rtm rdseed adx smap xsaveopt arat md_clear arch_capabilities\n",
            "bugs\t\t: cpu_meltdown spectre_v1 spectre_v2 spec_store_bypass l1tf mds swapgs taa\n",
            "bogomips\t: 4399.99\n",
            "clflush size\t: 64\n",
            "cache_alignment\t: 64\n",
            "address sizes\t: 46 bits physical, 48 bits virtual\n",
            "power management:\n",
            "\n",
            "processor\t: 1\n",
            "vendor_id\t: GenuineIntel\n",
            "cpu family\t: 6\n",
            "model\t\t: 79\n",
            "model name\t: Intel(R) Xeon(R) CPU @ 2.20GHz\n",
            "stepping\t: 0\n",
            "microcode\t: 0x1\n",
            "cpu MHz\t\t: 2199.998\n",
            "cache size\t: 56320 KB\n",
            "physical id\t: 0\n",
            "siblings\t: 2\n",
            "core id\t\t: 0\n",
            "cpu cores\t: 1\n",
            "apicid\t\t: 1\n",
            "initial apicid\t: 1\n",
            "fpu\t\t: yes\n",
            "fpu_exception\t: yes\n",
            "cpuid level\t: 13\n",
            "wp\t\t: yes\n",
            "flags\t\t: fpu vme de pse tsc msr pae mce cx8 apic sep mtrr pge mca cmov pat pse36 clflush mmx fxsr sse sse2 ss ht syscall nx pdpe1gb rdtscp lm constant_tsc rep_good nopl xtopology nonstop_tsc cpuid tsc_known_freq pni pclmulqdq ssse3 fma cx16 pcid sse4_1 sse4_2 x2apic movbe popcnt aes xsave avx f16c rdrand hypervisor lahf_lm abm 3dnowprefetch invpcid_single ssbd ibrs ibpb stibp fsgsbase tsc_adjust bmi1 hle avx2 smep bmi2 erms invpcid rtm rdseed adx smap xsaveopt arat md_clear arch_capabilities\n",
            "bugs\t\t: cpu_meltdown spectre_v1 spectre_v2 spec_store_bypass l1tf mds swapgs taa\n",
            "bogomips\t: 4399.99\n",
            "clflush size\t: 64\n",
            "cache_alignment\t: 64\n",
            "address sizes\t: 46 bits physical, 48 bits virtual\n",
            "power management:\n",
            "\n"
          ]
        }
      ]
    },
    {
      "cell_type": "code",
      "metadata": {
        "colab": {
          "base_uri": "https://localhost:8080/"
        },
        "id": "HxtNczuR29K-",
        "outputId": "08ef5796-2e31-4633-bb5d-b4fe144f84f6"
      },
      "source": [
        "!cat /proc/meminfo"
      ],
      "execution_count": 3,
      "outputs": [
        {
          "output_type": "stream",
          "name": "stdout",
          "text": [
            "MemTotal:       13302916 kB\n",
            "MemFree:        10567792 kB\n",
            "MemAvailable:   12486992 kB\n",
            "Buffers:          121440 kB\n",
            "Cached:          1937332 kB\n",
            "SwapCached:            0 kB\n",
            "Active:          1022052 kB\n",
            "Inactive:        1465164 kB\n",
            "Active(anon):     396964 kB\n",
            "Inactive(anon):      428 kB\n",
            "Active(file):     625088 kB\n",
            "Inactive(file):  1464736 kB\n",
            "Unevictable:           0 kB\n",
            "Mlocked:               0 kB\n",
            "SwapTotal:             0 kB\n",
            "SwapFree:              0 kB\n",
            "Dirty:             12372 kB\n",
            "Writeback:             0 kB\n",
            "AnonPages:        428360 kB\n",
            "Mapped:           236944 kB\n",
            "Shmem:              1152 kB\n",
            "KReclaimable:     141908 kB\n",
            "Slab:             187108 kB\n",
            "SReclaimable:     141908 kB\n",
            "SUnreclaim:        45200 kB\n",
            "KernelStack:        4912 kB\n",
            "PageTables:         5860 kB\n",
            "NFS_Unstable:          0 kB\n",
            "Bounce:                0 kB\n",
            "WritebackTmp:          0 kB\n",
            "CommitLimit:     6651456 kB\n",
            "Committed_AS:    3069004 kB\n",
            "VmallocTotal:   34359738367 kB\n",
            "VmallocUsed:        7300 kB\n",
            "VmallocChunk:          0 kB\n",
            "Percpu:             1568 kB\n",
            "AnonHugePages:         0 kB\n",
            "ShmemHugePages:        0 kB\n",
            "ShmemPmdMapped:        0 kB\n",
            "FileHugePages:         0 kB\n",
            "FilePmdMapped:         0 kB\n",
            "CmaTotal:              0 kB\n",
            "CmaFree:               0 kB\n",
            "HugePages_Total:       0\n",
            "HugePages_Free:        0\n",
            "HugePages_Rsvd:        0\n",
            "HugePages_Surp:        0\n",
            "Hugepagesize:       2048 kB\n",
            "Hugetlb:               0 kB\n",
            "DirectMap4k:       84800 kB\n",
            "DirectMap2M:     5154816 kB\n",
            "DirectMap1G:    10485760 kB\n"
          ]
        }
      ]
    },
    {
      "cell_type": "markdown",
      "metadata": {
        "id": "zNSg8pG1X5Rb"
      },
      "source": [
        "# Как научить компьютер читать? \n",
        "\n",
        "В этой тетрадке мы обучим свой собственный word2vec. Делать мы это будем на каком-нибудь не очень большом тексте, который вам предстоит выбрать самому. На выбор есть [несколько сказок](https://github.com/nevmenandr/word2vec-russian-novels/tree/master/vector-school) и других [литературных штук](https://github.com/nevmenandr/word2vec-russian-novels/tree/master/books_before) из школьной программы. "
      ]
    },
    {
      "cell_type": "code",
      "metadata": {
        "id": "9W8-koqyX5Rf"
      },
      "source": [
        "# Ссылка на выбранное вами произведение\n",
        "# Я взял преступление и наказание (ненвижу Достоевского)\n",
        "url = 'https://raw.githubusercontent.com/nevmenandr/word2vec-russian-novels/master/books_before/CrimeAndPunishment.txt'"
      ],
      "execution_count": 1,
      "outputs": []
    },
    {
      "cell_type": "markdown",
      "metadata": {
        "id": "jg0ui61mX5Ri"
      },
      "source": [
        "Спарсим текст из файлика.\\\n",
        "**`Requests`** [tutorial](https://realpython.com/python-requests/)"
      ]
    },
    {
      "cell_type": "code",
      "metadata": {
        "colab": {
          "base_uri": "https://localhost:8080/"
        },
        "id": "9l9T23v4X5Ri",
        "outputId": "e0079212-f64d-4fe8-9371-7685a2c3bd90"
      },
      "source": [
        "import requests\n",
        "\n",
        "resp = requests.get(url)\n",
        "text = resp.text \n",
        "\n",
        "# Последние 500 символов. Аккуратно! Спойлеры!\n",
        "print(text[-500:])"
      ],
      "execution_count": 2,
      "outputs": [
        {
          "output_type": "stream",
          "name": "stdout",
          "text": [
            "смотреть на эти семь лет, как на семь\n",
            "дней. Он даже и не знал того, что новая жизнь не даром же ему достается, что ее надо еще дорого купить, заплатить за нее великим, будущим подвигом...\n",
            "Но тут уж начинается новая история, история постепенного обновления человека, история постепенного перерождения его, постепенного перехода из одного мира в другой, знакомства с новою, доселе совершенно неведомою действительностью. Это могло бы составить тему нового рассказа, - но теперешний рассказ наш окончен.\n"
          ]
        }
      ]
    },
    {
      "cell_type": "markdown",
      "metadata": {
        "id": "-IkB1iNlX5Rk"
      },
      "source": [
        "## 1. Предобработка\n",
        "\n",
        "Теперь нам надо его немного предобработать.  Пусть все слова пишутся с маленькой буквы. "
      ]
    },
    {
      "cell_type": "code",
      "metadata": {
        "id": "0idm7hLjX5Rk"
      },
      "source": [
        "text = text.lower()"
      ],
      "execution_count": 3,
      "outputs": []
    },
    {
      "cell_type": "markdown",
      "metadata": {
        "id": "-1Asoq64X5Rl"
      },
      "source": [
        "Разобьём весь текст на предложения. \\\n",
        "**`re`** [tutorial](https://tproger.ru/translations/regular-expression-python/)"
      ]
    },
    {
      "cell_type": "code",
      "metadata": {
        "id": "wMYZEyG_X5Rl"
      },
      "source": [
        "import re \n",
        "# выкидываем лишние символы! \n",
        "text = re.sub('\\n|\\t|\\r', ' ', text)"
      ],
      "execution_count": 4,
      "outputs": []
    },
    {
      "cell_type": "markdown",
      "metadata": {
        "id": "5lWzXCmsPnTg"
      },
      "source": [
        "**`nltk`** [tutorial](https://www.guru99.com/nltk-tutorial.html)"
      ]
    },
    {
      "cell_type": "code",
      "metadata": {
        "colab": {
          "base_uri": "https://localhost:8080/"
        },
        "id": "MFrHan9tOykI",
        "outputId": "4689449d-15b7-48a5-d4e5-a0c8569a1597"
      },
      "source": [
        "import nltk\n",
        "\n",
        "# nltk.download('all') # если хотим всё и сразу \n",
        "\n",
        "# нам хватит вот этого: \n",
        "nltk.download('stopwords')\n",
        "nltk.download('punkt')"
      ],
      "execution_count": 5,
      "outputs": [
        {
          "output_type": "stream",
          "name": "stdout",
          "text": [
            "[nltk_data] Downloading package stopwords to /root/nltk_data...\n",
            "[nltk_data]   Package stopwords is already up-to-date!\n",
            "[nltk_data] Downloading package punkt to /root/nltk_data...\n",
            "[nltk_data]   Package punkt is already up-to-date!\n"
          ]
        },
        {
          "output_type": "execute_result",
          "data": {
            "text/plain": [
              "True"
            ]
          },
          "metadata": {},
          "execution_count": 5
        }
      ]
    },
    {
      "cell_type": "code",
      "metadata": {
        "colab": {
          "base_uri": "https://localhost:8080/"
        },
        "id": "oVq7vAJ-X5Rm",
        "outputId": "ec9448e3-b2a8-4b42-cbe5-0c3a508934d5"
      },
      "source": [
        "from nltk.tokenize import sent_tokenize\n",
        "\n",
        "sents = sent_tokenize(text)\n",
        "len(sents)"
      ],
      "execution_count": 6,
      "outputs": [
        {
          "output_type": "execute_result",
          "data": {
            "text/plain": [
              "13702"
            ]
          },
          "metadata": {},
          "execution_count": 6
        }
      ]
    },
    {
      "cell_type": "code",
      "metadata": {
        "colab": {
          "base_uri": "https://localhost:8080/",
          "height": 37
        },
        "id": "jLcWiRIXX5Rn",
        "outputId": "582b52ea-0c8d-4d96-873e-fcba0212bd71"
      },
      "source": [
        "sents[220]"
      ],
      "execution_count": 7,
      "outputs": [
        {
          "output_type": "execute_result",
          "data": {
            "application/vnd.google.colaboratory.intrinsic+json": {
              "type": "string"
            },
            "text/plain": [
              "'действительно, на его платье и даже в волосах кое-где виднелись прилипшие былинки сена.'"
            ]
          },
          "metadata": {},
          "execution_count": 7
        }
      ]
    },
    {
      "cell_type": "markdown",
      "metadata": {
        "id": "hNOGapnVX5Rn"
      },
      "source": [
        "Разобьём каждое предложение на отдельные слова."
      ]
    },
    {
      "cell_type": "code",
      "metadata": {
        "colab": {
          "base_uri": "https://localhost:8080/"
        },
        "id": "xfBgyxv8Uo7p",
        "outputId": "268dc868-8e10-4268-9347-895fb48d8951"
      },
      "source": [
        "from nltk.tokenize import word_tokenize\n",
        "\n",
        "print(word_tokenize(sents[0]))\n",
        "sents[:2]"
      ],
      "execution_count": 8,
      "outputs": [
        {
          "output_type": "stream",
          "name": "stdout",
          "text": [
            "['преступление', 'и', 'наказание', 'роман', 'в', 'шести', 'частях', 'с', 'эпилогом', 'часть', 'первая', 'i', 'в', 'начале', 'июля', ',', 'в', 'чрезвычайно', 'жаркое', 'время', ',', 'под', 'вечер', ',', 'один', 'молодой', 'человек', 'вышел', 'из', 'своей', 'каморки', ',', 'которую', 'нанимал', 'от', 'жильцов', 'в', 'с', '-', 'м', 'переулке', ',', 'на', 'улицу', 'и', 'медленно', ',', 'как', 'бы', 'в', 'нерешимости', ',', 'отправился', 'к', 'к', '-', 'ну', 'мосту', '.']\n"
          ]
        },
        {
          "output_type": "execute_result",
          "data": {
            "text/plain": [
              "['преступление и наказание роман  в шести частях с эпилогом  часть первая  i  в начале июля, в чрезвычайно жаркое время, под вечер, один молодой человек вышел из своей каморки, которую нанимал от жильцов в с - м переулке, на улицу и медленно, как бы в нерешимости, отправился к к - ну мосту.',\n",
              " 'он благополучно избегнул встречи с своею хозяйкой на лестнице.']"
            ]
          },
          "metadata": {},
          "execution_count": 8
        }
      ]
    },
    {
      "cell_type": "code",
      "metadata": {
        "colab": {
          "base_uri": "https://localhost:8080/"
        },
        "id": "LLH0sapIX5Ro",
        "outputId": "596b2555-8a4d-4c43-f311-3bc0f9cffd5e"
      },
      "source": [
        "from nltk.tokenize import RegexpTokenizer\n",
        "\n",
        "tokenizer = RegexpTokenizer('\\w+')\n",
        "tokenizer.tokenize(sents[220])"
      ],
      "execution_count": 9,
      "outputs": [
        {
          "output_type": "execute_result",
          "data": {
            "text/plain": [
              "['действительно',\n",
              " 'на',\n",
              " 'его',\n",
              " 'платье',\n",
              " 'и',\n",
              " 'даже',\n",
              " 'в',\n",
              " 'волосах',\n",
              " 'кое',\n",
              " 'где',\n",
              " 'виднелись',\n",
              " 'прилипшие',\n",
              " 'былинки',\n",
              " 'сена']"
            ]
          },
          "metadata": {},
          "execution_count": 9
        }
      ]
    },
    {
      "cell_type": "code",
      "metadata": {
        "colab": {
          "base_uri": "https://localhost:8080/"
        },
        "id": "mdtI_QmvX5Ro",
        "outputId": "cd6223f5-095d-4471-8f61-9e4765df4484"
      },
      "source": [
        "# разбейте все предложения на токены \n",
        "sents_tokenize  =  [tokenizer.tokenize(item) for item in sents]\n",
        "sents_tokenize[:2]"
      ],
      "execution_count": 10,
      "outputs": [
        {
          "output_type": "execute_result",
          "data": {
            "text/plain": [
              "[['преступление',\n",
              "  'и',\n",
              "  'наказание',\n",
              "  'роман',\n",
              "  'в',\n",
              "  'шести',\n",
              "  'частях',\n",
              "  'с',\n",
              "  'эпилогом',\n",
              "  'часть',\n",
              "  'первая',\n",
              "  'i',\n",
              "  'в',\n",
              "  'начале',\n",
              "  'июля',\n",
              "  'в',\n",
              "  'чрезвычайно',\n",
              "  'жаркое',\n",
              "  'время',\n",
              "  'под',\n",
              "  'вечер',\n",
              "  'один',\n",
              "  'молодой',\n",
              "  'человек',\n",
              "  'вышел',\n",
              "  'из',\n",
              "  'своей',\n",
              "  'каморки',\n",
              "  'которую',\n",
              "  'нанимал',\n",
              "  'от',\n",
              "  'жильцов',\n",
              "  'в',\n",
              "  'с',\n",
              "  'м',\n",
              "  'переулке',\n",
              "  'на',\n",
              "  'улицу',\n",
              "  'и',\n",
              "  'медленно',\n",
              "  'как',\n",
              "  'бы',\n",
              "  'в',\n",
              "  'нерешимости',\n",
              "  'отправился',\n",
              "  'к',\n",
              "  'к',\n",
              "  'ну',\n",
              "  'мосту'],\n",
              " ['он',\n",
              "  'благополучно',\n",
              "  'избегнул',\n",
              "  'встречи',\n",
              "  'с',\n",
              "  'своею',\n",
              "  'хозяйкой',\n",
              "  'на',\n",
              "  'лестнице']]"
            ]
          },
          "metadata": {},
          "execution_count": 10
        }
      ]
    },
    {
      "cell_type": "code",
      "metadata": {
        "colab": {
          "base_uri": "https://localhost:8080/"
        },
        "id": "grHmUh9HX5Rp",
        "outputId": "7cbb86d8-40a7-4e06-e062-cee7bf803a33"
      },
      "source": [
        "# Flatten без numpy :) \n",
        "words = [item for sent in sents_tokenize for item in sent]\n",
        "words[:10]"
      ],
      "execution_count": 11,
      "outputs": [
        {
          "output_type": "execute_result",
          "data": {
            "text/plain": [
              "['преступление',\n",
              " 'и',\n",
              " 'наказание',\n",
              " 'роман',\n",
              " 'в',\n",
              " 'шести',\n",
              " 'частях',\n",
              " 'с',\n",
              " 'эпилогом',\n",
              " 'часть']"
            ]
          },
          "metadata": {},
          "execution_count": 11
        }
      ]
    },
    {
      "cell_type": "code",
      "metadata": {
        "colab": {
          "base_uri": "https://localhost:8080/"
        },
        "id": "QwwLIrq0X5Rp",
        "outputId": "de768587-784e-4b25-d43d-d832ab35f497"
      },
      "source": [
        "len(words) # всего слов"
      ],
      "execution_count": 12,
      "outputs": [
        {
          "output_type": "execute_result",
          "data": {
            "text/plain": [
              "173403"
            ]
          },
          "metadata": {},
          "execution_count": 12
        }
      ]
    },
    {
      "cell_type": "code",
      "metadata": {
        "colab": {
          "base_uri": "https://localhost:8080/"
        },
        "id": "bx5aIgXwX5Rq",
        "outputId": "b6dead2b-4d26-412c-e08c-e26e6e1cace9"
      },
      "source": [
        "len(set(words)) # уникальных слов"
      ],
      "execution_count": 13,
      "outputs": [
        {
          "output_type": "execute_result",
          "data": {
            "text/plain": [
              "24925"
            ]
          },
          "metadata": {},
          "execution_count": 13
        }
      ]
    },
    {
      "cell_type": "markdown",
      "metadata": {
        "id": "FNzy4bkZX5Rq"
      },
      "source": [
        "Можно выбросить все стоп-слова. "
      ]
    },
    {
      "cell_type": "code",
      "metadata": {
        "colab": {
          "base_uri": "https://localhost:8080/"
        },
        "id": "kIbhM3_AX5Rr",
        "outputId": "76ebe160-d0ce-44bb-ec17-1fa116f925a3"
      },
      "source": [
        "from nltk.corpus import stopwords\n",
        "\n",
        "stopwords_ru = stopwords.words('russian') \n",
        "stopwords_ru[:10]"
      ],
      "execution_count": 14,
      "outputs": [
        {
          "output_type": "execute_result",
          "data": {
            "text/plain": [
              "['и', 'в', 'во', 'не', 'что', 'он', 'на', 'я', 'с', 'со']"
            ]
          },
          "metadata": {},
          "execution_count": 14
        }
      ]
    },
    {
      "cell_type": "code",
      "metadata": {
        "colab": {
          "base_uri": "https://localhost:8080/"
        },
        "id": "rPBGw8oQX5Rr",
        "outputId": "cc9d748c-17b7-4dd4-ff5b-1b8f7d3979f4"
      },
      "source": [
        "len(stopwords_ru)"
      ],
      "execution_count": 15,
      "outputs": [
        {
          "output_type": "execute_result",
          "data": {
            "text/plain": [
              "151"
            ]
          },
          "metadata": {},
          "execution_count": 15
        }
      ]
    },
    {
      "cell_type": "code",
      "metadata": {
        "colab": {
          "base_uri": "https://localhost:8080/"
        },
        "id": "zioQwW9zX5Rs",
        "outputId": "63ba384e-0e9f-4f42-c85a-d3e734e3c897"
      },
      "source": [
        "# избавьтесь от стоп-слов \n",
        "sents_tokenize = [[item for item in sent if item not in stopwords_ru]\n",
        "                        for sent in sents_tokenize]\n",
        "sents_tokenize[:2]"
      ],
      "execution_count": 16,
      "outputs": [
        {
          "output_type": "execute_result",
          "data": {
            "text/plain": [
              "[['преступление',\n",
              "  'наказание',\n",
              "  'роман',\n",
              "  'шести',\n",
              "  'частях',\n",
              "  'эпилогом',\n",
              "  'часть',\n",
              "  'первая',\n",
              "  'i',\n",
              "  'начале',\n",
              "  'июля',\n",
              "  'чрезвычайно',\n",
              "  'жаркое',\n",
              "  'время',\n",
              "  'вечер',\n",
              "  'молодой',\n",
              "  'человек',\n",
              "  'вышел',\n",
              "  'своей',\n",
              "  'каморки',\n",
              "  'которую',\n",
              "  'нанимал',\n",
              "  'жильцов',\n",
              "  'м',\n",
              "  'переулке',\n",
              "  'улицу',\n",
              "  'медленно',\n",
              "  'нерешимости',\n",
              "  'отправился',\n",
              "  'мосту'],\n",
              " ['благополучно', 'избегнул', 'встречи', 'своею', 'хозяйкой', 'лестнице']]"
            ]
          },
          "metadata": {},
          "execution_count": 16
        }
      ]
    },
    {
      "cell_type": "markdown",
      "metadata": {
        "id": "uohGUT4rX5Rs"
      },
      "source": [
        "Слов в корпусе не очень много. Давайте лемматизируем их.  В этом нам поможет библиотека **pymorphy2.**\n",
        "\n",
        "**pymorphy2** — это полноценный морфологический анализатор, целиком написанный на Python. Он также умеет ставить слова в нужную форму (спрягать и склонять). [Документация по pymorphy2.](https://pymorphy2.readthedocs.io/en/latest/)"
      ]
    },
    {
      "cell_type": "code",
      "metadata": {
        "colab": {
          "base_uri": "https://localhost:8080/"
        },
        "id": "eCfxEO2DYuak",
        "outputId": "770b2fc0-292b-453f-b4d1-eb651065c5fd"
      },
      "source": [
        "!pip install pymorphy2"
      ],
      "execution_count": 17,
      "outputs": [
        {
          "output_type": "stream",
          "name": "stdout",
          "text": [
            "Requirement already satisfied: pymorphy2 in /usr/local/lib/python3.7/dist-packages (0.9.1)\n",
            "Requirement already satisfied: dawg-python>=0.7.1 in /usr/local/lib/python3.7/dist-packages (from pymorphy2) (0.7.2)\n",
            "Requirement already satisfied: docopt>=0.6 in /usr/local/lib/python3.7/dist-packages (from pymorphy2) (0.6.2)\n",
            "Requirement already satisfied: pymorphy2-dicts-ru<3.0,>=2.4 in /usr/local/lib/python3.7/dist-packages (from pymorphy2) (2.4.417127.4579844)\n"
          ]
        }
      ]
    },
    {
      "cell_type": "code",
      "metadata": {
        "colab": {
          "base_uri": "https://localhost:8080/",
          "height": 37
        },
        "id": "X3VlaVAKX5Rs",
        "outputId": "a430d46f-9c5c-41f0-968f-d6a0d8274e43"
      },
      "source": [
        "import pymorphy2\n",
        "\n",
        "\n",
        "morph = pymorphy2.MorphAnalyzer()\n",
        "\n",
        "text = \"Филипп пошёл в Авиньон и пленил пап!\"\n",
        "tokens = tokenizer.tokenize(text)  # regexp tokenizer initialized earlier\n",
        "\n",
        "\" \".join(morph.normal_forms(token)[0] for token in tokens)"
      ],
      "execution_count": 18,
      "outputs": [
        {
          "output_type": "execute_result",
          "data": {
            "application/vnd.google.colaboratory.intrinsic+json": {
              "type": "string"
            },
            "text/plain": [
              "'филипп пойти в авиньон и пленить папа'"
            ]
          },
          "metadata": {},
          "execution_count": 18
        }
      ]
    },
    {
      "cell_type": "code",
      "metadata": {
        "colab": {
          "base_uri": "https://localhost:8080/"
        },
        "id": "50_736blX5Rt",
        "outputId": "2a5659e6-56a0-46f8-b191-e91980ce68d3"
      },
      "source": [
        "p = morph.parse('стали')\n",
        "p"
      ],
      "execution_count": 19,
      "outputs": [
        {
          "output_type": "execute_result",
          "data": {
            "text/plain": [
              "[Parse(word='стали', tag=OpencorporaTag('VERB,perf,intr plur,past,indc'), normal_form='стать', score=0.975342, methods_stack=((DictionaryAnalyzer(), 'стали', 945, 4),)),\n",
              " Parse(word='стали', tag=OpencorporaTag('NOUN,inan,femn sing,gent'), normal_form='сталь', score=0.010958, methods_stack=((DictionaryAnalyzer(), 'стали', 13, 1),)),\n",
              " Parse(word='стали', tag=OpencorporaTag('NOUN,inan,femn plur,nomn'), normal_form='сталь', score=0.005479, methods_stack=((DictionaryAnalyzer(), 'стали', 13, 6),)),\n",
              " Parse(word='стали', tag=OpencorporaTag('NOUN,inan,femn sing,datv'), normal_form='сталь', score=0.002739, methods_stack=((DictionaryAnalyzer(), 'стали', 13, 2),)),\n",
              " Parse(word='стали', tag=OpencorporaTag('NOUN,inan,femn sing,loct'), normal_form='сталь', score=0.002739, methods_stack=((DictionaryAnalyzer(), 'стали', 13, 5),)),\n",
              " Parse(word='стали', tag=OpencorporaTag('NOUN,inan,femn plur,accs'), normal_form='сталь', score=0.002739, methods_stack=((DictionaryAnalyzer(), 'стали', 13, 9),))]"
            ]
          },
          "metadata": {},
          "execution_count": 19
        }
      ]
    },
    {
      "cell_type": "markdown",
      "metadata": {
        "id": "cl-0CKFZZ9cs"
      },
      "source": [
        "Зачем нужно возвращать словарь в такой конструкции: `morph.normal_forms(token)`? Ответ ниже."
      ]
    },
    {
      "cell_type": "code",
      "metadata": {
        "colab": {
          "base_uri": "https://localhost:8080/"
        },
        "id": "CdW7pm_lX5Rt",
        "outputId": "1785b455-bc42-47e1-f942-053935c35ef5"
      },
      "source": [
        "morph.normal_forms('стали')"
      ],
      "execution_count": 20,
      "outputs": [
        {
          "output_type": "execute_result",
          "data": {
            "text/plain": [
              "['стать', 'сталь']"
            ]
          },
          "metadata": {},
          "execution_count": 20
        }
      ]
    },
    {
      "cell_type": "markdown",
      "metadata": {
        "id": "je5kur5hX5Ru"
      },
      "source": [
        "Обработаем все слова из датасета. "
      ]
    },
    {
      "cell_type": "code",
      "metadata": {
        "id": "_z0NGwleX5Ru"
      },
      "source": [
        "# лемматизируйте все слова из датасета\n",
        "sents_tokenize = [[morph.normal_forms(item)[0] for item in sent] \n",
        "                    for sent in sents_tokenize]"
      ],
      "execution_count": 21,
      "outputs": []
    },
    {
      "cell_type": "code",
      "metadata": {
        "id": "mOh4EV4DX5Ru"
      },
      "source": [
        "# Flatten без numpy :) \n",
        "words = [item for sent in  sents_tokenize for item in sent]"
      ],
      "execution_count": 22,
      "outputs": []
    },
    {
      "cell_type": "code",
      "metadata": {
        "colab": {
          "base_uri": "https://localhost:8080/"
        },
        "id": "ekL99qSoX5Rv",
        "outputId": "14609c06-91b1-4781-fae0-55e5fda10b26"
      },
      "source": [
        "len(words) # всего слов"
      ],
      "execution_count": 23,
      "outputs": [
        {
          "output_type": "execute_result",
          "data": {
            "text/plain": [
              "93069"
            ]
          },
          "metadata": {},
          "execution_count": 23
        }
      ]
    },
    {
      "cell_type": "code",
      "metadata": {
        "colab": {
          "base_uri": "https://localhost:8080/"
        },
        "id": "1gsF0hBGX5Rv",
        "outputId": "6a225bf6-1837-445b-fb6b-ab396b83d3a1"
      },
      "source": [
        "len(set(words)) # уникальных слов"
      ],
      "execution_count": 24,
      "outputs": [
        {
          "output_type": "execute_result",
          "data": {
            "text/plain": [
              "11084"
            ]
          },
          "metadata": {},
          "execution_count": 24
        }
      ]
    },
    {
      "cell_type": "markdown",
      "metadata": {
        "id": "ZLdPZ_nsX5Rw"
      },
      "source": [
        "Хватит обработок! Мы тут не анализом текстов занимаемся, а нейросетками. Если хочется больше предобработки, хороший мануал по [ссылке](https://nbviewer.jupyter.org/github/FUlyankin/hse_texts_do/blob/master/sem_1/texts_sem1.ipynb).  Давайте построим словарик с частотностями и перейдём к моделированию. "
      ]
    },
    {
      "cell_type": "code",
      "metadata": {
        "colab": {
          "base_uri": "https://localhost:8080/"
        },
        "id": "XydRhjpLX5Rw",
        "outputId": "bd066031-8b10-449b-82f5-5be335cb4e28"
      },
      "source": [
        "from collections import Counter\n",
        "\n",
        "word_dict = Counter(words)\n",
        "word_dict.most_common()[:20]"
      ],
      "execution_count": 25,
      "outputs": [
        {
          "output_type": "execute_result",
          "data": {
            "text/plain": [
              "[('это', 1449),\n",
              " ('всё', 963),\n",
              " ('знать', 630),\n",
              " ('раскольник', 567),\n",
              " ('свой', 549),\n",
              " ('один', 548),\n",
              " ('сказать', 544),\n",
              " ('говорить', 536),\n",
              " ('человек', 501),\n",
              " ('весь', 442),\n",
              " ('стать', 441),\n",
              " ('мочь', 441),\n",
              " ('который', 430),\n",
              " ('сам', 430),\n",
              " ('такой', 395),\n",
              " ('очень', 387),\n",
              " ('какой', 379),\n",
              " ('соня', 379),\n",
              " ('рука', 369),\n",
              " ('петрович', 369)]"
            ]
          },
          "metadata": {},
          "execution_count": 25
        }
      ]
    },
    {
      "cell_type": "code",
      "metadata": {
        "colab": {
          "base_uri": "https://localhost:8080/"
        },
        "id": "1Gx9vmAVX5Rx",
        "outputId": "0e63263a-ee96-4876-fc53-1454d42e8a69"
      },
      "source": [
        "words = word_dict.most_common()\n",
        "len([item for item in words if item[1] >= 3])  # совсем мало :) "
      ],
      "execution_count": 26,
      "outputs": [
        {
          "output_type": "execute_result",
          "data": {
            "text/plain": [
              "4768"
            ]
          },
          "metadata": {},
          "execution_count": 26
        }
      ]
    },
    {
      "cell_type": "markdown",
      "metadata": {
        "id": "wQPu4NRWX5Rx"
      },
      "source": [
        "## 2. Моделирование\n",
        "\n",
        "__Основные параметры:__\n",
        "\n",
        "* данные должны быть итерируемым объектом \n",
        "* `size` — размер вектора, \n",
        "* `window` — размер окна наблюдения,\n",
        "* `min_count` — мин. частотность слова в корпусе,\n",
        "* `sg` — используемый алгоритм обучения (0 — CBOW, 1 — Skip-gram),\n",
        "* `sample` — порог для downsampling'a высокочастотных слов,\n",
        "* `workers` — количество потоков,\n",
        "* `alpha` — learning rate,\n",
        "* `iter` — количество итераций,\n",
        "* `max_vocab_size` — позволяет выставить ограничение по памяти при создании словаря (т.е. если ограничение привышается, то низкочастотные слова будут выбрасываться). Для сравнения: 10 млн слов = 1Гб RAM.\n",
        "\n",
        "\n",
        "**`gensim`** [documentation](https://radimrehurek.com/gensim/auto_examples/tutorials/run_word2vec.html#sphx-glr-auto-examples-tutorials-run-word2vec-py)\\\n",
        "[Нововведения](https://github.com/RaRe-Technologies/gensim/wiki/Migrating-from-Gensim-3.x-to-4) в **gensim 4.0**\n"
      ]
    },
    {
      "cell_type": "code",
      "metadata": {
        "colab": {
          "base_uri": "https://localhost:8080/"
        },
        "id": "x2iURrtzD2nb",
        "outputId": "cd81143f-d9e7-4468-8c44-bec6c88a672d"
      },
      "source": [
        "!pip install gensim==4.1.2"
      ],
      "execution_count": 27,
      "outputs": [
        {
          "output_type": "stream",
          "name": "stdout",
          "text": [
            "Requirement already satisfied: gensim==4.1.2 in /usr/local/lib/python3.7/dist-packages (4.1.2)\n",
            "Requirement already satisfied: scipy>=0.18.1 in /usr/local/lib/python3.7/dist-packages (from gensim==4.1.2) (1.4.1)\n",
            "Requirement already satisfied: numpy>=1.17.0 in /usr/local/lib/python3.7/dist-packages (from gensim==4.1.2) (1.19.5)\n",
            "Requirement already satisfied: smart-open>=1.8.1 in /usr/local/lib/python3.7/dist-packages (from gensim==4.1.2) (5.2.1)\n"
          ]
        }
      ]
    },
    {
      "cell_type": "code",
      "metadata": {
        "colab": {
          "base_uri": "https://localhost:8080/"
        },
        "id": "yaoWjIeVX5Ry",
        "outputId": "986cc1d8-5175-4f90-98ae-d28e7fdb8d7a"
      },
      "source": [
        "#%%time \n",
        "from gensim.models.word2vec import Word2Vec\n",
        "\n",
        "# size - размерность векторов, которые мы хотим обучить\n",
        "# window - ширина окна контекста\n",
        "# min_count - если слово встречается реже, для него не учим модель\n",
        "model = Word2Vec(vector_size=100, window=2, min_count=3, workers=-1)\n",
        "\n",
        "# строительство словаря, чтобы обучение шло быстрее\n",
        "model.build_vocab(sents_tokenize)\n",
        "\n",
        "# обучение модели \n",
        "# первый аргумент - наша выборка, генератор будет вкидывать в модель наши тексты, пока они не кончатся\n",
        "# второй аргумент - число примеров в выборке \n",
        "# третий аргумент - количество эпох обучения: сколько раз модель пройдётся по всему корпусу текстов\n",
        "model.train(sents_tokenize, total_examples=model.corpus_count, epochs=100)\n",
        "\n",
        "# !NB в ситуации, когда у нас огромный корпус, 100 эпох это слишком много! "
      ],
      "execution_count": 64,
      "outputs": [
        {
          "output_type": "execute_result",
          "data": {
            "text/plain": [
              "(0, 0)"
            ]
          },
          "metadata": {},
          "execution_count": 64
        }
      ]
    },
    {
      "cell_type": "markdown",
      "metadata": {
        "id": "Zq1EcW4hBFr2"
      },
      "source": [
        "Другой способ инициализировать и тренировать модель.\n",
        "\n",
        "Такой синтаксис под капотом точно так же строит словарь и вызывает метод `train`"
      ]
    },
    {
      "cell_type": "code",
      "metadata": {
        "colab": {
          "base_uri": "https://localhost:8080/"
        },
        "id": "uRvqvsADCzKc",
        "outputId": "b9446b99-ca08-42d0-fec4-3c1f0b9fa5ae"
      },
      "source": [
        "model2 = Word2Vec(sentences=sents_tokenize, vector_size=100, window=2, min_count=3, workers=-1, epochs=100)\n",
        "print(model2)"
      ],
      "execution_count": 66,
      "outputs": [
        {
          "output_type": "stream",
          "name": "stdout",
          "text": [
            "Word2Vec(vocab=4768, vector_size=100, alpha=0.025)\n"
          ]
        }
      ]
    },
    {
      "cell_type": "code",
      "metadata": {
        "colab": {
          "base_uri": "https://localhost:8080/"
        },
        "id": "yIS2js9SX5Rz",
        "outputId": "64968fbf-be54-4ea8-9e68-78d185b99c42"
      },
      "source": [
        "model.corpus_count # число примеров в обучающей выборке"
      ],
      "execution_count": 32,
      "outputs": [
        {
          "output_type": "execute_result",
          "data": {
            "text/plain": [
              "13702"
            ]
          },
          "metadata": {},
          "execution_count": 32
        }
      ]
    },
    {
      "cell_type": "markdown",
      "metadata": {
        "id": "uW7jOL7nX5R0"
      },
      "source": [
        "Смотрим, сколько в модели слов."
      ]
    },
    {
      "cell_type": "code",
      "metadata": {
        "colab": {
          "base_uri": "https://localhost:8080/"
        },
        "id": "GBgsQhUTX5R0",
        "outputId": "7da01cc7-7e46-447c-c601-63c3237b79d2"
      },
      "source": [
        "len(model.wv), len(model2.wv)"
      ],
      "execution_count": 56,
      "outputs": [
        {
          "output_type": "execute_result",
          "data": {
            "text/plain": [
              "(4768, 4768)"
            ]
          },
          "metadata": {},
          "execution_count": 56
        }
      ]
    },
    {
      "cell_type": "code",
      "metadata": {
        "id": "wLZ-2QHJG16V"
      },
      "source": [
        "# model.wv.key_to_index"
      ],
      "execution_count": 41,
      "outputs": []
    },
    {
      "cell_type": "code",
      "metadata": {
        "scrolled": true,
        "colab": {
          "base_uri": "https://localhost:8080/"
        },
        "id": "iTK4qx5GX5R1",
        "outputId": "06e27459-dbf2-4005-c861-9fc964cf4ee9"
      },
      "source": [
        "'старуха' in model.wv.key_to_index, 'старуха' in model2.wv.key_to_index"
      ],
      "execution_count": 57,
      "outputs": [
        {
          "output_type": "execute_result",
          "data": {
            "text/plain": [
              "(True, True)"
            ]
          },
          "metadata": {},
          "execution_count": 57
        }
      ]
    },
    {
      "cell_type": "code",
      "metadata": {
        "colab": {
          "base_uri": "https://localhost:8080/"
        },
        "id": "ddcNR0NBHI9a",
        "outputId": "6b0aab02-523c-4083-e20a-d4a8d43f8119"
      },
      "source": [
        "model.wv.get_vecattr(\"старуха\", \"count\"), model2.wv.get_vecattr(\"старуха\", \"count\") "
      ],
      "execution_count": 58,
      "outputs": [
        {
          "output_type": "execute_result",
          "data": {
            "text/plain": [
              "(72, 72)"
            ]
          },
          "metadata": {},
          "execution_count": 58
        }
      ]
    },
    {
      "cell_type": "markdown",
      "metadata": {
        "id": "sXdJphMjX5R1"
      },
      "source": [
        "## 3. Свойства модели"
      ]
    },
    {
      "cell_type": "code",
      "metadata": {
        "colab": {
          "base_uri": "https://localhost:8080/"
        },
        "id": "6xtM8EnnX5R1",
        "outputId": "d5b17a93-4b0d-4cde-bd50-eb62254afd0b"
      },
      "source": [
        "# вектор слова\n",
        "model.wv['старуха'][:10], model2.wv['старуха'][:10]"
      ],
      "execution_count": 59,
      "outputs": [
        {
          "output_type": "execute_result",
          "data": {
            "text/plain": [
              "(array([ 0.00158984, -0.00595314, -0.00605843,  0.00848177, -0.00034839,\n",
              "         0.00706192, -0.00888268, -0.00192542, -0.00676588, -0.0072364 ],\n",
              "       dtype=float32),\n",
              " array([ 0.00158984, -0.00595314, -0.00605843,  0.00848177, -0.00034839,\n",
              "         0.00706192, -0.00888268, -0.00192542, -0.00676588, -0.0072364 ],\n",
              "       dtype=float32))"
            ]
          },
          "metadata": {},
          "execution_count": 59
        }
      ]
    },
    {
      "cell_type": "code",
      "metadata": {
        "colab": {
          "base_uri": "https://localhost:8080/"
        },
        "id": "_5CVjMM-X5R2",
        "outputId": "e1ef2f66-159d-43f6-9166-004ea2159a95"
      },
      "source": [
        "# размерность вектора\n",
        "model.wv['старуха'].shape, model2.wv['старуха'].shape"
      ],
      "execution_count": 60,
      "outputs": [
        {
          "output_type": "execute_result",
          "data": {
            "text/plain": [
              "((100,), (100,))"
            ]
          },
          "metadata": {},
          "execution_count": 60
        }
      ]
    },
    {
      "cell_type": "code",
      "metadata": {
        "colab": {
          "base_uri": "https://localhost:8080/"
        },
        "id": "LK6MminRX5R4",
        "outputId": "97c3604c-e93b-4236-c505-da7473fdc9e9"
      },
      "source": [
        "# похожести слов \n",
        "model.wv.similarity('тварь', 'право'), model2.wv.similarity('тварь', 'право')"
      ],
      "execution_count": 61,
      "outputs": [
        {
          "output_type": "execute_result",
          "data": {
            "text/plain": [
              "(-0.03793418, -0.03793418)"
            ]
          },
          "metadata": {},
          "execution_count": 61
        }
      ]
    },
    {
      "cell_type": "code",
      "metadata": {
        "colab": {
          "base_uri": "https://localhost:8080/"
        },
        "id": "N4V7_I3MX5R4",
        "outputId": "38b2b510-8e19-423d-be8a-04f756c6c235"
      },
      "source": [
        "# самые похожие\n",
        "model.wv.most_similar('топор')"
      ],
      "execution_count": 63,
      "outputs": [
        {
          "output_type": "execute_result",
          "data": {
            "text/plain": [
              "[('выехать', 0.3434045910835266),\n",
              " ('вицмундир', 0.3418233096599579),\n",
              " ('нравиться', 0.3186732232570648),\n",
              " ('капернаум', 0.3163142502307892),\n",
              " ('преступник', 0.3118082284927368),\n",
              " ('случайность', 0.29301321506500244),\n",
              " ('поворотить', 0.2834480106830597),\n",
              " ('обыкновение', 0.2801940143108368),\n",
              " ('буля', 0.27475351095199585),\n",
              " ('поручить', 0.2660590708255768)]"
            ]
          },
          "metadata": {},
          "execution_count": 63
        }
      ]
    },
    {
      "cell_type": "code",
      "metadata": {
        "colab": {
          "base_uri": "https://localhost:8080/"
        },
        "id": "J4dcfSNjX5R5",
        "outputId": "a38ab3b6-aa93-4400-b15e-0f4d8751b334"
      },
      "source": [
        "# арифметика\n",
        "model.wv.most_similar(positive=['раскольников','соня'], \n",
        "                       negative=['тварь'])[:10]"
      ],
      "execution_count": 49,
      "outputs": [
        {
          "output_type": "execute_result",
          "data": {
            "text/plain": [
              "[('съехать', 0.3254740834236145),\n",
              " ('раздражать', 0.3184410631656647),\n",
              " ('линия', 0.31684330105781555),\n",
              " ('покоситься', 0.30329668521881104),\n",
              " ('детски', 0.29883092641830444),\n",
              " ('чашка', 0.29052451252937317),\n",
              " ('вырываться', 0.2874678075313568),\n",
              " ('влево', 0.2853025794029236),\n",
              " ('вызывать', 0.2818695604801178),\n",
              " ('холодно', 0.28120535612106323)]"
            ]
          },
          "metadata": {},
          "execution_count": 49
        }
      ]
    },
    {
      "cell_type": "markdown",
      "metadata": {
        "id": "kgusruzJUXdF"
      },
      "source": [
        "### KeyedVectors\n",
        "\n",
        "**TL;DR:** the main difference is that KeyedVectors do not support further training. On the other hand, by shedding the internal data structures necessary for training, KeyedVectors offer a smaller RAM footprint and a simpler interface.\n",
        "\n",
        "[Source](https://radimrehurek.com/gensim/models/keyedvectors.html#)"
      ]
    },
    {
      "cell_type": "code",
      "metadata": {
        "colab": {
          "base_uri": "https://localhost:8080/"
        },
        "id": "S_jXHBcBQDzu",
        "outputId": "63da1645-dd9a-4027-fa22-2d4be415f9bc"
      },
      "source": [
        "from gensim.models import KeyedVectors\n",
        "\n",
        "# Store just the words + their trained embeddings.\n",
        "word_vectors = model.wv\n",
        "word_vectors.save(\"word2vec.wordvectors\")\n",
        "\n",
        "# Load back with memory-mapping = read-only, shared across processes.\n",
        "wv = KeyedVectors.load(\"word2vec.wordvectors\", mmap='r')\n",
        "\n",
        "vector = wv['раскольников']  # Get numpy vector of a word\n",
        "vector.shape, vector"
      ],
      "execution_count": 70,
      "outputs": [
        {
          "output_type": "execute_result",
          "data": {
            "text/plain": [
              "((100,),\n",
              " array([ 0.0006687 ,  0.00648878,  0.00587001, -0.00017738,  0.0023801 ,\n",
              "        -0.00651387, -0.00936036, -0.00494762, -0.00538789,  0.00058702,\n",
              "        -0.00396823, -0.00036959,  0.00763455,  0.00973569,  0.00787588,\n",
              "         0.00238922, -0.00271333,  0.00243172, -0.00268992, -0.00895014,\n",
              "         0.00689304, -0.00864854,  0.00378768, -0.00395623, -0.00554306,\n",
              "        -0.00104358, -0.00656298,  0.00858411, -0.00687794, -0.00896055,\n",
              "         0.00576626,  0.00446401,  0.00473145,  0.00242694, -0.00372551,\n",
              "        -0.0051173 ,  0.00177215,  0.00834657, -0.00565228, -0.00238244,\n",
              "         0.00184836,  0.00672219, -0.0063974 , -0.00452775, -0.00263857,\n",
              "         0.00133483,  0.00537128,  0.00554937, -0.0087095 ,  0.00727261,\n",
              "        -0.00250222, -0.00284264, -0.00885856, -0.00577508,  0.00944861,\n",
              "         0.00308753, -0.00804277,  0.0028074 , -0.00707276, -0.00905789,\n",
              "         0.00386578,  0.00203697,  0.00125465,  0.00884633,  0.0062607 ,\n",
              "        -0.00507063,  0.00272783,  0.0025451 ,  0.00239783,  0.00833306,\n",
              "        -0.00691342, -0.00229943,  0.00100895,  0.00637776, -0.00064873,\n",
              "         0.00792812, -0.00465192, -0.0090314 , -0.0070541 , -0.00413769,\n",
              "         0.0095833 , -0.00512727, -0.00484836,  0.00817348, -0.00745619,\n",
              "         0.00200976,  0.00571604, -0.00753034, -0.00026298, -0.00236819,\n",
              "         0.00556562, -0.00456045, -0.00660479,  0.00989174, -0.00462315,\n",
              "         0.00760426, -0.00845476,  0.00701734, -0.00338977, -0.00781486],\n",
              "       dtype=float32))"
            ]
          },
          "metadata": {},
          "execution_count": 70
        }
      ]
    },
    {
      "cell_type": "code",
      "metadata": {
        "id": "uDb5MW6AQasZ"
      },
      "source": [
        ""
      ],
      "execution_count": 74,
      "outputs": []
    },
    {
      "cell_type": "markdown",
      "metadata": {
        "id": "V8QbvgviX5R5"
      },
      "source": [
        "## 4. Как дообучить модель? \n",
        "\n",
        "Ради чистоты эксперимента сохраним текущую модель и заново подгрузим её. "
      ]
    },
    {
      "cell_type": "code",
      "metadata": {
        "id": "mJcdqYTCX5R6"
      },
      "source": [
        "model_path = \"./our_w2v.model\"\n",
        "model.save(model_path)"
      ],
      "execution_count": 53,
      "outputs": []
    },
    {
      "cell_type": "code",
      "metadata": {
        "id": "0UHhYr53X5R6"
      },
      "source": [
        "our_model = Word2Vec.load(model_path)"
      ],
      "execution_count": 54,
      "outputs": []
    },
    {
      "cell_type": "markdown",
      "metadata": {
        "id": "Kkha94E3X5R6"
      },
      "source": [
        "Подгрузим другое произведение и сделаем для него предобработку. "
      ]
    },
    {
      "cell_type": "code",
      "metadata": {
        "colab": {
          "base_uri": "https://localhost:8080/"
        },
        "id": "Czo_1hoMX5R6",
        "outputId": "0afe1fd2-ccda-42f6-ac44-cc7be1078f8b"
      },
      "source": [
        "url = 'https://raw.githubusercontent.com/nevmenandr/word2vec-russian-novels/master/vector-school/SkazkaOCareSaltane.txt'\n",
        "\n",
        "resp = requests.get(url)\n",
        "text2 = resp.text \n",
        "\n",
        "# Последние 500 символов. Аккуратно! Спойлеры!\n",
        "print(text2[-500:])"
      ],
      "execution_count": 55,
      "outputs": [
        {
          "output_type": "stream",
          "name": "stdout",
          "text": [
            " узнает...\n",
            "В нем взыграло ретивое!\n",
            "\"Что я вижу? что такое?\n",
            "Как!\" - и дух в нем занялся...\n",
            "Царь слезами залился,\n",
            "Обнимает он царицу,\n",
            "И сынка, и молодицу,\n",
            "\n",
            "\n",
            "\n",
            "И садятся все за стол;\n",
            "И веселый пир пошел.\n",
            "А ткачиха с поварихой,\n",
            "С сватьей бабой Бабарихой\n",
            "Разбежались по углам;\n",
            "Их нашли насилу там.\n",
            "Тут во всем они признались,\n",
            "Повинились, разрыдались;\n",
            "Царь для радости такой\n",
            "Отпустил всех трех домой.\n",
            "День прошел - царя Салтана\n",
            "Уложили спать вполпьяна.\n",
            "Я там был; мед, пиво пил -\n",
            "И усы лишь обмочил.\n",
            "\n",
            "1831\n",
            "\n",
            "\n"
          ]
        }
      ]
    },
    {
      "cell_type": "markdown",
      "metadata": {
        "id": "0-SrQ-rnX5R7"
      },
      "source": [
        "Предобработка."
      ]
    },
    {
      "cell_type": "code",
      "metadata": {
        "id": "vm_SNxg-X5R7"
      },
      "source": [
        "# А теперь ваш код предобработки\n"
      ],
      "execution_count": null,
      "outputs": []
    },
    {
      "cell_type": "code",
      "metadata": {
        "id": "ZYG1iPQoX5R8"
      },
      "source": [
        "sents_tokenize2[10]"
      ],
      "execution_count": null,
      "outputs": []
    },
    {
      "cell_type": "code",
      "metadata": {
        "id": "N-fZ6JhCX5R8"
      },
      "source": [
        "len(sents_tokenize2)"
      ],
      "execution_count": null,
      "outputs": []
    },
    {
      "cell_type": "markdown",
      "metadata": {
        "id": "kUsAhqb0X5R8"
      },
      "source": [
        "Дополняем модель."
      ]
    },
    {
      "cell_type": "code",
      "metadata": {
        "id": "MLhmug1mX5R8"
      },
      "source": [
        "# И теперь ваш код обучения"
      ],
      "execution_count": null,
      "outputs": []
    },
    {
      "cell_type": "code",
      "metadata": {
        "id": "4R4jwndmX5R8"
      },
      "source": [
        "'ядро' in model.wv.vocab"
      ],
      "execution_count": null,
      "outputs": []
    },
    {
      "cell_type": "code",
      "metadata": {
        "id": "jn2SRWBRX5R9"
      },
      "source": [
        "'ядро' in our_model.wv.vocab"
      ],
      "execution_count": null,
      "outputs": []
    },
    {
      "cell_type": "code",
      "metadata": {
        "id": "7xhLv-wPX5R9"
      },
      "source": [
        "our_model.wv.most_similar('ядро')"
      ],
      "execution_count": null,
      "outputs": []
    },
    {
      "cell_type": "markdown",
      "metadata": {
        "id": "VxSLPmxKX5R9"
      },
      "source": [
        "Пример со старым словом."
      ]
    },
    {
      "cell_type": "code",
      "metadata": {
        "id": "AThOHD0GX5R9"
      },
      "source": [
        "our_model.wv.most_similar('сын')"
      ],
      "execution_count": null,
      "outputs": []
    },
    {
      "cell_type": "code",
      "metadata": {
        "id": "WF2Q35ViX5R9"
      },
      "source": [
        "model.wv.most_similar('сын')"
      ],
      "execution_count": null,
      "outputs": []
    },
    {
      "cell_type": "markdown",
      "metadata": {
        "id": "wVHk4adVX5R-"
      },
      "source": [
        "  "
      ]
    }
  ]
}